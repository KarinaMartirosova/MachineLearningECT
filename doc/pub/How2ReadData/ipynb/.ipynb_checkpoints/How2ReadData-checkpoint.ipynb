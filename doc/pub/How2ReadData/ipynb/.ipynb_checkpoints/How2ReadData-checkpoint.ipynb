{
 "cells": [
  {
   "cell_type": "markdown",
   "metadata": {},
   "source": [
    "<!-- dom:TITLE: Data Analysis and Machine Learning: Getting started, our first data and Machine Learning encounters -->\n",
    "# Data Analysis and Machine Learning: Getting started, our first data and Machine Learning encounters\n",
    "<!-- dom:AUTHOR: Morten Hjorth-Jensen at Department of Physics, University of Oslo & Department of Physics and Astronomy and National Superconducting Cyclotron Laboratory, Michigan State University -->\n",
    "<!-- Author: -->  \n",
    "**Morten Hjorth-Jensen**, Department of Physics, University of Oslo and Department of Physics and Astronomy and National Superconducting Cyclotron Laboratory, Michigan State University\n",
    "\n",
    "Date: **May 17, 2020**\n",
    "\n",
    "Copyright 1999-2020, Morten Hjorth-Jensen. Released under CC Attribution-NonCommercial 4.0 license\n",
    "\n",
    "\n",
    "\n",
    "\n",
    "\n",
    "\n",
    "## Introduction\n",
    "\n",
    "Our emphasis throughout this series of lectures  \n",
    "is on understanding the mathematical aspects of\n",
    "different algorithms used in the fields of data analysis and machine learning. \n",
    "\n",
    "However, where possible we will emphasize the\n",
    "importance of using available software. We start thus with a hands-on\n",
    "and top-down approach to machine learning. The aim is thus to start with\n",
    "relevant data or data we have produced \n",
    "and use these to introduce statistical data analysis\n",
    "concepts and machine learning algorithms before we delve into the\n",
    "algorithms themselves. The examples we will use in the beginning, start with simple\n",
    "polynomials with random noise added. We will use the Python\n",
    "software package [Scikit-Learn](http://scikit-learn.org/stable/) and\n",
    "introduce various machine learning algorithms to make fits of\n",
    "the data and predictions. We move thereafter to more interesting\n",
    "cases such as data from say experiments (below we will look at experimental nuclear binding energies as an example).\n",
    "These are examples where we can easily set up the data and\n",
    "then use machine learning algorithms included in for example\n",
    "**Scikit-Learn**. \n",
    "\n",
    "These examples will serve us the purpose of getting\n",
    "started. Furthermore, they allow us to catch more than two birds with\n",
    "a stone. They will allow us to bring in some programming specific\n",
    "topics and tools as well as showing the power of various Python \n",
    "libraries for machine learning and statistical data analysis.  \n",
    "\n",
    "Here, we will mainly focus on two\n",
    "specific Python packages for Machine Learning, Scikit-Learn and\n",
    "Tensorflow (see below for links etc).  Moreover, the examples we\n",
    "introduce will serve as inputs to many of our discussions later, as\n",
    "well as allowing you to set up models and produce your own data and\n",
    "get started with programming.\n",
    "\n",
    "\n",
    "\n",
    "## What is Machine Learning?\n",
    "\n",
    "Statistics, data science and machine learning form important fields of\n",
    "research in modern science.  They describe how to learn and make\n",
    "predictions from data, as well as allowing us to extract important\n",
    "correlations about physical process and the underlying laws of motion\n",
    "in large data sets. The latter, big data sets, appear frequently in\n",
    "essentially all disciplines, from the traditional Science, Technology,\n",
    "Mathematics and Engineering fields to Life Science, Law, education\n",
    "research, the Humanities and the Social Sciences. \n",
    "\n",
    "It has become more\n",
    "and more common to see research projects on big data in for example\n",
    "the Social Sciences where extracting patterns from complicated survey\n",
    "data is one of many research directions.  Having a solid grasp of data\n",
    "analysis and machine learning is thus becoming central to scientific\n",
    "computing in many fields, and competences and skills within the fields\n",
    "of machine learning and scientific computing are nowadays strongly\n",
    "requested by many potential employers. The latter cannot be\n",
    "overstated, familiarity with machine learning has almost become a\n",
    "prerequisite for many of the most exciting employment opportunities,\n",
    "whether they are in bioinformatics, life science, physics or finance,\n",
    "in the private or the public sector. This author has had several\n",
    "students or met students who have been hired recently based on their\n",
    "skills and competences in scientific computing and data science, often\n",
    "with marginal knowledge of machine learning.\n",
    "\n",
    "Machine learning is a subfield of computer science, and is closely\n",
    "related to computational statistics.  It evolved from the study of\n",
    "pattern recognition in artificial intelligence (AI) research, and has\n",
    "made contributions to AI tasks like computer vision, natural language\n",
    "processing and speech recognition. Many of the methods we will study are also \n",
    "strongly rooted in basic mathematics and physics research. \n",
    "\n",
    "Ideally, machine learning represents the science of giving computers\n",
    "the ability to learn without being explicitly programmed.  The idea is\n",
    "that there exist generic algorithms which can be used to find patterns\n",
    "in a broad class of data sets without having to write code\n",
    "specifically for each problem. The algorithm will build its own logic\n",
    "based on the data.  You should however always keep in mind that\n",
    "machines and algorithms are to a large extent developed by humans. The\n",
    "insights and knowledge we have about a specific system, play a central\n",
    "role when we develop a specific machine learning algorithm. \n",
    "\n",
    "Machine learning is an extremely rich field, in spite of its young\n",
    "age. The increases we have seen during the last three decades in\n",
    "computational capabilities have been followed by developments of\n",
    "methods and techniques for analyzing and handling large date sets,\n",
    "relying heavily on statistics, computer science and mathematics.  The\n",
    "field is rather new and developing rapidly. Popular software packages\n",
    "written in Python for machine learning like\n",
    "[Scikit-learn](http://scikit-learn.org/stable/),\n",
    "[Tensorflow](https://www.tensorflow.org/),\n",
    "[PyTorch](http://pytorch.org/) and [Keras](https://keras.io/), all\n",
    "freely available at their respective GitHub sites, encompass\n",
    "communities of developers in the thousands or more. And the number of\n",
    "code developers and contributors keeps increasing. Not all the\n",
    "algorithms and methods can be given a rigorous mathematical\n",
    "justification, opening up thereby large rooms for experimenting and\n",
    "trial and error and thereby exciting new developments.  However, a\n",
    "solid command of linear algebra, multivariate theory, probability\n",
    "theory, statistical data analysis, understanding errors and Monte\n",
    "Carlo methods are central elements in a proper understanding of many\n",
    "of algorithms and methods we will discuss.\n",
    "\n",
    "\n",
    "\n",
    "## Types of Machine Learning\n",
    "\n",
    "\n",
    "The approaches to machine learning are many, but are often split into\n",
    "two main categories.  In *supervised learning* we know the answer to a\n",
    "problem, and let the computer deduce the logic behind it. On the other\n",
    "hand, *unsupervised learning* is a method for finding patterns and\n",
    "relationship in data sets without any prior knowledge of the system.\n",
    "Some authours also operate with a third category, namely\n",
    "*reinforcement learning*. This is a paradigm of learning inspired by\n",
    "behavioral psychology, where learning is achieved by trial-and-error,\n",
    "solely from rewards and punishment.\n",
    "\n",
    "Another way to categorize machine learning tasks is to consider the\n",
    "desired output of a system.  Some of the most common tasks are:\n",
    "\n",
    "  * Classification: Outputs are divided into two or more classes. The goal is to   produce a model that assigns inputs into one of these classes. An example is to identify  digits based on pictures of hand-written ones. Classification is typically supervised learning.\n",
    "\n",
    "  * Regression: Finding a functional relationship between an input data set and a reference data set.   The goal is to construct a function that maps input data to continuous output values.\n",
    "\n",
    "  * Clustering: Data are divided into groups with certain common traits, without knowing the different groups beforehand.  It is thus a form of unsupervised learning.\n",
    "\n",
    "The methods we cover have three main topics in common, irrespective of\n",
    "whether we deal with supervised or unsupervised learning. The first\n",
    "ingredient is normally our data set (which can be subdivided into\n",
    "training and test data), the second item is a model which is normally a\n",
    "function of some parameters.  The model reflects our knowledge of the system (or lack thereof). As an example, if we know that our data show a behavior similar to what would be predicted by a polynomial, fitting our data to a polynomial of some degree would then determin our model. \n",
    "\n",
    "The last ingredient is a so-called **cost**\n",
    "function which allows us to present an estimate on how good our model\n",
    "is in reproducing the data it is supposed to train.  \n",
    "At the heart of basically all ML algorithms there are so-called minimization algorithms, often we end up with various variants of **gradient** methods.\n",
    "\n",
    "\n",
    "\n",
    "\n",
    "\n",
    "\n",
    "\n",
    "## Software and needed installations\n",
    "\n",
    "We will make extensive use of Python as programming language and its\n",
    "myriad of available libraries.  You will find\n",
    "Jupyter notebooks invaluable in your work.  You can run **R**\n",
    "codes in the Jupyter/IPython notebooks, with the immediate benefit of\n",
    "visualizing your data. You can also use compiled languages like C++,\n",
    "Rust, Julia, Fortran etc if you prefer. The focus in these lectures will be\n",
    "on Python.\n",
    "\n",
    "\n",
    "If you have Python installed (we strongly recommend Python3) and you feel\n",
    "pretty familiar with installing different packages, we recommend that\n",
    "you install the following Python packages via **pip** as \n",
    "\n",
    "1. pip install numpy scipy matplotlib ipython scikit-learn mglearn sympy pandas pillow \n",
    "\n",
    "For Python3, replace **pip** with **pip3**.\n",
    "\n",
    "For OSX users we recommend, after having installed Xcode, to\n",
    "install **brew**. Brew allows for a seamless installation of additional\n",
    "software via for example \n",
    "\n",
    "1. brew install python3\n",
    "\n",
    "For Linux users, with its variety of distributions like for example the widely popular Ubuntu distribution,\n",
    "you can use **pip** as well and simply install Python as \n",
    "\n",
    "1. sudo apt-get install python3  (or python for pyhton2.7)\n",
    "\n",
    "etc etc. \n",
    "\n",
    "\n",
    "\n",
    "## Python installers\n",
    "\n",
    "If you don't want to perform these operations separately and venture\n",
    "into the hassle of exploring how to set up dependencies and paths, we\n",
    "recommend two widely used distrubutions which set up all relevant\n",
    "dependencies for Python, namely \n",
    "\n",
    "* [Anaconda](https://docs.anaconda.com/), \n",
    "\n",
    "which is an open source\n",
    "distribution of the Python and R programming languages for large-scale\n",
    "data processing, predictive analytics, and scientific computing, that\n",
    "aims to simplify package management and deployment. Package versions\n",
    "are managed by the package management system **conda**. \n",
    "\n",
    "* [Enthought canopy](https://www.enthought.com/product/canopy/) \n",
    "\n",
    "is a Python\n",
    "distribution for scientific and analytic computing distribution and\n",
    "analysis environment, available for free and under a commercial\n",
    "license.\n",
    "\n",
    "Furthermore, [Google's Colab](https://colab.research.google.com/notebooks/welcome.ipynb) is a free Jupyter notebook environment that requires \n",
    "no setup and runs entirely in the cloud. Try it out!\n",
    "\n",
    "## Useful Python libraries\n",
    "Here we list several useful Python libraries we strongly recommend (if you use anaconda many of these are already there)\n",
    "\n",
    "* [NumPy](https://www.numpy.org/) is a highly popular library for large, multi-dimensional arrays and matrices, along with a large collection of high-level mathematical functions to operate on these arrays\n",
    "\n",
    "* [The pandas](https://pandas.pydata.org/) library provides high-performance, easy-to-use data structures and data analysis tools \n",
    "\n",
    "* [Xarray](http://xarray.pydata.org/en/stable/) is a Python package that makes working with labelled multi-dimensional arrays simple, efficient, and fun!\n",
    "\n",
    "* [Scipy](https://www.scipy.org/) (pronounced “Sigh Pie”) is a Python-based ecosystem of open-source software for mathematics, science, and engineering. \n",
    "\n",
    "* [Matplotlib](https://matplotlib.org/) is a Python 2D plotting library which produces publication quality figures in a variety of hardcopy formats and interactive environments across platforms.\n",
    "\n",
    "* [Autograd](https://github.com/HIPS/autograd) can automatically differentiate native Python and Numpy code. It can handle a large subset of Python's features, including loops, ifs, recursion and closures, and it can even take derivatives of derivatives of derivatives\n",
    "\n",
    "* [SymPy](https://www.sympy.org/en/index.html) is a Python library for symbolic mathematics. \n",
    "\n",
    "* [scikit-learn](https://scikit-learn.org/stable/) has simple and efficient tools for machine learning, data mining and data analysis\n",
    "\n",
    "* [TensorFlow](https://www.tensorflow.org/) is a Python library for fast numerical computing created and released by Google\n",
    "\n",
    "* [Keras](https://keras.io/) is a high-level neural networks API, written in Python and capable of running on top of TensorFlow, CNTK, or Theano\n",
    "\n",
    "* And many more such as [pytorch](https://pytorch.org/),  [Theano](https://pypi.org/project/Theano/) etc \n",
    "\n",
    "## Installing R, C++, cython or Julia\n",
    "\n",
    "You will also find it convenient to utilize **R**. We will mainly\n",
    "use Python during our lectures and in various projects and exercises.\n",
    "Those of you\n",
    "already familiar with **R** should feel free to continue using **R**, keeping\n",
    "however an eye on the parallel Python set ups. Similarly, if you are a\n",
    "Python afecionado, feel free to explore **R** as well.  Jupyter/Ipython\n",
    "notebook allows you to run **R** codes interactively in your\n",
    "browser. The software library **R** is really tailored  for statistical data analysis\n",
    "and allows for an easy usage of the tools and algorithms we will discuss in these\n",
    "lectures.\n",
    "\n",
    "To install **R** with Jupyter notebook \n",
    "[follow the link here](https://mpacer.org/maths/r-kernel-for-ipython-notebook)\n",
    "\n",
    "\n",
    "\n",
    "\n",
    "## Installing R, C++, cython, Numba etc\n",
    "\n",
    "\n",
    "For the C++ aficionados, Jupyter/IPython notebook allows you also to\n",
    "install C++ and run codes written in this language interactively in\n",
    "the browser. Since we will emphasize writing many of the algorithms\n",
    "yourself, you can thus opt for either Python or C++ (or Fortran or other compiled languages) as programming\n",
    "languages.\n",
    "\n",
    "To add more entropy, **cython** can also be used when running your\n",
    "notebooks. It means that Python with the jupyter notebook\n",
    "setup allows you to integrate widely popular softwares and tools for\n",
    "scientific computing. Similarly, the \n",
    "[Numba Python package](https://numba.pydata.org/) delivers increased performance\n",
    "capabilities with minimal rewrites of your codes.  With its\n",
    "versatility, including symbolic operations, Python offers a unique\n",
    "computational environment. Your jupyter notebook can easily be\n",
    "converted into a nicely rendered **PDF** file or a Latex file for\n",
    "further processing. For example, convert to latex as"
   ]
  },
  {
   "cell_type": "markdown",
   "metadata": {},
   "source": [
    "        pycod jupyter nbconvert filename.ipynb --to latex \n"
   ]
  },
  {
   "cell_type": "markdown",
   "metadata": {},
   "source": [
    "And to add more versatility, the Python package [SymPy](http://www.sympy.org/en/index.html) is a Python library for symbolic mathematics. It aims to become a full-featured computer algebra system (CAS)  and is entirely written in Python. \n",
    "\n",
    "Finally, if you wish to use the light mark-up language \n",
    "[doconce](https://github.com/hplgit/doconce) you can convert a standard ascii text file into various HTML \n",
    "formats, ipython notebooks, latex files, pdf files etc with minimal edits. These lectures were generated using **doconce**.\n",
    "\n",
    "\n",
    "\n",
    "## Numpy examples and Important Matrix and vector handling packages\n",
    "\n",
    "There are several central software libraries for linear algebra and eigenvalue problems. Several of the more\n",
    "popular ones have been wrapped into ofter software packages like those from the widely used text **Numerical Recipes**. The original source codes in many of the available packages are often taken from the widely used\n",
    "software package LAPACK, which follows two other popular packages\n",
    "developed in the 1970s, namely EISPACK and LINPACK.  We describe them shortly here.\n",
    "\n",
    "  * LINPACK: package for linear equations and least square problems.\n",
    "\n",
    "  * LAPACK:package for solving symmetric, unsymmetric and generalized eigenvalue problems. From LAPACK's website <http://www.netlib.org> it is possible to download for free all source codes from this library. Both C/C++ and Fortran versions are available.\n",
    "\n",
    "  * BLAS (I, II and III): (Basic Linear Algebra Subprograms) are routines that provide standard building blocks for performing basic vector and matrix operations. Blas I is vector operations, II vector-matrix operations and III matrix-matrix operations. Highly parallelized and efficient codes, all available for download from <http://www.netlib.org>.\n",
    "\n",
    "## Basic Matrix Features\n",
    "\n",
    "**Matrix properties reminder.**"
   ]
  },
  {
   "cell_type": "markdown",
   "metadata": {},
   "source": [
    "$$\n",
    "\\mathbf{A} =\n",
    "      \\begin{bmatrix} a_{11} & a_{12} & a_{13} & a_{14} \\\\\n",
    "                                 a_{21} & a_{22} & a_{23} & a_{24} \\\\\n",
    "                                   a_{31} & a_{32} & a_{33} & a_{34} \\\\\n",
    "                                  a_{41} & a_{42} & a_{43} & a_{44}\n",
    "             \\end{bmatrix}\\qquad\n",
    "\\mathbf{I} =\n",
    "      \\begin{bmatrix} 1 & 0 & 0 & 0 \\\\\n",
    "                                 0 & 1 & 0 & 0 \\\\\n",
    "                                 0 & 0 & 1 & 0 \\\\\n",
    "                                 0 & 0 & 0 & 1\n",
    "             \\end{bmatrix}\n",
    "$$"
   ]
  },
  {
   "cell_type": "markdown",
   "metadata": {},
   "source": [
    "The inverse of a matrix is defined by"
   ]
  },
  {
   "cell_type": "markdown",
   "metadata": {},
   "source": [
    "$$\n",
    "\\mathbf{A}^{-1} \\cdot \\mathbf{A} = I\n",
    "$$"
   ]
  },
  {
   "cell_type": "markdown",
   "metadata": {},
   "source": [
    "<table border=\"1\">\n",
    "<thead>\n",
    "<tr><th align=\"center\">              Relations               </th> <th align=\"center\">      Name     </th> <th align=\"center\">                            matrix elements                            </th> </tr>\n",
    "</thead>\n",
    "<tbody>\n",
    "<tr><td align=\"center\">   $A = A^{T}$                               </td> <td align=\"center\">   symmetric          </td> <td align=\"center\">   $a_{ij} = a_{ji}$                                                          </td> </tr>\n",
    "<tr><td align=\"center\">   $A = \\left (A^{T} \\right )^{-1}$          </td> <td align=\"center\">   real orthogonal    </td> <td align=\"center\">   $\\sum_k a_{ik} a_{jk} = \\sum_k a_{ki} a_{kj} = \\delta_{ij}$                </td> </tr>\n",
    "<tr><td align=\"center\">   $A = A^{ * }$                             </td> <td align=\"center\">   real matrix        </td> <td align=\"center\">   $a_{ij} = a_{ij}^{ * }$                                                    </td> </tr>\n",
    "<tr><td align=\"center\">   $A = A^{\\dagger}$                         </td> <td align=\"center\">   hermitian          </td> <td align=\"center\">   $a_{ij} = a_{ji}^{ * }$                                                    </td> </tr>\n",
    "<tr><td align=\"center\">   $A = \\left (A^{\\dagger} \\right )^{-1}$    </td> <td align=\"center\">   unitary            </td> <td align=\"center\">   $\\sum_k a_{ik} a_{jk}^{ * } = \\sum_k a_{ki}^{ * } a_{kj} = \\delta_{ij}$    </td> </tr>\n",
    "</tbody>\n",
    "</table>\n",
    "\n",
    "\n",
    "\n",
    "\n",
    "### Some famous Matrices\n",
    "\n",
    "  * Diagonal if $a_{ij}=0$ for $i\\ne j$\n",
    "\n",
    "  * Upper triangular if $a_{ij}=0$ for $i > j$\n",
    "\n",
    "  * Lower triangular if $a_{ij}=0$ for $i < j$\n",
    "\n",
    "  * Upper Hessenberg if $a_{ij}=0$ for $i > j+1$\n",
    "\n",
    "  * Lower Hessenberg if $a_{ij}=0$ for $i < j+1$\n",
    "\n",
    "  * Tridiagonal if $a_{ij}=0$ for $|i -j| > 1$\n",
    "\n",
    "  * Lower banded with bandwidth $p$: $a_{ij}=0$ for $i > j+p$\n",
    "\n",
    "  * Upper banded with bandwidth $p$: $a_{ij}=0$ for $i < j+p$\n",
    "\n",
    "  * Banded, block upper triangular, block lower triangular....\n",
    "\n",
    "### More Basic Matrix Features\n",
    "\n",
    "**Some Equivalent Statements.**\n",
    "\n",
    "For an $N\\times N$ matrix  $\\mathbf{A}$ the following properties are all equivalent\n",
    "\n",
    "  * If the inverse of $\\mathbf{A}$ exists, $\\mathbf{A}$ is nonsingular.\n",
    "\n",
    "  * The equation $\\mathbf{Ax}=0$ implies $\\mathbf{x}=0$.\n",
    "\n",
    "  * The rows of $\\mathbf{A}$ form a basis of $R^N$.\n",
    "\n",
    "  * The columns of $\\mathbf{A}$ form a basis of $R^N$.\n",
    "\n",
    "  * $\\mathbf{A}$ is a product of elementary matrices.\n",
    "\n",
    "  * $0$ is not eigenvalue of $\\mathbf{A}$.\n",
    "\n",
    "\n",
    "\n",
    "\n",
    "## Numpy and arrays\n",
    "[Numpy](http://www.numpy.org/) provides an easy way to handle arrays in Python. The standard way to import this library is as"
   ]
  },
  {
   "cell_type": "code",
<<<<<<< HEAD
   "execution_count": 1,
=======
   "execution_count": 51,
>>>>>>> 1cec7587fa819aac109c52d92c370d3d5bcd5c05
   "metadata": {},
   "outputs": [],
   "source": [
    "import numpy as np"
   ]
  },
  {
   "cell_type": "markdown",
   "metadata": {},
   "source": [
    "Here follows a simple example where we set up an array of ten elements, all determined by random numbers drawn according to the normal distribution,"
   ]
  },
  {
   "cell_type": "code",
<<<<<<< HEAD
   "execution_count": 2,
=======
   "execution_count": 52,
>>>>>>> 1cec7587fa819aac109c52d92c370d3d5bcd5c05
   "metadata": {},
   "outputs": [
    {
     "name": "stdout",
     "output_type": "stream",
     "text": [
<<<<<<< HEAD
      "[ 0.6627398  -0.54330395  0.56436289  1.18907177  1.92263831  0.94207128\n",
      " -1.45017597 -1.00025698 -0.10716515  0.24013487]\n"
=======
      "[-1.09066449  1.27979249  0.31467866 -0.60914135  0.67913593  0.24160808\n",
      "  0.11050247  0.89689967 -1.49316564  0.50349619]\n"
>>>>>>> 1cec7587fa819aac109c52d92c370d3d5bcd5c05
     ]
    }
   ],
   "source": [
    "n = 10\n",
    "x = np.random.normal(size=n)\n",
    "print(x)"
   ]
  },
  {
   "cell_type": "markdown",
   "metadata": {},
   "source": [
    "We defined a vector $x$ with $n=10$ elements with its values given by the Normal distribution $N(0,1)$.\n",
    "Another alternative is to declare a vector as follows"
   ]
  },
  {
   "cell_type": "code",
<<<<<<< HEAD
   "execution_count": 3,
=======
   "execution_count": 53,
>>>>>>> 1cec7587fa819aac109c52d92c370d3d5bcd5c05
   "metadata": {},
   "outputs": [
    {
     "name": "stdout",
     "output_type": "stream",
     "text": [
      "[1 2 3]\n"
     ]
    }
   ],
   "source": [
    "import numpy as np\n",
    "x = np.array([1, 2, 3])\n",
    "print(x)"
   ]
  },
  {
   "cell_type": "markdown",
   "metadata": {},
   "source": [
    "Here we have defined a vector with three elements, with $x_0=1$, $x_1=2$ and $x_2=3$. Note that both Python and C++\n",
    "start numbering array elements from $0$ and on. This means that a vector with $n$ elements has a sequence of entities $x_0, x_1, x_2, \\dots, x_{n-1}$. We could also let (recommended) Numpy to compute the logarithms of a specific array as"
   ]
  },
  {
   "cell_type": "code",
<<<<<<< HEAD
   "execution_count": 4,
=======
   "execution_count": 54,
>>>>>>> 1cec7587fa819aac109c52d92c370d3d5bcd5c05
   "metadata": {},
   "outputs": [
    {
     "name": "stdout",
     "output_type": "stream",
     "text": [
      "[1.38629436 1.94591015 2.07944154]\n"
     ]
    }
   ],
   "source": [
    "import numpy as np\n",
    "x = np.log(np.array([4, 7, 8]))\n",
    "print(x)"
   ]
  },
  {
   "cell_type": "markdown",
   "metadata": {},
   "source": [
    "In the last example we used Numpy's unary function $np.log$. This function is\n",
    "highly tuned to compute array elements since the code is vectorized\n",
    "and does not require looping. We normaly recommend that you use the\n",
    "Numpy intrinsic functions instead of the corresponding **log** function\n",
    "from Python's **math** module. The looping is done explicitely by the\n",
    "**np.log** function. The alternative, and slower way to compute the\n",
    "logarithms of a vector would be to write"
   ]
  },
  {
   "cell_type": "code",
<<<<<<< HEAD
   "execution_count": 5,
=======
   "execution_count": 55,
>>>>>>> 1cec7587fa819aac109c52d92c370d3d5bcd5c05
   "metadata": {},
   "outputs": [
    {
     "name": "stdout",
     "output_type": "stream",
     "text": [
      "[1 1 2]\n"
     ]
    }
   ],
   "source": [
    "import numpy as np\n",
    "from math import log\n",
    "x = np.array([4, 7, 8])\n",
    "for i in range(0, len(x)):\n",
    "    x[i] = log(x[i])\n",
    "print(x)"
   ]
  },
  {
   "cell_type": "markdown",
   "metadata": {},
   "source": [
    "We note that our code is much longer already and we need to import the **log** function from the **math** module. \n",
    "The attentive reader will also notice that the output is $[1, 1, 2]$. Python interprets automagically our numbers as integers (like the **automatic** keyword in C++). To change this we could define our array elements to be double precision numbers as"
   ]
  },
  {
   "cell_type": "code",
<<<<<<< HEAD
   "execution_count": 6,
=======
   "execution_count": 56,
>>>>>>> 1cec7587fa819aac109c52d92c370d3d5bcd5c05
   "metadata": {},
   "outputs": [
    {
     "name": "stdout",
     "output_type": "stream",
     "text": [
      "[1.38629436 1.94591015 2.07944154]\n"
     ]
    }
   ],
   "source": [
    "import numpy as np\n",
    "x = np.log(np.array([4, 7, 8], dtype = np.float64))\n",
    "print(x)"
   ]
  },
  {
   "cell_type": "markdown",
   "metadata": {},
   "source": [
    "or simply write them as double precision numbers (Python uses 64 bits as default for floating point type variables), that is"
   ]
  },
  {
   "cell_type": "code",
<<<<<<< HEAD
   "execution_count": 7,
=======
   "execution_count": 57,
>>>>>>> 1cec7587fa819aac109c52d92c370d3d5bcd5c05
   "metadata": {},
   "outputs": [
    {
     "ename": "SyntaxError",
<<<<<<< HEAD
     "evalue": "invalid syntax (<ipython-input-7-f6d7a289d493>, line 3)",
     "output_type": "error",
     "traceback": [
      "\u001b[0;36m  File \u001b[0;32m\"<ipython-input-7-f6d7a289d493>\"\u001b[0;36m, line \u001b[0;32m3\u001b[0m\n\u001b[0;31m    print(x)\u001b[0m\n\u001b[0m        ^\u001b[0m\n\u001b[0;31mSyntaxError\u001b[0m\u001b[0;31m:\u001b[0m invalid syntax\n"
=======
     "evalue": "invalid syntax (<ipython-input-57-f6d7a289d493>, line 3)",
     "output_type": "error",
     "traceback": [
      "\u001b[0;36m  File \u001b[0;32m\"<ipython-input-57-f6d7a289d493>\"\u001b[0;36m, line \u001b[0;32m3\u001b[0m\n\u001b[0;31m    print(x)\u001b[0m\n\u001b[0m        ^\u001b[0m\n\u001b[0;31mSyntaxError\u001b[0m\u001b[0;31m:\u001b[0m invalid syntax\n"
>>>>>>> 1cec7587fa819aac109c52d92c370d3d5bcd5c05
     ]
    }
   ],
   "source": [
    "import numpy as np\n",
    "x = np.log(np.array([4.0, 7.0, 8.0])\n",
    "print(x)"
   ]
  },
  {
   "cell_type": "markdown",
   "metadata": {},
   "source": [
    "To check the number of bytes (remember that one byte contains eight bits for double precision variables), you can use simple use the **itemsize** functionality (the array $x$ is actually an object which inherits the functionalities defined in Numpy) as"
   ]
  },
  {
   "cell_type": "code",
<<<<<<< HEAD
   "execution_count": 8,
   "metadata": {},
   "outputs": [
    {
     "ename": "SyntaxError",
     "evalue": "invalid syntax (<ipython-input-8-dd5f25b1b838>, line 3)",
     "output_type": "error",
     "traceback": [
      "\u001b[0;36m  File \u001b[0;32m\"<ipython-input-8-dd5f25b1b838>\"\u001b[0;36m, line \u001b[0;32m3\u001b[0m\n\u001b[0;31m    print(x.itemsize)\u001b[0m\n\u001b[0m        ^\u001b[0m\n\u001b[0;31mSyntaxError\u001b[0m\u001b[0;31m:\u001b[0m invalid syntax\n"
     ]
    }
   ],
=======
   "execution_count": null,
   "metadata": {},
   "outputs": [],
>>>>>>> 1cec7587fa819aac109c52d92c370d3d5bcd5c05
   "source": [
    "import numpy as np\n",
    "x = np.log(np.array([4.0, 7.0, 8.0])\n",
    "print(x.itemsize)"
   ]
  },
  {
   "cell_type": "markdown",
   "metadata": {},
   "source": [
    "## Matrices in Python\n",
    "\n",
    "Having defined vectors, we are now ready to try out matrices. We can\n",
    "define a $3 \\times 3 $ real matrix $\\hat{A}$ as (recall that we user\n",
    "lowercase letters for vectors and uppercase letters for matrices)"
   ]
  },
  {
   "cell_type": "code",
<<<<<<< HEAD
   "execution_count": 9,
=======
   "execution_count": 58,
>>>>>>> 1cec7587fa819aac109c52d92c370d3d5bcd5c05
   "metadata": {},
   "outputs": [
    {
     "name": "stdout",
     "output_type": "stream",
     "text": [
      "[[1.38629436 1.94591015 2.07944154]\n",
      " [1.09861229 2.30258509 2.39789527]\n",
      " [1.38629436 1.60943791 1.94591015]]\n"
     ]
    }
   ],
   "source": [
    "import numpy as np\n",
    "A = np.log(np.array([ [4.0, 7.0, 8.0], [3.0, 10.0, 11.0], [4.0, 5.0, 7.0] ]))\n",
    "print(A)"
   ]
  },
  {
   "cell_type": "markdown",
   "metadata": {},
   "source": [
    "If we use the **shape** function we would get $(3, 3)$ as output, that is verifying that our matrix is a $3\\times 3$ matrix. We can slice the matrix and print for example the first column (Python organized matrix elements in a row-major order, see below) as"
   ]
  },
  {
   "cell_type": "code",
<<<<<<< HEAD
   "execution_count": 10,
=======
   "execution_count": 59,
>>>>>>> 1cec7587fa819aac109c52d92c370d3d5bcd5c05
   "metadata": {},
   "outputs": [
    {
     "name": "stdout",
     "output_type": "stream",
     "text": [
      "[1.38629436 1.09861229 1.38629436]\n"
     ]
    }
   ],
   "source": [
    "import numpy as np\n",
    "A = np.log(np.array([ [4.0, 7.0, 8.0], [3.0, 10.0, 11.0], [4.0, 5.0, 7.0] ]))\n",
    "# print the first column, row-major order and elements start with 0\n",
    "print(A[:,0])"
   ]
  },
  {
   "cell_type": "markdown",
   "metadata": {},
   "source": [
    "We can continue this was by printing out other columns or rows. The example here prints out the second column"
   ]
  },
  {
   "cell_type": "code",
<<<<<<< HEAD
   "execution_count": 11,
=======
   "execution_count": 60,
>>>>>>> 1cec7587fa819aac109c52d92c370d3d5bcd5c05
   "metadata": {},
   "outputs": [
    {
     "name": "stdout",
     "output_type": "stream",
     "text": [
      "[1.09861229 2.30258509 2.39789527]\n"
     ]
    }
   ],
   "source": [
    "import numpy as np\n",
    "A = np.log(np.array([ [4.0, 7.0, 8.0], [3.0, 10.0, 11.0], [4.0, 5.0, 7.0] ]))\n",
    "# print the first column, row-major order and elements start with 0\n",
    "print(A[1,:])"
   ]
  },
  {
   "cell_type": "markdown",
   "metadata": {},
   "source": [
    "Numpy contains many other functionalities that allow us to slice, subdivide etc etc arrays. We strongly recommend that you look up the [Numpy website for more details](http://www.numpy.org/). Useful functions when defining a matrix are the **np.zeros** function which declares a matrix of a given dimension and sets all elements to zero"
   ]
  },
  {
   "cell_type": "code",
<<<<<<< HEAD
   "execution_count": 12,
=======
   "execution_count": 61,
>>>>>>> 1cec7587fa819aac109c52d92c370d3d5bcd5c05
   "metadata": {},
   "outputs": [
    {
     "name": "stdout",
     "output_type": "stream",
     "text": [
      "[[0. 0. 0. 0. 0. 0. 0. 0. 0. 0.]\n",
      " [0. 0. 0. 0. 0. 0. 0. 0. 0. 0.]\n",
      " [0. 0. 0. 0. 0. 0. 0. 0. 0. 0.]\n",
      " [0. 0. 0. 0. 0. 0. 0. 0. 0. 0.]\n",
      " [0. 0. 0. 0. 0. 0. 0. 0. 0. 0.]\n",
      " [0. 0. 0. 0. 0. 0. 0. 0. 0. 0.]\n",
      " [0. 0. 0. 0. 0. 0. 0. 0. 0. 0.]\n",
      " [0. 0. 0. 0. 0. 0. 0. 0. 0. 0.]\n",
      " [0. 0. 0. 0. 0. 0. 0. 0. 0. 0.]\n",
      " [0. 0. 0. 0. 0. 0. 0. 0. 0. 0.]]\n"
     ]
    }
   ],
   "source": [
    "import numpy as np\n",
    "n = 10\n",
    "# define a matrix of dimension 10 x 10 and set all elements to zero\n",
    "A = np.zeros( (n, n) )\n",
    "print(A)"
   ]
  },
  {
   "cell_type": "markdown",
   "metadata": {},
   "source": [
    "or initializing all elements to"
   ]
  },
  {
   "cell_type": "code",
<<<<<<< HEAD
   "execution_count": 13,
=======
   "execution_count": 62,
>>>>>>> 1cec7587fa819aac109c52d92c370d3d5bcd5c05
   "metadata": {},
   "outputs": [
    {
     "name": "stdout",
     "output_type": "stream",
     "text": [
      "[[1. 1. 1. 1. 1. 1. 1. 1. 1. 1.]\n",
      " [1. 1. 1. 1. 1. 1. 1. 1. 1. 1.]\n",
      " [1. 1. 1. 1. 1. 1. 1. 1. 1. 1.]\n",
      " [1. 1. 1. 1. 1. 1. 1. 1. 1. 1.]\n",
      " [1. 1. 1. 1. 1. 1. 1. 1. 1. 1.]\n",
      " [1. 1. 1. 1. 1. 1. 1. 1. 1. 1.]\n",
      " [1. 1. 1. 1. 1. 1. 1. 1. 1. 1.]\n",
      " [1. 1. 1. 1. 1. 1. 1. 1. 1. 1.]\n",
      " [1. 1. 1. 1. 1. 1. 1. 1. 1. 1.]\n",
      " [1. 1. 1. 1. 1. 1. 1. 1. 1. 1.]]\n"
     ]
    }
   ],
   "source": [
    "import numpy as np\n",
    "n = 10\n",
    "# define a matrix of dimension 10 x 10 and set all elements to one\n",
    "A = np.ones( (n, n) )\n",
    "print(A)"
   ]
  },
  {
   "cell_type": "markdown",
   "metadata": {},
   "source": [
    "or as unitarily distributed random numbers (see the material on random number generators in the statistics part)"
   ]
  },
  {
   "cell_type": "code",
<<<<<<< HEAD
   "execution_count": 14,
   "metadata": {},
   "outputs": [],
=======
   "execution_count": 63,
   "metadata": {},
   "outputs": [
    {
     "name": "stdout",
     "output_type": "stream",
     "text": [
      "[[0.96680896 0.47396157 0.37371647 0.01745984 0.61338559 0.1141878\n",
      "  0.36773073 0.47931236 0.39175656 0.91602286]\n",
      " [0.29321987 0.86136756 0.29667103 0.7941391  0.78101453 0.13336075\n",
      "  0.11635095 0.20764606 0.1317205  0.14869982]\n",
      " [0.39329092 0.95041585 0.94748453 0.84878198 0.96315609 0.85488451\n",
      "  0.99099241 0.56527501 0.18962055 0.05131637]\n",
      " [0.01980718 0.60847832 0.62434358 0.93046449 0.23438096 0.36012304\n",
      "  0.57585493 0.39705894 0.48312001 0.88812616]\n",
      " [0.16066244 0.7362161  0.90960598 0.96040725 0.06612643 0.00724207\n",
      "  0.1430629  0.22410145 0.59783905 0.44603723]\n",
      " [0.80189202 0.90338145 0.61645046 0.45947808 0.71994401 0.56915257\n",
      "  0.87816938 0.46497711 0.13425785 0.70570155]\n",
      " [0.55359912 0.95437055 0.64279202 0.64357055 0.25110899 0.95417946\n",
      "  0.38146547 0.71600446 0.48296559 0.48191323]\n",
      " [0.45292297 0.04483342 0.58004661 0.35784634 0.07324671 0.91865477\n",
      "  0.98955727 0.25869527 0.4949707  0.67145099]\n",
      " [0.10608555 0.59786927 0.40169172 0.75748259 0.03983256 0.11966207\n",
      "  0.19798174 0.85208887 0.51281712 0.29069073]\n",
      " [0.3216242  0.69582534 0.5034695  0.57260402 0.77514568 0.83991751\n",
      "  0.04685645 0.48905915 0.90769174 0.95008347]]\n"
     ]
    }
   ],
>>>>>>> 1cec7587fa819aac109c52d92c370d3d5bcd5c05
   "source": [
    "import numpy as np\n",
    "n = 10\n",
    "# define a matrix of dimension 10 x 10 and set all elements to random numbers with x \\in [0, 1]\n",
    "A = np.random.rand(n, n)\n",
    "print(A)"
   ]
  },
  {
   "cell_type": "markdown",
   "metadata": {},
   "source": [
    "As we will see throughout these lectures, there are several extremely useful functionalities in Numpy.\n",
    "As an example, consider the discussion of the covariance matrix. Suppose we have defined three vectors\n",
    "$\\hat{x}, \\hat{y}, \\hat{z}$ with $n$ elements each. The covariance matrix is defined as"
   ]
  },
  {
   "cell_type": "markdown",
   "metadata": {},
   "source": [
    "$$\n",
    "\\hat{\\Sigma} = \\begin{bmatrix} \\sigma_{xx} & \\sigma_{xy} & \\sigma_{xz} \\\\\n",
    "                              \\sigma_{yx} & \\sigma_{yy} & \\sigma_{yz} \\\\\n",
    "                              \\sigma_{zx} & \\sigma_{zy} & \\sigma_{zz} \n",
    "             \\end{bmatrix},\n",
    "$$"
   ]
  },
  {
   "cell_type": "markdown",
   "metadata": {},
   "source": [
    "where for example"
   ]
  },
  {
   "cell_type": "markdown",
   "metadata": {},
   "source": [
    "$$\n",
    "\\sigma_{xy} =\\frac{1}{n} \\sum_{i=0}^{n-1}(x_i- \\overline{x})(y_i- \\overline{y}).\n",
    "$$"
   ]
  },
  {
   "cell_type": "markdown",
   "metadata": {},
   "source": [
    "The Numpy function **np.cov** calculates the covariance elements using the factor $1/(n-1)$ instead of $1/n$ since it assumes we do not have the exact mean values. \n",
    "The following simple function uses the **np.vstack** function which takes each vector of dimension $1\\times n$ and produces a $3\\times n$ matrix $\\hat{W}$"
   ]
  },
  {
   "cell_type": "markdown",
   "metadata": {},
   "source": [
    "$$\n",
    "\\hat{W} = \\begin{bmatrix} x_0 & y_0 & z_0 \\\\\n",
    "                          x_1 & y_1 & z_1 \\\\\n",
    "                          x_2 & y_2 & z_2 \\\\\n",
    "                          \\dots & \\dots & \\dots \\\\\n",
    "                          x_{n-2} & y_{n-2} & z_{n-2} \\\\\n",
    "                          x_{n-1} & y_{n-1} & z_{n-1}\n",
    "             \\end{bmatrix},\n",
    "$$"
   ]
  },
  {
   "cell_type": "markdown",
   "metadata": {},
   "source": [
    "which in turn is converted into into the $3\\times 3$ covariance matrix\n",
    "$\\hat{\\Sigma}$ via the Numpy function **np.cov()**. We note that we can also calculate\n",
    "the mean value of each set of samples $\\hat{x}$ etc using the Numpy\n",
    "function **np.mean(x)**. We can also extract the eigenvalues of the\n",
    "covariance matrix through the **np.linalg.eig()** function."
   ]
  },
  {
   "cell_type": "code",
<<<<<<< HEAD
   "execution_count": 14,
=======
   "execution_count": 64,
>>>>>>> 1cec7587fa819aac109c52d92c370d3d5bcd5c05
   "metadata": {},
   "outputs": [
    {
     "name": "stdout",
     "output_type": "stream",
     "text": [
<<<<<<< HEAD
      "-0.015974894128426835\n",
      "3.8197014423718265\n",
      "0.27112694747460536\n",
      "[[ 0.87302537  2.55176845  1.95345397]\n",
      " [ 2.55176845  8.29983061  5.57377705]\n",
      " [ 1.95345397  5.57377705 10.41959903]]\n",
      "[15.69699883  0.07378384  3.82167234]\n"
=======
      "0.07774708555974968\n",
      "4.232033854292635\n",
      "0.04402390396781505\n",
      "[[0.62971466 1.93103474 1.16974782]\n",
      " [1.93103474 7.20073828 3.58052606]\n",
      " [1.16974782 3.58052606 4.33429955]]\n",
      "[10.15792871  0.08938713  1.91743665]\n"
>>>>>>> 1cec7587fa819aac109c52d92c370d3d5bcd5c05
     ]
    }
   ],
   "source": [
    "# Importing various packages\n",
    "import numpy as np\n",
    "\n",
    "n = 100\n",
    "x = np.random.normal(size=n)\n",
    "print(np.mean(x))\n",
    "y = 4+3*x+np.random.normal(size=n)\n",
    "print(np.mean(y))\n",
    "z = x**3+np.random.normal(size=n)\n",
    "print(np.mean(z))\n",
    "W = np.vstack((x, y, z))\n",
    "Sigma = np.cov(W)\n",
    "print(Sigma)\n",
    "Eigvals, Eigvecs = np.linalg.eig(Sigma)\n",
    "print(Eigvals)"
   ]
  },
  {
   "cell_type": "code",
<<<<<<< HEAD
   "execution_count": 15,
=======
   "execution_count": 65,
>>>>>>> 1cec7587fa819aac109c52d92c370d3d5bcd5c05
   "metadata": {},
   "outputs": [
    {
     "name": "stdout",
     "output_type": "stream",
     "text": [
      "[[1. 0. 0. 0.]\n",
      " [0. 1. 0. 0.]\n",
      " [0. 0. 1. 0.]\n",
      " [0. 0. 0. 1.]]\n",
      "  (0, 0)\t1.0\n",
      "  (1, 1)\t1.0\n",
      "  (2, 2)\t1.0\n",
      "  (3, 3)\t1.0\n"
     ]
    },
    {
     "data": {
<<<<<<< HEAD
      "image/png": "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\n",
=======
      "image/png": "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\n",
>>>>>>> 1cec7587fa819aac109c52d92c370d3d5bcd5c05
      "text/plain": [
       "<Figure size 432x288 with 1 Axes>"
      ]
     },
     "metadata": {
      "needs_background": "light"
     },
     "output_type": "display_data"
    }
   ],
   "source": [
    "%matplotlib inline\n",
    "\n",
    "import numpy as np\n",
    "import matplotlib.pyplot as plt\n",
    "from scipy import sparse\n",
    "eye = np.eye(4)\n",
    "print(eye)\n",
    "sparse_mtx = sparse.csr_matrix(eye)\n",
    "print(sparse_mtx)\n",
    "x = np.linspace(-10,10,100)\n",
    "y = np.sin(x)\n",
    "plt.plot(x,y,marker='x')\n",
    "plt.show()"
   ]
  },
  {
   "cell_type": "markdown",
   "metadata": {},
   "source": [
    "## Meet the Pandas\n",
    "\n",
    "\n",
    "<!-- dom:FIGURE: [fig/pandas.jpg, width=600 frac=0.8] -->\n",
    "<!-- begin figure -->\n",
    "\n",
    "<p></p>\n",
    "<img src=\"fig/pandas.jpg\" width=600>\n",
    "\n",
    "<!-- end figure -->\n",
    "\n",
    "\n",
    "Another useful Python package is\n",
    "[pandas](https://pandas.pydata.org/), which is an open source library\n",
    "providing high-performance, easy-to-use data structures and data\n",
    "analysis tools for Python. **pandas** stands for panel data, a term borrowed from econometrics and is an efficient library for data analysis with an emphasis on tabular data.\n",
    "**pandas** has two major classes, the **DataFrame** class with two-dimensional data objects and tabular data organized in columns and the class **Series** with a focus on one-dimensional data objects. Both classes allow you to index data easily as we will see in the examples below. \n",
    "**pandas** allows you also to perform mathematical operations on the data, spanning from simple reshapings of vectors and matrices to statistical operations. \n",
    "\n",
    "The following simple example shows how we can, in an easy way make tables of our data. Here we define a data set which includes names, place of birth and date of birth, and displays the data in an easy to read way. We will see repeated use of **pandas**, in particular in connection with classification of data."
   ]
  },
  {
   "cell_type": "code",
<<<<<<< HEAD
   "execution_count": 16,
=======
   "execution_count": 66,
>>>>>>> 1cec7587fa819aac109c52d92c370d3d5bcd5c05
   "metadata": {},
   "outputs": [
    {
     "data": {
      "text/html": [
       "<div>\n",
       "<style scoped>\n",
       "    .dataframe tbody tr th:only-of-type {\n",
       "        vertical-align: middle;\n",
       "    }\n",
       "\n",
       "    .dataframe tbody tr th {\n",
       "        vertical-align: top;\n",
       "    }\n",
       "\n",
       "    .dataframe thead th {\n",
       "        text-align: right;\n",
       "    }\n",
       "</style>\n",
       "<table border=\"1\" class=\"dataframe\">\n",
       "  <thead>\n",
       "    <tr style=\"text-align: right;\">\n",
       "      <th></th>\n",
       "      <th>First Name</th>\n",
       "      <th>Last Name</th>\n",
       "      <th>Place of birth</th>\n",
       "      <th>Date of Birth T.A.</th>\n",
       "    </tr>\n",
       "  </thead>\n",
       "  <tbody>\n",
       "    <tr>\n",
       "      <th>0</th>\n",
       "      <td>Frodo</td>\n",
       "      <td>Baggins</td>\n",
       "      <td>Shire</td>\n",
       "      <td>2968</td>\n",
       "    </tr>\n",
       "    <tr>\n",
       "      <th>1</th>\n",
       "      <td>Bilbo</td>\n",
       "      <td>Baggins</td>\n",
       "      <td>Shire</td>\n",
       "      <td>2890</td>\n",
       "    </tr>\n",
       "    <tr>\n",
       "      <th>2</th>\n",
       "      <td>Aragorn II</td>\n",
       "      <td>Elessar</td>\n",
       "      <td>Eriador</td>\n",
       "      <td>2931</td>\n",
       "    </tr>\n",
       "    <tr>\n",
       "      <th>3</th>\n",
       "      <td>Samwise</td>\n",
       "      <td>Gamgee</td>\n",
       "      <td>Shire</td>\n",
       "      <td>2980</td>\n",
       "    </tr>\n",
       "  </tbody>\n",
       "</table>\n",
       "</div>"
      ],
      "text/plain": [
       "   First Name Last Name Place of birth  Date of Birth T.A.\n",
       "0       Frodo   Baggins          Shire                2968\n",
       "1       Bilbo   Baggins          Shire                2890\n",
       "2  Aragorn II   Elessar        Eriador                2931\n",
       "3     Samwise    Gamgee          Shire                2980"
      ]
     },
     "metadata": {},
     "output_type": "display_data"
    }
   ],
   "source": [
    "import pandas as pd\n",
    "from IPython.display import display\n",
    "data = {'First Name': [\"Frodo\", \"Bilbo\", \"Aragorn II\", \"Samwise\"],\n",
    "        'Last Name': [\"Baggins\", \"Baggins\",\"Elessar\",\"Gamgee\"],\n",
    "        'Place of birth': [\"Shire\", \"Shire\", \"Eriador\", \"Shire\"],\n",
    "        'Date of Birth T.A.': [2968, 2890, 2931, 2980]\n",
    "        }\n",
    "data_pandas = pd.DataFrame(data)\n",
    "display(data_pandas)"
   ]
  },
  {
   "cell_type": "markdown",
   "metadata": {},
   "source": [
    "In the above we have imported **pandas** with the shorthand **pd**, the latter has become the standard way we import **pandas**. We make then a list of various variables\n",
    "and reorganize the aboves lists into a **DataFrame** and then print out  a neat table with specific column labels as *Name*, *place of birth* and *date of birth*.\n",
    "Displaying these results, we see that the indices are given by the default numbers from zero to three.\n",
    "**pandas** is extremely flexible and we can easily change the above indices by defining a new type of indexing as"
   ]
  },
  {
   "cell_type": "code",
<<<<<<< HEAD
   "execution_count": 17,
=======
   "execution_count": 67,
>>>>>>> 1cec7587fa819aac109c52d92c370d3d5bcd5c05
   "metadata": {},
   "outputs": [
    {
     "data": {
      "text/html": [
       "<div>\n",
       "<style scoped>\n",
       "    .dataframe tbody tr th:only-of-type {\n",
       "        vertical-align: middle;\n",
       "    }\n",
       "\n",
       "    .dataframe tbody tr th {\n",
       "        vertical-align: top;\n",
       "    }\n",
       "\n",
       "    .dataframe thead th {\n",
       "        text-align: right;\n",
       "    }\n",
       "</style>\n",
       "<table border=\"1\" class=\"dataframe\">\n",
       "  <thead>\n",
       "    <tr style=\"text-align: right;\">\n",
       "      <th></th>\n",
       "      <th>First Name</th>\n",
       "      <th>Last Name</th>\n",
       "      <th>Place of birth</th>\n",
       "      <th>Date of Birth T.A.</th>\n",
       "    </tr>\n",
       "  </thead>\n",
       "  <tbody>\n",
       "    <tr>\n",
       "      <th>Frodo</th>\n",
       "      <td>Frodo</td>\n",
       "      <td>Baggins</td>\n",
       "      <td>Shire</td>\n",
       "      <td>2968</td>\n",
       "    </tr>\n",
       "    <tr>\n",
       "      <th>Bilbo</th>\n",
       "      <td>Bilbo</td>\n",
       "      <td>Baggins</td>\n",
       "      <td>Shire</td>\n",
       "      <td>2890</td>\n",
       "    </tr>\n",
       "    <tr>\n",
       "      <th>Aragorn</th>\n",
       "      <td>Aragorn II</td>\n",
       "      <td>Elessar</td>\n",
       "      <td>Eriador</td>\n",
       "      <td>2931</td>\n",
       "    </tr>\n",
       "    <tr>\n",
       "      <th>Sam</th>\n",
       "      <td>Samwise</td>\n",
       "      <td>Gamgee</td>\n",
       "      <td>Shire</td>\n",
       "      <td>2980</td>\n",
       "    </tr>\n",
       "  </tbody>\n",
       "</table>\n",
       "</div>"
      ],
      "text/plain": [
       "         First Name Last Name Place of birth  Date of Birth T.A.\n",
       "Frodo         Frodo   Baggins          Shire                2968\n",
       "Bilbo         Bilbo   Baggins          Shire                2890\n",
       "Aragorn  Aragorn II   Elessar        Eriador                2931\n",
       "Sam         Samwise    Gamgee          Shire                2980"
      ]
     },
     "metadata": {},
     "output_type": "display_data"
    }
   ],
   "source": [
    "data_pandas = pd.DataFrame(data,index=['Frodo','Bilbo','Aragorn','Sam'])\n",
    "display(data_pandas)"
   ]
  },
  {
   "cell_type": "markdown",
   "metadata": {},
   "source": [
    "Thereafter we display the content of the row which begins with the index **Aragorn**"
   ]
  },
  {
   "cell_type": "code",
<<<<<<< HEAD
   "execution_count": 18,
=======
   "execution_count": 68,
>>>>>>> 1cec7587fa819aac109c52d92c370d3d5bcd5c05
   "metadata": {},
   "outputs": [
    {
     "data": {
      "text/plain": [
       "First Name            Aragorn II\n",
       "Last Name                Elessar\n",
       "Place of birth           Eriador\n",
       "Date of Birth T.A.          2931\n",
       "Name: Aragorn, dtype: object"
      ]
     },
     "metadata": {},
     "output_type": "display_data"
    }
   ],
   "source": [
    "display(data_pandas.loc['Aragorn'])"
   ]
  },
  {
   "cell_type": "markdown",
   "metadata": {},
   "source": [
    "We can easily append data to this, for example"
   ]
  },
  {
   "cell_type": "code",
<<<<<<< HEAD
   "execution_count": 19,
=======
   "execution_count": 69,
>>>>>>> 1cec7587fa819aac109c52d92c370d3d5bcd5c05
   "metadata": {},
   "outputs": [
    {
     "data": {
      "text/html": [
       "<div>\n",
       "<style scoped>\n",
       "    .dataframe tbody tr th:only-of-type {\n",
       "        vertical-align: middle;\n",
       "    }\n",
       "\n",
       "    .dataframe tbody tr th {\n",
       "        vertical-align: top;\n",
       "    }\n",
       "\n",
       "    .dataframe thead th {\n",
       "        text-align: right;\n",
       "    }\n",
       "</style>\n",
       "<table border=\"1\" class=\"dataframe\">\n",
       "  <thead>\n",
       "    <tr style=\"text-align: right;\">\n",
       "      <th></th>\n",
       "      <th>First Name</th>\n",
       "      <th>Last Name</th>\n",
       "      <th>Place of birth</th>\n",
       "      <th>Date of Birth T.A.</th>\n",
       "    </tr>\n",
       "  </thead>\n",
       "  <tbody>\n",
       "    <tr>\n",
       "      <th>Frodo</th>\n",
       "      <td>Frodo</td>\n",
       "      <td>Baggins</td>\n",
       "      <td>Shire</td>\n",
       "      <td>2968</td>\n",
       "    </tr>\n",
       "    <tr>\n",
       "      <th>Bilbo</th>\n",
       "      <td>Bilbo</td>\n",
       "      <td>Baggins</td>\n",
       "      <td>Shire</td>\n",
       "      <td>2890</td>\n",
       "    </tr>\n",
       "    <tr>\n",
       "      <th>Aragorn</th>\n",
       "      <td>Aragorn II</td>\n",
       "      <td>Elessar</td>\n",
       "      <td>Eriador</td>\n",
       "      <td>2931</td>\n",
       "    </tr>\n",
       "    <tr>\n",
       "      <th>Sam</th>\n",
       "      <td>Samwise</td>\n",
       "      <td>Gamgee</td>\n",
       "      <td>Shire</td>\n",
       "      <td>2980</td>\n",
       "    </tr>\n",
       "    <tr>\n",
       "      <th>Pippin</th>\n",
       "      <td>Peregrin</td>\n",
       "      <td>Took</td>\n",
       "      <td>Shire</td>\n",
       "      <td>2990</td>\n",
       "    </tr>\n",
       "  </tbody>\n",
       "</table>\n",
       "</div>"
      ],
      "text/plain": [
       "         First Name Last Name Place of birth  Date of Birth T.A.\n",
       "Frodo         Frodo   Baggins          Shire                2968\n",
       "Bilbo         Bilbo   Baggins          Shire                2890\n",
       "Aragorn  Aragorn II   Elessar        Eriador                2931\n",
       "Sam         Samwise    Gamgee          Shire                2980\n",
       "Pippin     Peregrin      Took          Shire                2990"
      ]
     },
     "metadata": {},
     "output_type": "display_data"
    }
   ],
   "source": [
    "new_hobbit = {'First Name': [\"Peregrin\"],\n",
    "              'Last Name': [\"Took\"],\n",
    "              'Place of birth': [\"Shire\"],\n",
    "              'Date of Birth T.A.': [2990]\n",
    "              }\n",
    "data_pandas=data_pandas.append(pd.DataFrame(new_hobbit, index=['Pippin']))\n",
    "display(data_pandas)"
   ]
  },
  {
   "cell_type": "markdown",
   "metadata": {},
   "source": [
    "Here are other examples where we use the **DataFrame** functionality to handle arrays, now with more interesting features for us, namely numbers. We set up a matrix \n",
    "of dimensionality $10\\times 5$ and compute the mean value and standard deviation of each column. Similarly, we can perform mathematial operations like squaring the matrix elements and many other operations."
   ]
  },
  {
   "cell_type": "code",
<<<<<<< HEAD
   "execution_count": 20,
=======
   "execution_count": 70,
>>>>>>> 1cec7587fa819aac109c52d92c370d3d5bcd5c05
   "metadata": {},
   "outputs": [
    {
     "data": {
      "text/html": [
       "<div>\n",
       "<style scoped>\n",
       "    .dataframe tbody tr th:only-of-type {\n",
       "        vertical-align: middle;\n",
       "    }\n",
       "\n",
       "    .dataframe tbody tr th {\n",
       "        vertical-align: top;\n",
       "    }\n",
       "\n",
       "    .dataframe thead th {\n",
       "        text-align: right;\n",
       "    }\n",
       "</style>\n",
       "<table border=\"1\" class=\"dataframe\">\n",
       "  <thead>\n",
       "    <tr style=\"text-align: right;\">\n",
       "      <th></th>\n",
       "      <th>0</th>\n",
       "      <th>1</th>\n",
       "      <th>2</th>\n",
       "      <th>3</th>\n",
       "      <th>4</th>\n",
       "    </tr>\n",
       "  </thead>\n",
       "  <tbody>\n",
       "    <tr>\n",
       "      <th>0</th>\n",
       "      <td>-1.749765</td>\n",
       "      <td>0.342680</td>\n",
       "      <td>1.153036</td>\n",
       "      <td>-0.252436</td>\n",
       "      <td>0.981321</td>\n",
       "    </tr>\n",
       "    <tr>\n",
       "      <th>1</th>\n",
       "      <td>0.514219</td>\n",
       "      <td>0.221180</td>\n",
       "      <td>-1.070043</td>\n",
       "      <td>-0.189496</td>\n",
       "      <td>0.255001</td>\n",
       "    </tr>\n",
       "    <tr>\n",
       "      <th>2</th>\n",
       "      <td>-0.458027</td>\n",
       "      <td>0.435163</td>\n",
       "      <td>-0.583595</td>\n",
       "      <td>0.816847</td>\n",
       "      <td>0.672721</td>\n",
       "    </tr>\n",
       "    <tr>\n",
       "      <th>3</th>\n",
       "      <td>-0.104411</td>\n",
       "      <td>-0.531280</td>\n",
       "      <td>1.029733</td>\n",
       "      <td>-0.438136</td>\n",
       "      <td>-1.118318</td>\n",
       "    </tr>\n",
       "    <tr>\n",
       "      <th>4</th>\n",
       "      <td>1.618982</td>\n",
       "      <td>1.541605</td>\n",
       "      <td>-0.251879</td>\n",
       "      <td>-0.842436</td>\n",
       "      <td>0.184519</td>\n",
       "    </tr>\n",
       "    <tr>\n",
       "      <th>5</th>\n",
       "      <td>0.937082</td>\n",
       "      <td>0.731000</td>\n",
       "      <td>1.361556</td>\n",
       "      <td>-0.326238</td>\n",
       "      <td>0.055676</td>\n",
       "    </tr>\n",
       "    <tr>\n",
       "      <th>6</th>\n",
       "      <td>0.222400</td>\n",
       "      <td>-1.443217</td>\n",
       "      <td>-0.756352</td>\n",
       "      <td>0.816454</td>\n",
       "      <td>0.750445</td>\n",
       "    </tr>\n",
       "    <tr>\n",
       "      <th>7</th>\n",
       "      <td>-0.455947</td>\n",
       "      <td>1.189622</td>\n",
       "      <td>-1.690617</td>\n",
       "      <td>-1.356399</td>\n",
       "      <td>-1.232435</td>\n",
       "    </tr>\n",
       "    <tr>\n",
       "      <th>8</th>\n",
       "      <td>-0.544439</td>\n",
       "      <td>-0.668172</td>\n",
       "      <td>0.007315</td>\n",
       "      <td>-0.612939</td>\n",
       "      <td>1.299748</td>\n",
       "    </tr>\n",
       "    <tr>\n",
       "      <th>9</th>\n",
       "      <td>-1.733096</td>\n",
       "      <td>-0.983310</td>\n",
       "      <td>0.357508</td>\n",
       "      <td>-1.613579</td>\n",
       "      <td>1.470714</td>\n",
       "    </tr>\n",
       "  </tbody>\n",
       "</table>\n",
       "</div>"
      ],
      "text/plain": [
       "          0         1         2         3         4\n",
       "0 -1.749765  0.342680  1.153036 -0.252436  0.981321\n",
       "1  0.514219  0.221180 -1.070043 -0.189496  0.255001\n",
       "2 -0.458027  0.435163 -0.583595  0.816847  0.672721\n",
       "3 -0.104411 -0.531280  1.029733 -0.438136 -1.118318\n",
       "4  1.618982  1.541605 -0.251879 -0.842436  0.184519\n",
       "5  0.937082  0.731000  1.361556 -0.326238  0.055676\n",
       "6  0.222400 -1.443217 -0.756352  0.816454  0.750445\n",
       "7 -0.455947  1.189622 -1.690617 -1.356399 -1.232435\n",
       "8 -0.544439 -0.668172  0.007315 -0.612939  1.299748\n",
       "9 -1.733096 -0.983310  0.357508 -1.613579  1.470714"
      ]
     },
     "metadata": {},
     "output_type": "display_data"
    },
    {
     "name": "stdout",
     "output_type": "stream",
     "text": [
      "0   -0.175300\n",
      "1    0.083527\n",
      "2   -0.044334\n",
      "3   -0.399836\n",
      "4    0.331939\n",
      "dtype: float64\n",
      "0    1.069584\n",
      "1    0.965548\n",
      "2    1.018232\n",
      "3    0.793167\n",
      "4    0.918992\n",
      "dtype: float64\n"
     ]
    },
    {
     "data": {
      "text/html": [
       "<div>\n",
       "<style scoped>\n",
       "    .dataframe tbody tr th:only-of-type {\n",
       "        vertical-align: middle;\n",
       "    }\n",
       "\n",
       "    .dataframe tbody tr th {\n",
       "        vertical-align: top;\n",
       "    }\n",
       "\n",
       "    .dataframe thead th {\n",
       "        text-align: right;\n",
       "    }\n",
       "</style>\n",
       "<table border=\"1\" class=\"dataframe\">\n",
       "  <thead>\n",
       "    <tr style=\"text-align: right;\">\n",
       "      <th></th>\n",
       "      <th>0</th>\n",
       "      <th>1</th>\n",
       "      <th>2</th>\n",
       "      <th>3</th>\n",
       "      <th>4</th>\n",
       "    </tr>\n",
       "  </thead>\n",
       "  <tbody>\n",
       "    <tr>\n",
       "      <th>0</th>\n",
       "      <td>3.061679</td>\n",
       "      <td>0.117430</td>\n",
       "      <td>1.329492</td>\n",
       "      <td>0.063724</td>\n",
       "      <td>0.962990</td>\n",
       "    </tr>\n",
       "    <tr>\n",
       "      <th>1</th>\n",
       "      <td>0.264421</td>\n",
       "      <td>0.048920</td>\n",
       "      <td>1.144993</td>\n",
       "      <td>0.035909</td>\n",
       "      <td>0.065026</td>\n",
       "    </tr>\n",
       "    <tr>\n",
       "      <th>2</th>\n",
       "      <td>0.209789</td>\n",
       "      <td>0.189367</td>\n",
       "      <td>0.340583</td>\n",
       "      <td>0.667239</td>\n",
       "      <td>0.452553</td>\n",
       "    </tr>\n",
       "    <tr>\n",
       "      <th>3</th>\n",
       "      <td>0.010902</td>\n",
       "      <td>0.282259</td>\n",
       "      <td>1.060349</td>\n",
       "      <td>0.191963</td>\n",
       "      <td>1.250636</td>\n",
       "    </tr>\n",
       "    <tr>\n",
       "      <th>4</th>\n",
       "      <td>2.621102</td>\n",
       "      <td>2.376547</td>\n",
       "      <td>0.063443</td>\n",
       "      <td>0.709698</td>\n",
       "      <td>0.034047</td>\n",
       "    </tr>\n",
       "    <tr>\n",
       "      <th>5</th>\n",
       "      <td>0.878123</td>\n",
       "      <td>0.534362</td>\n",
       "      <td>1.853835</td>\n",
       "      <td>0.106431</td>\n",
       "      <td>0.003100</td>\n",
       "    </tr>\n",
       "    <tr>\n",
       "      <th>6</th>\n",
       "      <td>0.049462</td>\n",
       "      <td>2.082875</td>\n",
       "      <td>0.572069</td>\n",
       "      <td>0.666597</td>\n",
       "      <td>0.563167</td>\n",
       "    </tr>\n",
       "    <tr>\n",
       "      <th>7</th>\n",
       "      <td>0.207888</td>\n",
       "      <td>1.415201</td>\n",
       "      <td>2.858185</td>\n",
       "      <td>1.839818</td>\n",
       "      <td>1.518895</td>\n",
       "    </tr>\n",
       "    <tr>\n",
       "      <th>8</th>\n",
       "      <td>0.296414</td>\n",
       "      <td>0.446453</td>\n",
       "      <td>0.000054</td>\n",
       "      <td>0.375694</td>\n",
       "      <td>1.689345</td>\n",
       "    </tr>\n",
       "    <tr>\n",
       "      <th>9</th>\n",
       "      <td>3.003620</td>\n",
       "      <td>0.966899</td>\n",
       "      <td>0.127812</td>\n",
       "      <td>2.603636</td>\n",
       "      <td>2.162999</td>\n",
       "    </tr>\n",
       "  </tbody>\n",
       "</table>\n",
       "</div>"
      ],
      "text/plain": [
       "          0         1         2         3         4\n",
       "0  3.061679  0.117430  1.329492  0.063724  0.962990\n",
       "1  0.264421  0.048920  1.144993  0.035909  0.065026\n",
       "2  0.209789  0.189367  0.340583  0.667239  0.452553\n",
       "3  0.010902  0.282259  1.060349  0.191963  1.250636\n",
       "4  2.621102  2.376547  0.063443  0.709698  0.034047\n",
       "5  0.878123  0.534362  1.853835  0.106431  0.003100\n",
       "6  0.049462  2.082875  0.572069  0.666597  0.563167\n",
       "7  0.207888  1.415201  2.858185  1.839818  1.518895\n",
       "8  0.296414  0.446453  0.000054  0.375694  1.689345\n",
       "9  3.003620  0.966899  0.127812  2.603636  2.162999"
      ]
     },
     "metadata": {},
     "output_type": "display_data"
    }
   ],
   "source": [
    "import numpy as np\n",
    "import pandas as pd\n",
    "from IPython.display import display\n",
    "np.random.seed(100)\n",
    "# setting up a 10 x 5 matrix\n",
    "rows = 10\n",
    "cols = 5\n",
    "a = np.random.randn(rows,cols)\n",
    "df = pd.DataFrame(a)\n",
    "display(df)\n",
    "print(df.mean())\n",
    "print(df.std())\n",
    "display(df**2)"
   ]
  },
  {
   "cell_type": "markdown",
   "metadata": {},
   "source": [
    "Thereafter we can select specific columns only and plot final results"
   ]
  },
  {
   "cell_type": "code",
<<<<<<< HEAD
   "execution_count": 21,
=======
   "execution_count": 71,
>>>>>>> 1cec7587fa819aac109c52d92c370d3d5bcd5c05
   "metadata": {},
   "outputs": [
    {
     "data": {
      "text/html": [
       "<div>\n",
       "<style scoped>\n",
       "    .dataframe tbody tr th:only-of-type {\n",
       "        vertical-align: middle;\n",
       "    }\n",
       "\n",
       "    .dataframe tbody tr th {\n",
       "        vertical-align: top;\n",
       "    }\n",
       "\n",
       "    .dataframe thead th {\n",
       "        text-align: right;\n",
       "    }\n",
       "</style>\n",
       "<table border=\"1\" class=\"dataframe\">\n",
       "  <thead>\n",
       "    <tr style=\"text-align: right;\">\n",
       "      <th></th>\n",
       "      <th>First</th>\n",
       "      <th>Second</th>\n",
       "      <th>Third</th>\n",
       "      <th>Fourth</th>\n",
       "      <th>Fifth</th>\n",
       "    </tr>\n",
       "  </thead>\n",
       "  <tbody>\n",
       "    <tr>\n",
       "      <th>0</th>\n",
       "      <td>-1.749765</td>\n",
       "      <td>0.342680</td>\n",
       "      <td>1.153036</td>\n",
       "      <td>-0.252436</td>\n",
       "      <td>0.981321</td>\n",
       "    </tr>\n",
       "    <tr>\n",
       "      <th>1</th>\n",
       "      <td>0.514219</td>\n",
       "      <td>0.221180</td>\n",
       "      <td>-1.070043</td>\n",
       "      <td>-0.189496</td>\n",
       "      <td>0.255001</td>\n",
       "    </tr>\n",
       "    <tr>\n",
       "      <th>2</th>\n",
       "      <td>-0.458027</td>\n",
       "      <td>0.435163</td>\n",
       "      <td>-0.583595</td>\n",
       "      <td>0.816847</td>\n",
       "      <td>0.672721</td>\n",
       "    </tr>\n",
       "    <tr>\n",
       "      <th>3</th>\n",
       "      <td>-0.104411</td>\n",
       "      <td>-0.531280</td>\n",
       "      <td>1.029733</td>\n",
       "      <td>-0.438136</td>\n",
       "      <td>-1.118318</td>\n",
       "    </tr>\n",
       "    <tr>\n",
       "      <th>4</th>\n",
       "      <td>1.618982</td>\n",
       "      <td>1.541605</td>\n",
       "      <td>-0.251879</td>\n",
       "      <td>-0.842436</td>\n",
       "      <td>0.184519</td>\n",
       "    </tr>\n",
       "    <tr>\n",
       "      <th>5</th>\n",
       "      <td>0.937082</td>\n",
       "      <td>0.731000</td>\n",
       "      <td>1.361556</td>\n",
       "      <td>-0.326238</td>\n",
       "      <td>0.055676</td>\n",
       "    </tr>\n",
       "    <tr>\n",
       "      <th>6</th>\n",
       "      <td>0.222400</td>\n",
       "      <td>-1.443217</td>\n",
       "      <td>-0.756352</td>\n",
       "      <td>0.816454</td>\n",
       "      <td>0.750445</td>\n",
       "    </tr>\n",
       "    <tr>\n",
       "      <th>7</th>\n",
       "      <td>-0.455947</td>\n",
       "      <td>1.189622</td>\n",
       "      <td>-1.690617</td>\n",
       "      <td>-1.356399</td>\n",
       "      <td>-1.232435</td>\n",
       "    </tr>\n",
       "    <tr>\n",
       "      <th>8</th>\n",
       "      <td>-0.544439</td>\n",
       "      <td>-0.668172</td>\n",
       "      <td>0.007315</td>\n",
       "      <td>-0.612939</td>\n",
       "      <td>1.299748</td>\n",
       "    </tr>\n",
       "    <tr>\n",
       "      <th>9</th>\n",
       "      <td>-1.733096</td>\n",
       "      <td>-0.983310</td>\n",
       "      <td>0.357508</td>\n",
       "      <td>-1.613579</td>\n",
       "      <td>1.470714</td>\n",
       "    </tr>\n",
       "  </tbody>\n",
       "</table>\n",
       "</div>"
      ],
      "text/plain": [
       "      First    Second     Third    Fourth     Fifth\n",
       "0 -1.749765  0.342680  1.153036 -0.252436  0.981321\n",
       "1  0.514219  0.221180 -1.070043 -0.189496  0.255001\n",
       "2 -0.458027  0.435163 -0.583595  0.816847  0.672721\n",
       "3 -0.104411 -0.531280  1.029733 -0.438136 -1.118318\n",
       "4  1.618982  1.541605 -0.251879 -0.842436  0.184519\n",
       "5  0.937082  0.731000  1.361556 -0.326238  0.055676\n",
       "6  0.222400 -1.443217 -0.756352  0.816454  0.750445\n",
       "7 -0.455947  1.189622 -1.690617 -1.356399 -1.232435\n",
       "8 -0.544439 -0.668172  0.007315 -0.612939  1.299748\n",
       "9 -1.733096 -0.983310  0.357508 -1.613579  1.470714"
      ]
     },
     "metadata": {},
     "output_type": "display_data"
    },
    {
     "name": "stdout",
     "output_type": "stream",
     "text": [
      "0.08352721390288316\n",
      "<class 'pandas.core.frame.DataFrame'>\n",
      "Int64Index: 10 entries, 0 to 9\n",
      "Data columns (total 5 columns):\n",
      " #   Column  Non-Null Count  Dtype  \n",
      "---  ------  --------------  -----  \n",
      " 0   First   10 non-null     float64\n",
      " 1   Second  10 non-null     float64\n",
      " 2   Third   10 non-null     float64\n",
      " 3   Fourth  10 non-null     float64\n",
      " 4   Fifth   10 non-null     float64\n",
      "dtypes: float64(5)\n",
      "memory usage: 480.0 bytes\n",
      "None\n",
      "           First     Second      Third     Fourth      Fifth\n",
      "count  10.000000  10.000000  10.000000  10.000000  10.000000\n",
      "mean   -0.175300   0.083527  -0.044334  -0.399836   0.331939\n",
      "std     1.069584   0.965548   1.018232   0.793167   0.918992\n",
      "min    -1.749765  -1.443217  -1.690617  -1.613579  -1.232435\n",
      "25%    -0.522836  -0.633949  -0.713163  -0.785061   0.087887\n",
      "50%    -0.280179   0.281930  -0.122282  -0.382187   0.463861\n",
      "75%     0.441264   0.657041   0.861676  -0.205231   0.923602\n",
      "max     1.618982   1.541605   1.361556   0.816847   1.470714\n"
     ]
    },
    {
     "data": {
      "image/png": "iVBORw0KGgoAAAANSUhEUgAAAlIAAAFkCAYAAADrFNVeAAAABHNCSVQICAgIfAhkiAAAAAlwSFlzAAALEgAACxIB0t1+/AAAADh0RVh0U29mdHdhcmUAbWF0cGxvdGxpYiB2ZXJzaW9uMy4yLjEsIGh0dHA6Ly9tYXRwbG90bGliLm9yZy+j8jraAAAgAElEQVR4nOzdeXhUVZ7w8W/tW5KqLJWV7GELO0ijAgoCgoK4obhru2vTrfbM9ExPz7zjO/M83f32dLeKtoIrbqgIiiCyKYsCyg4BAmQj+55KpSq1L/f9I0i3ypqkUlXJ+TxPP/0Yqu49lV/Ord+955zfkUmSJCEIgiAIgiBcMnm4GyAIgiAIghCtRCIlCIIgCILQTSKREgRBEARB6CaRSAmCIAiCIHSTSKQEQRAEQRC6SSRSgiAIgiAI3aQMx0lbWuwhP0d8vJ72dmfIzyOEjohh9BMxjG4iftFPxLB3mM2x5/y3fvtESqlUhLsJQg+JGEY/EcPoJuIX/UQMQ6/fJlKCIAiCIAihJhIpQRAEQRCEbhKJlCAIgiAIQjeJREoQBEEQBKGbRCIlCIIgCILQTSKREgRBEARB6CaRSAmCIAiCIHRTWApyRqri4qO8/PJi/H4/EydOAsDr9eL1eikqOsSrry5Dobj4mhxffLGWqVOnERt77kJegiAIgiBEL5FI/YPCwpGMGzcBl8vFQw89BoDH42Hfvj386le/RiaTXdLxvvhiLePGTRCJlCAIgiD0UxGZSD3/8WGKytt69Zij8xN5+rYxl/Qev9/PkiUvMWHCZdx223xefHEpbW2t/PnPf2To0GHExMSyceMXvPvuCl566TlycnKpr69jzpx5eDxuGhsbWLHiA7Kzs7nppgW9+nkEQRAEQQi/iEykwu3AgX288MJfkCQJmUzGlClX8+GH7wMwcuRopk69Go/HzZNPPsV1183j4MH92O02Fiy4A6/XQ0dHB1lZ2aSmpnH77XeSlpYe5k8kCIIgCEIoRGQidalPjs7GbI7t9ubI48dfxqJFTyNJEjU11Wd9TXZ2LgAFBYPJycmlsbGeX/96ESZTPL/85TPdbrcgCIIgCBcW9LtxWA6jiy9EqQrfFBqxau88ZDIZWVnZ5/y371VUlDFr1hxeeeUNLrvsZ6xYsRwAhUKBJEmUl5cRCAT6pM2CIAiC0N8FAx6ay9+nvW4jjraDYW2LSKT+wYkTxRw+fJBjx46wZcuXZ36+a9cOmpoaWb16FdXVVRw+fJCdO7/mxIliAFwuF0uX/o333ltGaelJZs++HoBJk67gvfeW8cEH717Saj9BEARBEM4uGPTRUvERXmcdCrURQ8LYsLZHJkmS1Ncn7e6Q26XoydCeEBlEDKOfiGF0E/GLfv0thpIUoKViBW5bKQplDMlDHkClSQj5ec3mcw8diidSgiAIgiBEPEkK0la5GretFLlCh7ngnj5Joi5EJFKCIAiCIEQ0SZKw1KzDaT2GTK7GXHA3al1yuJsFiERKEARBEIQIJkkS1rpNONoOIpMpMeffiUYfOWWFRCIlCIIgCELE6mjcjr1lN8jkJOXdjjbm7Kvpw0UkUoIgCIIgRCRb07fYGr8GZCTl3IouriDcTfoJkUgJgiAIghBxOlv3Y63fDEBC1nz0puFhbtHZRWRl83BavXolZWWlxMcnUF9fR1KSmSee+GWfnf/w4UO88ML/smjRM4wff1mfnVcQBEEQIoXDcgRLzToA4gddR0xiz3c8CZUeJ1LBYJDHH3+c0aNH4/P5qKmp4fe//z1arbY32tenHI5OXn99CWvXbkYmk+H3+3nuuT/1aRvGjBlLfv7gPj2nIAiCIEQKp/UkbVWrATCmXUOseWKYW3R+vfJEauzYsTz55JMAPPHEE2zatIn58+d3+3gvH36TY20neqNpZ4xIHMaTYx4872tUKjWSJPHhh+9z3XXzMJlM/Mu//Dt+v5/Fi/9CfHwCnZ2dDB48hDlz5hIIBHjppecxGo14vV5sNhv//M//RmXlKT788D0yM7OoqqrkrrvuIyEhkWef/R0KhZz8/MEcO3aEWbPmMH/+zQA8//z/4vf7SU/PoLm5uVc/uyAIgiBEA7etgtbKlYBEXMpkjKlTwt2kC+pxIiWXy88kUX6/n6amJnJzc3vcsHBQq9W8+OKrvP/+Mu65ZxmZmdncf/9DNDY24PP5+fnPH0GSJO6+ewGTJl3B9u1b8fl8PPDAwwB8/nlXBv2HP/w3zzzzLwwbVsixY0f54x//hyVL3uSee+5n6dK/8fjji2hvb+eppx5n/vyb2bVrBzU1NfzlL4sB+Oab7WH6DQiCIAhCeHg6a2g59RFIAWKSJmJMuybcTboovTZH6ptvvmHZsmVMmzaNUaNGnfe18fF6lMpz7z33XzOf6q1mXTKzeSyTJj1PIBBg06ZN/Pa3/8qNN95IZ6eVTz/9AIDhw4cRDLqor69i2LCCM6Xjf/7ze4GuTYxHjRqKyRTLmDHDKC8vxWyOxWTSM3hwPmZzLGZzLB6PG7M5lubmWoYMyT9znLy8HEwm/XlL0g8U4ncQ/UQMo5uIX/SLhhg6bXXUHfkAKegjIW0COSMXIJNFx3q4Xkukpk6dytSpU/nNb37D+++/z913333O17a3O3vrtOfUnf2FGhrqWbbsdX772/8DwNixl6NUqjCZkpAkOTfffCcACQlb0WqNZGTkcPJk6ZnzrF69kptuWkB+/mCKik4wfPgIjh49TkHBYFpa7FitTjwe/5nXBwJBWlrsmM0ZfP31zjM/r6ioxGp19qv9kbqjv+0RNRCJGEY3Eb/oFw0x9LlbaSpdRtDvRmcchiHlOlpbHeFu1g+cLxntcSJVVlZGbW0t06ZNA2DQoEHU1tb29LBhYTDEYLN1sHjxXzAYYmhoqOeJJ37J3LnzefnlxbzxxlL8fj8ajYarr57OvHk38tJLz/PGG0sJBALk5eUD8G//9p8sX/4Oe/fuprq6in/91//E6/WyceMXlJeXcuJEMRUV5XR2drJt21dcffU1fPfdLv74x/8hOTkFkNi48QuGDRuOXm8I7y9FEARBEELE72mnuexdgn4n2th8knJuiZonUd+TSZIk9eQA1dXV/OlPf6KwsBC/3095eTn/8R//gdlsPud7+iI7joYsXDg/EcPoJ2IY3UT8ol8kx9Dvs9Ncsgy/tx2NIQtzwd3I5apwN+usQvpEKisri5deeqmnhxEEQRAEYYAI+J20lL2H39uOWp+OOf/OiE2iLiS6np8JgiAIghDVggE3LWXv43O3oNKaMeffhVyhCXezuk0kUoIgCIIg9Ilg0EdL+Qd4XQ0o1fEkF9yDQqkPd7N6RCRSgiAIgiCEnBT001rxER5HDQpVLMkF96JQRX5phgsRiZQgCIIgCCElSUFaKz/Bba9ArtSTXHAvSo0p3M3qFSKREgRB6AZJkggEA+FuhiBEPEmSsFSvwdVxAplCQ3L+Pai0SeFuVq/ptYKc0e7JJx+msHAkNlsH27dv4YYbuvbA27BhHVqtlpUr1/7kPb///f9lwYKFDBky7LzHdjodvPDCXwgGg/zud8+GovmCIPSRoBTkQNNh1p3ajDvgYdHYh8mISQt3swQhIkmSRHvtehyWImRyFcn5d6HWp4a7Wb1KJFKnzZ07n7lz51NRUcaBA/tYtOhpAHJz83jrrdfO+p7f/vb/IJPJLnhsvd7A7NnXs379573aZkEQ+o4kSRxtO87aio3UdTac+fnig6/yzPjHSTWkhLF1ghCZOhq20Nm6D2QKzHkL0Rgyw92kXheRiVTdC3/FcaSoR8co+dF/G0aNJuOpX5/z9XPnzj/nz994YynLl7/DiRPH0Wq1/Pu//xdlZaU8//z/cv31NzBlytU8++zvAImCgiHs3v0tDz30GBqNhk8//ZgRI0Zht9t69HkEQQif0vZy1lRsoKKjCgCTxsj1OTM52HKE45YSFh98lafHP0Gyvv8MVwhCT3U07sDWtBOQkZS7AG1sXribFBIRmUhFGqvVyk033Ypeb+Dee2+no8NKQcFgxo2bAEBcXBz33HM/r7yymCef/BULF95FMBjkoYfu5a233icxMYm1a1fT3t4e5k8iCMKlqLbVsqZiA8ctXbdmMSoDs7OnMzXjClQKFRNTx/Hy4TcptVacfjL1BIm6+DC3WhDCz96yh46GLQAkZt+M3jg0zC0KnYhMpM735Ohi9WZZ/Pj4+DN73hmNJpxOJ0bjT1cbZGfnApCYmER7uwW3201iYtcdanp6BkVFh3qlPYIghFajo5nPKzZysOUIAFqFhhlZV3FN5lS0Su2Z16kVah4f/XNeOvQ6p2xVLD64lGcmPIFJYwxX0wUh7DrbDtNeuwGAhMx5GBJGhrlFoRWRiVSkuZh5UD9+ndFoQqPR0NraSlJSEvX1daFqniAIvaTN1c4XlZvZ3bAfCQmVXMlVg67k2qzpxKjPvoG4VqnhF2MfZPHBV6m217H44Gs8M/5xYtUxfdx6QQg/p/U4luo1AJgyZhGTND7MLQo9xbPPPvtsX5/U6fSG/BwGg+aSz+PxuHn//bcpLj6GyRTPkCHDWLt2NTt3fsOgQZlYLBY2bFhHMBjEZDLx2Wef0NTUyIgRo1i58iPKykowGk3k5OQhk8nIzc3j9ddfoaammpqaakpKTpCTk09qav9asRAq3YmhEFmiJYZ2bydrytfz7vGPqLbXIZfJmZz+Mx4ZdR/jkkejVqjP+36VXMXY5FEUt52k0dlEcdtJxqdc+H2RLlriJ5xbX8bQZSuj9dTHgERc6lUYU6f2yXn7gsFw7i1sZJIkSX3YFoA+2Yk6kne8Fi6OiGH0i/QYOn0uvqrezpbaHXgDXmTImJAyhrm513Zr4rjd28lzB5bQ5GwmKzaDX459FL1KF4KW941Ij59wYX0VQ3dnFS1l7yNJfmLNkzBlXHvRoznRwGw+dwV2MbQnCMKA4w142Va7k81V23D6XQCMShrODXlzelQTKlYdw6/GPcJzB5ZQba/j5cNvsmjsw2iV0bshqyBciMdRR0v5B0iSH0PiuH6XRF2ISKQEQRgw/EE/u+r3sL7yK2zerrv0waY85ufPIc+Y0yvnMGmM/Grsozx34BVO2apYUvQWT455MOqH+QThbLyuZlrKlyMFvehNI0jInDugkigQiZQgCANAUAqyt/Eg605tps1tASArdhDz8+cwLH5wr1/4E3Xx/Grcozx/4BVKrRW8euQdHhv9ACq5uORGCru3k49LPkOn0jEz82rM+sRwNynq+DwWmsveIxhwoYsbQmLOTchkA2/nOdGrBUHotyRJoqj1GGsrNtLgaAIgVZ/MDXmzGWMeGdI752R9Er8a9yjPHVjCcUsJbxx9j0dG3otCrgjZOYWL0+Bo4pXDb9Lm7qrtt7NuN5eljOXa7Omkx4jFQBfD7+2guexdgv5ONDE5JOUuQCYbmH/bYrK5ELFEDKNfOGN40lLGmooNVNqqAUjQxjM3dxY/Sx2PvA/vmus6G3j+wBKcfhfjkkfz88I7oyaZ6o998ISllNePvovL7yY7NpM0Qwp7mg4QlIIAjDGPZE72NWTFDQpzS3tHKGIY8DloKl2G39OGWp9BcsG9yPv50LWYbC4IwoBRaatmTfkGTraXARCrimFOzgwmZ0wKy9BaRkwai8Y+zOKDr3GwuQiVXMm9w2/v02RO6LKzfjcfnvyUoBRkrHkU9xcuRK1Qc33uTL6s3s6uhr0cbjnK4ZajDE8YwpycGRSYcsPd7IgS9LtoLn8Pv6cNlTaF5Py7+n0SdSHiidQ/KC4+yssvL8bv9zNx4iQAvF4vXq+Xp576px63acWK5dx++10AbNq0nr/+9U9s2LC1x8ftr/rj3fBA05cxrO9s5POKjRxuPQaATqllZtY0pmdOQRMBF/qKjkpePPQ63oCXyemTuHPoLRE/Kbe/9MGgFGRN+QY2V28DYFbWNObnz/lJMtvhsfFVzdd8U/cd3kBX7aV8Yw6zc2ZQmDAk4uN1Nr0Zw2DAQ3PZe3iddSg1iaQMvh+FamAUnj3fEymRSP3IG28sxeVysWjR0wB4PB727dvD5Mk9Lyy2YMENrFy59pz/LfxQf7mID2R9EcNWl4V1pzaxt/EgEhJquYppmVOYlXU1epU+pOe+VCXtZbx8+E18QT/TBk1mweD5Ef3l3B/6oDfg5e3ijzjUcgS5TM4dQ29mcvqk876n0+dgW81OttXuxHW6PEZWbAazs69htHlEVD1N7K0YSkE/zeXL8XRWolAZSRnyAEr1wNkKKeqG9tZ9XER1uaVXj5mVn8Dc20Zf0nv8fj9LlrzEjTfewh//+D9kZmZRVVXJXXfdR2xsLH/+8x8oKBjCQw89xtKlf+PIkcO89NKrrFu3hqVL/8ZNN91KS0szZWUlzJt3E52ddt54YykjRozi8suvBGD16lUUFx+lvd3CH//4VxSK6Jg7IQjh1uGxsaHyK3bW7yEgBVDIFEzJmMTs7BkYNee+6IXTkPgCHhl1P68WLWNb7U5UchU35l8X0clUNOvw2Fl6ZBlVthp0Si0Pj7yXYQmDL/i+GJWBeXnXMiPrKr6p+5Yt1d9Qba/jtaPvkmpIYXb2dCYkj4mauW49JUkBWk59jKezErkyhuTB9w6oJOpCIjKRCrcDB/bxwgt/QZIkZDIZf/jDf/PMM//CsGGFHDt2lD/+8X9YsuRNpk6dRkNDPQDz59/MkSOHAZg7dz7r13/O8OGFPPjgo5w4UcywYYW8++5bPPTQYz8414QJE7npplv5zW+eprS0hGHDhvf55xWEaOLwOdlctY1ttTvxBX3IkDEpdQLX584iSZcQ7uZd0IjEoTw48h5eP/oum6u3oVaouD53Vrib1e/Udzby8uE3afdYSdTG88SYB0kzpFzSMXRKLddmT2faoMnsqt/L5uptNDqaeLv4Q9ZVbGJW9jQmpV3Wr8taSFKQtsrVuG2lyBU6kgvuQaWJ/H7WlyIy+pf65OhsevI4c/z4y1i06GkkSaKmppq1az8lPT0DgEGDBlFWVnJRx8nO7pqkOGxY4TlfM2hQJtC1ybHT6ehWewVhIHD7PWyr3cGX1dtx+d1A1wqrebnXRt2S9THmETxQeCdvHVvOulObUclVzMqeFu5m9RvH20p4/eh7uANucuOyeGz0Az3aRFqtUDMtczJTMiaxp/EAm6q20uJq44OTn7C+8itmZF3F5PRJETEXrzdJkoSlZh1O6zFkcjXm/LtQ65LD3ayIE5GJVKSQyWRkZWVTUDCEurpa4uKM1NTUMHjwEAD0ev2Z5KepqfGs7//hf3eNq5eUnGDIkGFnfY0gCD/kC/rZUfcdGyu3YPd1AjAsfjDz8+eQHZcZ5tZ134SUMfiDft45/hGry79AJVcxLXNyuJsV9b6p+44VJasJSkHGJ4/m3uELUStUvXJspVzJlek/Y1LqBA42F7Gxaiv1jkZWla5lY+UWpmdO5epBV6BTRu/+it+TJAlr3SYcbQeRyZSY8+9EY8gId7MikuLZZ599tq9P2hc7UXdnx+sTJ4r5/PPPaGxsQK83kJubB8DIkaP5+OMPOHWqgt27v+XJJ5/CZIonKSmZ1atX0dLShNXazp4935GZmUVjYz2bNq3H6XQyePBQdLquTlVUdIiSkpPU19fR3t7O1q1fYTLFI0mwdu2ntLe3c8UVk5HLo2ciYyiJneejX09iGAgG2N14gNePvsv+5sN4g15y4rK4v3Ah1+fOwqSJ/jkag2LTiVPHcrTtOMWWk5g0cWTFRk79omjqg0EpyKdl61hbsQEJidnZ17Bw6E0oQzDsJpfJSY9JY0rGJDJjM2h1WWhxtVLSXsY3dd/h8XvIiEmLiG2BuhtDW+PX2Jp3gkyOOW8huti8ELQuehgM594vU6zaEyKWiGH0604MJUniUMtR1lZspMnZDEC6IZUb8mYzKqmwXz7F3Vqzg5Wla5Ah477ChfwsdXy4mwRETx/0BLy8fewDDrceQy6Tc9fQW7kifWKfnV+SJE60l7Kxcgul1goA1HIVUzIuZ0bWVWFN+rsTQ1vzt1jrNgMyknJuRR9/7ukpA0XUrdoTBGHgkSSJE5ZS1lSsp9peB0CSNoG5eddyWcrYqFpyfqmmZ07BF/DxWcV63in+CKVcyfjkns8VHQisng6WFi2j2l6HTqnj0VH3MiS+oE/bIJPJGJ4whOEJQyi3VrKh6iuK206ypeYbvq7dxeVplzEre3pULIbobD1wOomChKwbRBJ1EUQiJQhC2FV0VLGmfP2Zu3mjOpbrcmdyRdrEkAzNRKJrc6bjDfpYX/klbx1bjkquZFSS+BI7n7rOBl4+/CZWTwdJ2gSeHPMgKYbwTobON+XwC9ND1Njr2Fi5hUMtR9lRv5tdDXu5LGUss7Onk3qJqwf7isNyFEvN5wDED5pDTOLYMLcoOoihPSFiiRhGvwvFsK6zgbUVGzjSehwAg1LPrOxpXD3oyoiYX9LXJEni0/J1fFX9NUqZgsfH/JzhCUPC1p5I7oPH2k7wxtH38AS85BmzeXTU/T1amRcqjY4mNlVtY2/TQYJSEBmyrv38cq4hMzb0k7cvNobOjpO0VqwAJIxp0zGm9rwIdX8iKpsLUUnEMPqdK4bNzlbWndrE/qbDXdXIFWpmZE5lRtZV/WLFU09IksTHpZ+xvXYXKrmKX4x5kMHx+WFpS6T2we21u/i45DMkJC5LGcs9w25D1Usr80Kl1WVhc/U2vqvfi18KAFCYOJQ52TPIN+WE7LwXE0O3vYLm8g9AChCXMhlT+oyQtSdaiURKiEoihtHvxzG0ejr44tSXfNuwl6AURClTMHXQFczOviYinyaES1AK8sGJT9jVsAeNQs2isY+QZ8zu83ZEWh8MSkE+Kf2crbU7ALguZyZzc2dF1QIEq6eDr6q/Zkfdd3iDPgAGm/KYnXMNw+IH9/pnuVAMPY4amsveQwr6iEm6jPhBotL+2YhESohKIobR7/sYdnodbKraytd1u/AF/ciQcUXaZVyXO5MEbXy4mxmRglKQd4o/Ym/TQXRKLb8a92ifl0aIpD7o9ntYVrycI63HUcgU3D1sAZPSJoS7Wd3W6XWwtXYH22t3nikwmx2byeycaxiVNLzXFlecL4ZeZyNNZe8gBdzo40eTmH2jSKLOIaSJVHV1Nc8//zyFhYU0NjZiMplYtGjRed8TqYlUcfFRXn55MX6/n4kTuza19Hq9eL1eiooO8eqry1AoFFRUlPHee2+TmZmFUqlEo9Fw++13AbBr1w6ee+5PLF68hLS09F7/XANJJF3Ehe6JMalYcfALvqr+GnfAA8D45NHMy7027JOCo0EgGODNY8s51HIEg1LP0+Mf79Mq7pHSB62eDpYcfouaznoMSj2PjLqPwfH9o66Ry+/i69pv2VLzDZ2+rgLP6YZUZmdPZ3zKmB4nVOeKoc/dSlPpMoJ+JzrjMJJyF5wpGi38VEgTqaKiIpqbm5k5cyYA119/PX/6058YOXLkOd8TqYkUwBtvLMXlcrFo0dMAeDwe9u3bw5VXTjmTqb/99hskJiYxb96N+P1+7rjjZlauXHvmGIsWPcrvfvesSKR6KFIu4sKlkySJbbU72Vi9Bbunqxp5YeJQbsibHVEFJ6OBP+jntSPvcrTtOLGqGJ4Z/3ifJaGR0Adr7PUsKXoLq6cDsy6RJ8c8SLLeHNY2hYI34GVn/R6+rN6O1dMBgFmXyLXZ0/lZ6vhur149Wwz9HitNpcsI+GxoY/Mw592BbICsju2ukNaRGj36h7VOgsHgmUre3dVcvhy3raxHx6j+0X9r4wpIzr/rko7h9/tZsuQlJky4jNtum8+LLy7F4XCwd+9uYmNj8Xq9GI0mOjvtvPHGUrKzc5g5czYAW7Zspr6+jqqqSv7f//srBoOY/yEMHJ+Vr2dz9TYA8ow53Jh/HQWm3PA2Kkop5UoeHnkPS4qWcaK9lMWHXuOZ8Y+TpEsMd9NC7khrMW8eW4434CXfmMujo+8jRmUId7NCQq1QMz1zClMyLmdPw/4z+/m9f2Il605tZmbW1UxO/1mPV7P6fXaay94l4LOhMWSSlHu7SKJ6qFd/e5s3b2bKlCnk559/hUl8vB6lUnHOf7fWKHH3ZsMAtVp53ozyewaDhj17dvHqq4uRJAmdTsXNN8/jk08+IiHBwOjRQ9m370oyMjK45ZZbAHj11Zf4t3/75x+ca+LEcUyevIj//u//5uTJImbPnt3Ln2hguJiYCZHl85Nfsbl6GwqZnF9e/iBXZI4X8y56we+SFvH7r1/ieEspLx1+jf87459I0oe+wGO4+uAXJVt4+8hKJEliavbPeHziPRG/Mq+33JQykxtGT+fbmv18WryBGlsDK0vXsLl6K3OHzuDagqvQqy7+gcX3MfR7HZzcuxy/tx19bAZDLnsExSUcRzi7XkukvvvuO3bv3s2///u/X/C17e3O8/67KfN2TD3ci/RsjzMv5hG1w+Fh1KhxPPror5AkiZqaalpa7Hi9fiwWBxqNHYfDg93uPnO8QCD4g2N7vX5iYhJpabGjVutpbGwL++PxaBQJwwrCpdnbeJB3ilcCcM/w27kya4KIYS96ePi9vOh5nUpbNf/15V95ZvwTGDVxITtfOPpgIBhgVdlattfuAmBu7iyuy5mJ1eKGXr/FjmxD9cP5zYShHGktZkPlFqrttSwvWs2nxRuZNuhKpmVOueATuu9jGAx4aC59B6+rCZXWTHzOnVisfkD0z4txvhuKXplZtm3bNnbs2MHvfvc7WlpaOHjwYG8cNuxkMhlZWRdeciyXy5EkiZKSEz94r9B9HkctndaqcDdDuATHLSW8e3wFADcXzI2Y/eL6E61Syy/GPERmTDotrjYWH3oNu7cz3M3qNW6/m6VH3mZ77S6UMgUPFN7J9VFW3qC3yWVyxphH8pvLfsmiMQ9TYMrF5XexvvIr/nPXH/ik9HM6PLbzHiMY9NFS/gFeVwNKdTzmgntQKPV99An6P8Wzzz77bE8OcPToUR577LGuiryffsrq1avJzMxk+PDh53xPX+wm3p0dr0+cKObzzz+jsbEBvd5Abm7XqpBdu3bw5Zcb8Xg8JCYm8tlnn9DU1Eh8fAJpaenU1dWyb98eSktLUCjkbPLKdv4AACAASURBVNq0nmAwSEpKKqtWraCpqZHx4yf2eO5YfydJEm57BZaqNXQ0bqOtbg8SEpqY7AF9IY0G1bZaXj78Br6gnxmZVzE371qg+zvPC+emUqgYax5FcdtJGhxNHLeUMD55DOoQDHv1Zfza3VZePPQa5R2VGFR6nhzzEKOSzv09MtDIZDLM+kSuSJvI0PgCbB47jc5mTtmq2F63iw6PjTRDyk+G/HQ6BdVH38XTWYlCFUvK4PtQqsO3iXK0Mhg05/w3UUdKCDtJknDZSrA1foPXWQ+ATK5BCnoBCZ1xCInZNyNXnPsPWQifZmcrf9n/Nzp9DiamjOO+woVnlmyLfhg6HR47zx98hWZnK9mxmfxy3CPolNpePUdfxa/aVsuSorfo8NpJ1ifxxOgHSdYnhfy80a7aVsvGqq79/KDr6dXElHHMzp5OiiEZSQpir/8Ma/MR5Eo9KYMfQKUVv9fuEAU5hYgkSUGc1uPYGr/B524GQK7UE5d8BTFJl6FVtlJ++H2kgBulJglz3kJU2v6/UimadHjs/HX/32h1WxieMITHRz/wg2Xaoh+GVrvbynMHltDmtpBvzOEXYx9G04t7FPZF/A63HGPZseV4gz4Gm/J4ZNR9GFRi2OlSNDia2Fi5lf3Nh87s5zfOPJJZWjl0liNTaEgpuA+1Pi3cTY1aIpESIookBXBYjmJr2oHf0waAQhVLbPKVxCSNRy7vGqIwm2Opr62iteIjfO4WZHINSTk3ozOGbxNX4e9cfjcvHFhCTWc9WbGDeGrcY2iVP3xqKPph6LW5LPz1wCtYPR0MiS/gidE/77VhvlDGT5IkttZ8wydl65CQmJQ6gbuG3drtekkCtLra2FS1jX0N+5irVzFYrcSPjLjsBSQliGHSnhCJlBARpKCfTsshbE27CHitACjUJuJSJhOTMOYntUz+cbVJW9VnuDq6JvMb06YTlzJFzJsKI1/QzyuH3+RkexlmXSL/NOEXZ90rT/TDvtHsbOG5A0uwee0UJg7l0VH3o+phQiJJEnExXmyd6l7va4FggI9L1/BN3bcA3JA3h9nZ00Wf7gXBgIeGsvcJOGtxByVWdLqwyjTcOfRmJqSMDXfzotb5EqkeTzbvjkidbC6ERjDgxd66l7bKVTjbj50eqkvElHEtiVnz0Bgyzro1wfcxlMmV6E2FyGRyPJ2VeDor8blb0MUNRiY/dz0yITS69oD7kCNtx4lVx/D0+MeJ15rO+lrRD/uGQWVgROIwDjQXUdfZQIOjibHmkd3aXqRr0Uc5rZUraazYiN/dhs44pNe2D3H53bx65B32Nx9GKVfyQOEdXDXoCpFE9YKA30lL+fv4nXUolDGY8u6gTnJT3VHHwZYjtLraGBpf0OMkeyASk82FsAgGPNhb9mJv+Y6gv6t2mEqbQlzqFPSm4Re8MJ8thq6OElorP0UKelBpzSTlLUSlCX1RQqGLJEmsKl3L1todaBUanh7/OJmxGed8veiHfavGXs8LB5fi8ruYkDyGB0bceUnJlMdZj7XuSzydlT/4uSYmG3Pu7ciVPVt5bHG388rht6h3NBKjMvDY6AfIM164xIxwYX6vjZby9/G5W1CoTSQX3INKk0BSUgyfHv6SVaVr8QV9JGrjub/wTvJNOeFuclQRT6SEPhXwu7A17aS18hPctlKkoA+1Pp34zOuJz7gWtS75ou4+zxZDlTYRvWkYbnsFfk8rDksRal2KSKb6yObqbWyo2oJSpuDx0T8n7wIXY9EP+5ZRE8uQ+HwONB2mprOOdreVUUnDL9jffB4L7TXrsNZtJOC1IldoMaZNI2f4XNqbj+NzN+OylaIzDkGu6N7KwCpbDS8cXEqb20KKPpmnxz9GRoyY/NwbfB4LzWXv4PdYUGnNJA++H5W66ymxwaAhSZHMOPMoTtmqaHQ2813DPgJSkAJjbo83RR4ozvdESiRSQq8J+DrpaPyatqpP8dgrQPKjickiIXMepvQZqLVJl/T4/lwxVCj1GBJG43O14HM34Ww/ikyuRG3IFMMDIfRdwz5WlHyGDBkPjLiTUebCC75H9MO+Z9IYyTflcqDpMFX2Wjp9DkYkDjtr3wj4OrHWf4mlak3XylmZgtjkKzDnLkAbl4cpMRlJnY/LXo7f3YrTWow2Ng+F6tL2Dj3UfIQlRctw+d0MiS/gl2MfDmlF9oHE62qmufQdgj4ban06yQX3ovyH+HzfB2PUBi5Pu4ygFKSio5IyawXFlhIGm/Iw9NP9C3uTSKSEkPJ7O7A2bMNStRqPowqkANrYfBKy52NKm4ZKk9CtBOd8MZTJlejjRwDg6azCbT+F392GNq5AzJsKgaOtx3mr+AMkJG4bfCNXpk+8qPeJfhgeCdp4cuKyONBcRKWtGnfAw/CEIWf6YTDgoaNpB22Vq/A6agEwJIzFnHc7hvhCZKdXzhoMGtweGYb4kXgctfjcLTgsR9EYMlBq4i/YDkmS+Krma5afWEVACnBl2kQeHHE3GmXvlWgYyDyOWlrK3iUYcKKJySE5/y4UPxp+/cc+KJfJGZYwmMGmfE62l9HobObbhn3Eqg1kxmSIG9HzEImUEBJ+Tzvt9V9hqV5z+mIcRGccSmL2TRhTJ6NUn30C8sW6UAxlMhna2BxUuhRctlJ8rsau4YfY/B7P5RD+7lRHNUuK3sIvBbg2ezpzcq656Pf2537oqanBXVGGKiU1Ir+AknSJZMakc7D5CBUdlQSlIENMuXS27qP11Me4bWUgBdEZh5CUexuxSeN/Mmz39wUfKgzxI/F72vC5GnG0H0WpjketSznn+QPBAB+WfMqmqq0A3Jh/HTflX49cLoaSeoPbXkFL+XKkoBedcSjmvIXIz1JD7Gx9MFEXz+Vpl9HusVJjr+NI63HqOhsYGj8YdS/WIetPxGRzoVf53C10NO7E2X4E6Prz0ZtGEJc65bwX1kt1KTH0uVpoOfURfo8FuUJHUu6taGPzeq0tA1WTo5m/HHgZh8/J5WmXcc+w2y4paeiv/dBx7Cj1L72A5POhzhhE0q23YRg1OiITqkMtR3nj6HsMVcqZE2dCHeza+FdtGIQpfSbamKxzvvfH8ZMkCWvdJuwtuwEwpc8gNvnKn3xul9/F60fe40R7KSq5kvsK72B88ugQfLqByWk9QWvlKpAC6ONHk5g9/5yLdy7UB/c0HuCjk6txB9zEqWO5d/jtFCYODVXTo5aoIyX0Cq+zkY6mb3BZj5/+iQxDwmjiUiaHZNuBS41h0O+mteqTrjttZJgyZhFrnhSRX27RwOrp4C/7X8bibmdk4jAeHXU/ikscNu2P/bCz6DANL7+I5Pcj1+kIulwA6IYOw7zgdrS5kZXAu20V1FWtReXvAMCr0JOeNQ+dcegF+8a54mdr/g5r3SYAYpImEj9o9pkv8jaXhZeL3qLR0USsKobHRj9ArvHcyZpwaTrbDmOpXgNIp3/3c84bx4vpg20uC28Xf0R5xykApg2azE3516MKwf6N0Uqs2hN6xOOoxVKzDmv9ZvzuVpApiEkaT1LOrcQkjg3ZLuKXGsMz86akIB5HNW57OX5Pe9e8KZmYN3UpnD4Xiw++SrOrldy4LJ4Y8/NuXVT7Wz/sPHiA+ldegkAA4/QZDPr1P6MwGHBXnsLX0EDHN9vx1NejycpGYQjvBF6vs4G2qs/oaNyOIughINewsdPBGrud+Nhsci4iuTlX/DSGQSi1Sbg6SvA6a/G5mtEZh1Bpq2PxwVexuNtJNaTw9LjHSI9JDcXHG5Dszbtpr10HQFzKVEwZMy+YDF9MH9SrdExKm4BKrqTUWsEpWzVFrcXkm3KIU587gRhIxBwp4ZJJkoSns4q26rV0NGzF77EgkymJNU8kKedWDAmjQj4PqTsx7Jo3lYtKaz49b6oBl60cXVxBt5dtDzS+gI9Xit6kyl5Lij759Ga43Yt1f+qH9v17aVj6CgQCmGZeS/KddyNXKNHlF2C8ehpI4KmqxFtbg3XbFgJ2G5rsXOSavt1s2+9px1K7nvbaDfi97cgUGoypV5OcdxsuRQxH205wrO0ECRrTeWuAwfnjp9YlozFk4ew4ic/VSFt7Ma9WbMXudzMsfjCLxj5EnFiZ1yskScLW+DXWhq8AMGXMwpg6tdtlZM5GJpNRYMplROJQSq0VXRPR6/eiUajJjhMrokUiJVy076saW6rXYGv6hoDXikyuJi75cpJyFqCPH45c0TdfDD2JoUpnRmccgstW3lVvqv0Ian06Sk3PJsD3d0EpyFvHllNsKcGojuPp8Y/1aJl6f+mH9j27aXhtCQSDxM+5HvNtC3/wxSJXqTEUjiDuyskEnS481VW4T1XQsX0rUjCINjsHmTK01aQDPgfWhi20VX+Gz9V0upTBJJJyb0MXl49MpiA7LhOtQsNxSwlHWo+TrEsi/Ty1nC4UP6XGhC62gHbLUVSBTvKUcuLjR3LvyHvEpOVe8v28NFvzTkBGQtYNxJovbtUsXHofNGmMXJE2EYfPQaW9huOWEk51VDE0oQCtcuDejIpESrggSZJwdZzEUrUae/O3BHw25AodcalTSMq55XQhvr69MPY0hgpVzOl6U4343M04LEeQK7Wo9ekD/u7qbCRJYkXJZ+xpPIBOqeVX4x4lRW/u0TH7Qz+0fbuLxjdeBUkiYe4NJN2y4Jx/Pwqdnphx44kZPwF/Wxve+jpcJ47TsXMHcq0WTWYmsl5etRYMeLE176S1chVeRzUgYUgYfbqUwYgzm4B/L8+YjUIm52R7GUWtxaQbUkg1nH2RyIXi5w/6WVG+kS9ay8lRKjArFQySedDH5aFQiSGhnpKkIJbqtXS27QeZ/PRowKVN2u9OH1TKFYxKKiQzJp2T7WXUOxrZ3bCfJF0iaef4W+nvRCIlnJMkBXG2H6Ot6hM6W/cS8HciVxowpl5NYs7NXXey8vBMOOyNGMrlKvTxI5GCPryOGty2MgJe2+k7dLEM+x9tqPyKL6u3o5QreXL0gxc1h+ZCor0fduz4hqZlb4AkkXjjzSTdePNFJeHKOCNxl1+BbshQPPX1+JoacRQdonPfXpTxCahSe14yQZICdLYeoPXUCty20q76bXEFp0sZXHbeoewCUx7BYIBSawWHW46RGZtB8lmS5vPFz+lzsuTI2xxqOYokVzGh4BZMkg+/uxlH+1HU+lSx40APSEE/rZWrcFqPIZOrMOctRG+69NV0PemDKYZkfpY6gQZHE/WORg40F2FxtzM0Ph/lANuvTyRSwk9IUgCHpYi2ylU42g4Q9DtRqOIwpU8nMfsmtLE5yMLcUXorhjKZDF1cPkpNIm5bKV5XPW57Odq4gj4bpox0O+t2s6rsc2TIeGjkPYzopeXP0dwPrdu30fzOWwAk3nwrifPmX/IxVElmjFOvRpOegae6Cl9zE/a9u3EeL0adlo4q4dITDUmScFmP03rqY5ztRWe2YErMvhlj6tSLrjo+JD4fd8BDRUclh1qOkhuXRZIu8QevOVf8Wl1tvHDwNartNcSpY/nl2IcZmji0q9aU14rP1YCz/SgKtRG1Xkw2v1TBgJfWUx/itpUhU2hIzr8bbWxut47V0z6oVWqYmDIOg9pAaXs51fZaDjQXkROXec7NyvsjkUgJZ0hBP52t+2k9tQpnexHBgAulOh5T+kwSs+ajicmMmBVuvR1DtS4ZXVzBme0uHO1HulYfqY29do5odLjlGG8XfwjAHUNvYVLq+F47drT2Q+uWL2l+/x0Akm5bSOJ1c7t9LJlMhiYjA9O06ShiY/FUVuJrbMC242s8NTVosrJQxFzcMJjbXklb5SrsLbu7+q4mkYSseZgyrkV1EZXGf9yu4QlDsPscVNqqOdR8hAJTHgnavx/nbPGr6Khk8cHXaPdYSTek8tT4x84M98hkcnTGYSAF8DiqcXWcBJkMjSFLDKdfpIDfRUv5+3gc1ciVBlIK7kVjOP+igPPpjT4ok8nIictidNIIKjoqaXI2813jfiQk8o05A2K/PpFICQQDXuyte2g9tQqXtRgp6EGpSSJ+0LUkZM1DY0iPuKGuUMRQoYrFkDAar7Mev7sFR3sRcqUBjT69V88TLcqtlSw9soyAFOT6nJnMzL66V48fjf2wffNGWj5cDoD5jrtIuHZOrxxXJpejy8vHePV0ZAo57spKvHW1WLdtxW+1os3JQa49+3Cc19lIW/UaOhq2EvDZkStjMGXMIjFr3kVvAn7WNslkFCYOpd1jpcpey6HmIwxNKMCk6bq5+HH89jUd4tUj7+AOeChMGMqTYx/6yfL4rpWzeciVety2MjydlQR8nejiCkQydQEBn53msnfxuRpRqIykDL4PtS65R8fszT4Yq47h8rSJ+II+KjoqKbVWcMJSxpD4fPSq0JTBiRQikRrAggE3tuZvaatchavjJFLQi0qXSsKgOcRnXodaH5nbW0DoYiiXqzAkjEIKePA6anHbSgn47GhjB9a8qfrORl489BqegJfJ6ZO4pWBer/8tRFs/tGz4gtaPPwIg+e57iZ8xq9fPIVep0A8rxDh5KkG3G091FZ7KU1i3b0Xy+9Hm5CBTds1L9HusWGo30F77RVcJErkaY+pVJOXcgjYms1f+XmUyGaOShtPsbKGms46DzUcYnjAUoyb2TPwkSWJj1RY+KllNUApyVcYV3Fe48Lwr8zSGjK7tmzpO4nXW4XU2dBUBFXthnpXf005z6Tv4PW0oNUmkDL7/kp8ynk1v90GFTM7whCEUGHNP79fXxLcNe4nTxDEoJi1iv096SmwRMwAF/E7szbuxt+5BCngAUOszMKZORRs3OCr+2Psihp1th7HUfA5SALVhEObc2wbEaqN2t5U/7/8bVk8HY5JG8PCoe0PyeD6a+mHburW0fboKZDKS770f01XT+uS8nvp6Wj/5GMehgwAoYuOIn38d5MvotOwHKQAyObFJE4lLmYJCFZpCn4FggDeOvc/hlqPEqAw8Ne4xxuQOpqGpneUnVrG7cT8yZNwyeB7TB0256GuIp7OGlooPCQZcqPXpmPPuDNlniFY+VwvN5e8R8NlR6dK6Nh/upd9RKPugw+fkg5OfcLC5CIBx5lHcOexWDP3w6ZTYImYACfg6sTV/S2frPqSgDwBNTA7G1CloYnKjIoH6Xl/F0OOsp7ViBQGfDYUqlqTc29AYBoX8vOHi8Dn56/6XaXQ2k2/MZdHYh1GHaCuIaOiHkiRhWfsZbWtWg0xGygMPYpw8tc/b4SotoeWTj/DFtaEcZ0Km6Ups9fEjMaVNR9kLTycuxBf08+qRtyluO0mcOpZ/veoJlu1bSam1ArVcxc9H3MVo84hLP667leby5QS8VpTqeMwFd4sVfad5HHW0lC8nGHChicnCnHdHrxYPDnUflCSJ3Y37WVGyGk/Ai0lj5N7htzMsYXDIzhkOIpEaAPzeDmxNu+hsO9B1Bwto4wowpkxBc55NSSNZX8Yw4Ouk9dRKPI5qkClIyLyemMRxfXLuvuQNeHnx0GtUdFSRZkjh1+OfCOnchkjvh5Ik0bb6Eyzr1oJMRupDjxB3+ZVhaEcQR9shrA3bCPo7AQhUOfF/Z0ETN4ikBQvRD+mbjWS9AR+vFL1FSXvZmZ8Z1XE8PuYBsmK7f4MR8HXSXP4BPlcDcqUec94d/fqG5WK47ZW0VHyIFPSijRtMUu6Cn9T96qm+6oOtrjaWHfuQU7YqAGZkXsUN+XNQ9ZMyCWKvvX7M57Fgrf8SS9UavM46QEJnHEZSzk3EpVwZ1SvS+jKGcoUaQ/woggE3Xmctro4SAn4n2ri8fjNvqmvo5j1OtpcRrzHx1LjHiNOEdhgzkvuhJEm0rlxB+/p1IJeT9sjjxE26os/b4Oo4SeupFTgsh5GCXtS6NBIyb0BlNeMuLsPX2Iht5w7clafQDMpCGRfabVcUcgXjkkdRZq2g3WMlIyaNp8Y9RqqhZ5Oeu/rYSLzOrgK5TssRVLrkkGx4Hg2cHSdpqfgIJD/6+JEk5d6KPARJR1/1Qb1Kz6TUCchlcso7KqnoqORIazH5xlxi1RdXkiOSiTlS/YwkSfjczdiaduFsPwpIgAx9/AjiUqb0eJVHpAhXDDvbDmKp+QKkAJqYLJJybov6OR2SJLH8xEp2NexFr9TxTxOePGc1694Uqf1QkiRaPlqO9cvNoFCQ9ujjxE64+G03eoO7swpr3Zenb4BAqY7HmH4NelPhmSH4oNtN++aNWDasR/K4QSYjbvJUEm+8GVV8aIf6vAEv9YFa0hSD0PTirgaSFMBSvQ6H5RAgIz7zemKTJvTa8aOBw1JEW9VngERM0gTiB10Xshu2cPTBUx1VLCv+kFZXGyq5kpvy53L1oCujamrJj4mhvSgWDPrwuVvwuZrwuprwuRrxupqRAu7Tr5BjSBhNXMpkVNrE8x4r2oQzhh5Hbde8KX8nClUc5rzbUUdxiYS1FRvZUPkVKrmKX417hDxjTp+cNxL7oRQM0vzBe3Rs3QIKBelPLCJmbN8N43pdzVjrv+qqRg6ndxK4ipjE8edc0ebv6KDt8zV0fL0NAgFkajXxM68lfs71KPTRNzQrSRIdjduxNX4NQFzKVIxp06L6i/Zi2Vv20l67HoC4lMkY064J6ecOVx90+92sLF3Ltw17AShMGMo9w2/HGOKn4KEiEqkoIEkSAX8nPmfj6YSpCa+7Cb+7ja4nTj8kV+rRmwpPD9/1z+qy4Y5hwGen5dTHeB21yGRKErLmXfI+V5Hg69pdfFSyGrlMzqOj7mNUUmGfnTvcMfwxKRik+b236fh6OzKlkrQnf0nM6DF9cm6/t4OOhu04LIcBCZlcRVzylcQmX37RFfa9TY20frKSzv37AJDHxJA49waM065Brur9BQOhjl9n6wEsNevo2h9wDAlZ8yKmIHBvkyQJW9MOOhq2AmBKn0FcyuSQnzfcffBQ8xGWn1iFw+8kRmXg7mELurVgIdxEIhVhpGAAn7vl7wmTqwmfu4mg33mWV8tQaZNQ6VJQaZNR61JQ6VNRKGP6/d1bJMRQCvqx1G7A0XYAgFjzJEwZs6Jm3tSB5iLePPo+EhJ3D1vAlek/69PzR0IMvycFgzQtexPbrh3IVCrSFz2FYcTIkJ834Hdha9qBvWXP6YUgcmKSJlzSdi4/5qoop3XlClwlJ4GurWgSb76F2ImTenVT5L6In6ujhNbKVUhBH9rYPJJyb+t3WzdJkoS1/kvszd8CkJA5l5g+Gs6MhD5o9XTwbvEKTrR3PYWdnD6JWwff0KtDxqE24BIp5/Fi3Ht3ETPretRp4R2OCfgceF2N/zA014TP3QoEf/JamULblSjpUlCf/p9Sa+71VRzRIhIuAN+zt+7vehwvBdHE5JCUuwCFMrJrpZS0l/O3Q6/jlwLckDebOTkz+rwNkRJDKRCg8a3XsX/3LTK1moxfPo1+eGifzAWDPjpb9tDRtPPMULzeNAJj+vReWfovSRKOw4do/eRjvPX1AGiysjHftrDXPluflSBx1NFS8QFBvxOVLpXk/Dv7TT03SQpiqVmHo+0gICcx52YM8X33RCZS+mBQCrKtZgefla/HLwVI1ifxQOGdZMdlhrtpF2XAJVItH31A++aNyDRaUh94kNiJob8Ll6QgPnfrDxImr6vpzFLmH1NqEs4kTF3/n4pCFdfvnzJdiki5AHzP3VlN66mPCfodKNRGzLkLI3ZD1lp7Pc8dWII74OaqjCu5fciNYfnbioQYSn4/jW++hn3PbmQaDRlP/TqkpQQkKYjDcpiOhm0EfF2fXROTgyljZki2IpICAWy7dtD62acErFYA9CNGYl5wO5rMnpU+6cv4+TwWWsqX4/dYUKiNJOffHfUr+qRggLaqT3Fai5HJlCTl3obO2Lf1lSKhD/6jus4Glh37gHpHI3KZnLm513Jt9rSI369vwCVSQbcb64r3aP16BwCmGbMw37YQmbJ3lpYG/K7Tk76b8LmaTw/NNZ+p3/SPZHI1Kl0yal3q3xMnbTLyKHqkGS6RdgEA8HtttJ5agddZ3zVvKns+hvjQDw9dijaXhT/v/xs2r51x5lE8OPLusF2kwh1Dye+n4bUldO7fh1yrJePpf0JXEJovMkmScNlK6Kjfgs/dAoBKl4opfQba2LyQJ7JBjwfrV5uxrF9H0OXqWuF3+ZUk3nQLqsTuLUTp6/gFfA5aKj7E66xDrtBhzlsYtXXwggEvrac+xm0vRybXYM6/A21Mdp+3I9x98Gx8AR+fla9na23Xd3S+MYf7C+8gURe5RVoHXCIFkJQUQ9mK1TR/9AEEAmjzC0h77ElUCRcfKEkK4vdYfjiXydVEwGc76+sVatMPnjCpdSko1CbxlKmbIvECAKfnTdWsOz1pGGKTr8SUfk1EzJuyezv564GXaXa2MtiUxy/GPIQqRFXLL0Y4Yxj0+WhY+jKOQweR63RkPPMv6PLyQnIuT2c11vqv8DhqgK5rgSltOvr4kX3e/wN2O23r1mLd+lXXCj+lEtOMmSRcfwMKw6WV8QhH/IJBH22nVuGylYBMQVLOLehNw/u0DT0V9LtpqfgAj6MGuVJPcv7dqPVpYWlLpF5HAY63lfDO8Y+wee1oFVoWDr2Jn6WOD3ezzmpAJlLf//G4KsppWPI3/BYLiphYUh957KwTTIMBz48SpkZ87pYz26z8I5lM2VVI7nSy1JU4JfdqWX8hsi8AkiTR2bqX9tqNgIQ2No/EnFtRKHVha5Mn4OWFg0upstWQEZPGM+MfRxfG9vD/2Tvv8LjOMm/f0zWjLs2oWcVqttwkFznujh3HCSmENBISEhJCCQnlA8KyC2QXlmXZhQ0LuwuBQEIapBECpJFmp7gX2ZZtWdXq0kgzI2lmNH3mnPP9MbLcZFuypspzX5cuSdPOO3p03vOb533e30P0Yij6fRgf/SXOI4eR65Ip/OY/kDR7dsiP4/eYsfZvxW0LFn3LlTrSc9eRol+GLMqOzj6ziaG/8WIvkAAAIABJREFUvMLo3t3Bsel0ZF17PRmbrkSumlxGPFrxkySRkZ6/4xiqAyCz8GOkGiK7UeJiCTq4P4ffPYBClUZOxV1RXaKM5XkUwOFz8lzTy9RbGgCozV3M7XNuQqeK7tx1JmEXUmazmV/84hc0NTXx5z//eRKPj+yuPWF0FOPjj+FqOAoyGZk3XYNu5UL8XtO4cBJ81glfR6FKO6OWKRelJismsg8znVifACDY4sHS+TJiwIVSnYm+7DbU2vAbXZ6JIAr85shTHBtqJjspk4eWfZl0TXgdsCdDVDIaPh/9v/pfXA1HkaekUPTQt9EUFSNJEkgikuhDFP1IZ3yJ0gS3TfQ40Y8k+pBEPz6XkRNWBqk5K0nLWR1zO848nZ2YX34Rd1MjAMqsLPQ33kLqylUX3OEXzXPwTLuA1JxVZBRcGdMZ/oDPhqntWQLeYZSabHIq7op6d4l4mEclSWKncS8vt7yKT/STqcngnvm3U5lZHu2hjRN2IfXWW2+hVqv55S9/ySuvvHLBx0dKSA0ODOH3BGuYfK4B3P2NCDIHMvUEk4dMcdJe4BThFM0Mw6WKzTtKw1ATqakaypMqwtoLLhQEfDbM7S/hdxuRyVVkF38CXWbkvJokSeLZxpfYM1BHiiqZby57kFydIWLHPx+TncRPihw/4phIkUQ/kuRHEqYgcgJePD3tiD43MrUSZXYmklwcv38iT7bpISNFv5T0vPUxvctMkiRcDUcwv/wnfL3B5Ud1YRGGWz+JbsGic4qTWLgIO4bqGe5+DRDRZS4ku/iGqGf7JsLvsWBq+wOC3z628/DTMdERIRZiOFlMLjNPNbxA12gPMmRsLtnAdaWbUcZAvCOytLdnzx5+8pOfTEpIBQICSmX4TNds5kZ6ml/D67Iw0cQpuQREsxe5W0H+umvIqlxCks5wTlfhBOHHOGpiX98h9vXW0zLUgTQWN5VcyWWFi9lYupqFuXNjdmeHKPjpOvYyw8ag31Re6RUUVFwdkczlH+r/wqtN76BRqPn+xm9QkT077MecCEkU8HlseN1DeN3D+NzDCH43ouhDFPyIgh9B8CEKwYyQKJy4Pfg70tmWIKFGJlMgV6iQK9TBL7nq9N8VKuRy9Sm3nfn76bdptJmoYiDzN1kkQcD84Ta6/vg8PosFgPTqRcy+5260ZWUMDjvpHXTQMzhKj2mUYZuH+WXZrF6UT3Fe9N6n3dLM8fpnEQUvqZnllC2+B2UMLf247L201j1OwO8kOWM2FUvui6nxxRMBUeDlhjf4S+NbSJJEaWYRX1t5H7PSYnOHNERJSIVbHY/0vceoaScgHzezPLUIXLR7MD72Kzzt7ciUSgy330n6ho0xnTKeaUiSRPdoL/XmBuotDQw4B8fvU8qVVGVWIlOKHB1sGRdVmZoMVubXsjK/Fn0M7u6QJIlR8x6sfe8CEklpFehLbkauDF/t3Naebfy59TXkMjlfqv4sC7LDt60fQAy4CfhGCHitY99HTvndyrQyPjI5MrkKuUyFTK5CJlcjkyvHfg6KlxM/y+TK036XAhLWt97G12tEoU3GcNtdqA15Y89TnXzeDHXNngr+gIBx0M7IlndR796Kwhf0uGpMLeWDrMXYzpFZy8/WUTs3h9qqHAoNyRGfL30uI6bjzyMGHKiScjCU34lSHX0R63F0YT7+ApLoJSm1HH3ZbTHl/RdPGalTabN28MyxFxjyjKCSq7il8nrWFqyM2nU65jJS4Q6qJImkpfixjyrOmQKWAgHMLz2PdesWAFJXrCL3M/ci18RWfcNMQhAFWq3t1JuPcthyDKvXNn6fVqllYfY8agwLmJc1hySlBoMhlabubvYM7Ge3cT9DnpHxx8/JrGBVfi2LDQtRx5iVhMfejqXzz4iCG6UmC0PZ7aiSQr/Utn/gIE8eex6Az8y7nRX503dKlkSBgN82JpCsZwilkVN6PE6MQpWGUpOBUp2JUp1BWkYmTpd4tqAZF0fTFzmCy0nfz3+Gp6MdZVYWhd/6J9Q5M6Nx93Rwefz0D7kwWpwYh1z0DzkxDjmxWD3jcjdJ8LJq5AjLbE0oJRFBJqersBr7sg0YZhkoyE1lx8E+DraacXoC46+dm6mltiqH2rk5FOdGrstCwGvFdPw5Al5LsAdm+Z1RbdLutrVi6fgTkhRAlzGf7JKbYm5lI16FFIA74OZPLa+yZyC46WBh9jzumvdJUtUX1xFgOlxyQgom/89j37ubwaefRPJ6URcUUPDAV6Luhj6T8AQ8HBtu4bC5gaNDjbgDJy/EGZp0qvULqDEsoDKjDMUZE9CpMRQlkdaRdnYZ93HIfAS/GJzUkxRJ1ObWsKpgOSWpRTGTVQx4R4J1U55BZHI12SU3ocsIXbaocbiFX9c/iSAJ3Fh+LZtLNkzqeZIkIQruUwTS6YJJ8Nk5X1ZJJlehVGedFEuaoGA68f3MDy7hnsQFh4Penz+Ct6sTpV5P0UP/iMoQG/VhkUCSJKwOH8ahU8TSmHCyOX0TPkcuk2HI1FKQrSM/O5n8bB35Si/q7W/j2rsbJAm5Vkvmx66l8o5bGLb7CAgiTd0j7G8yc6DFjMN9cjezPj1pXFSV5qeG/RwUAm4s7S/gdfYgU2gwlN5OUurssB5zIpwjDQx1/gUQSc5eQlbRdTG5CSmehdQJ6gbreb75FdwBN6mqFO6a90kW6iNriRF2IbV3717++te/sm3bNu644w7uu+8+kpLOvZwRS0IKwNvfj/HXv8Rn7I+oG/pMxe4b5YjlGIfNDTSNtBEQT36SzU/OpUa/gGrDAopTC8876Z4rhi6/mzpTPbuM++iy95z22qvyl3NZ3tKofGI5E1HwMdz9Gi5rcFtvWt560vMun/aFptveyy8O/gav4OOKonXcXHH9aa8piQECPtsES2/B3yVx4gvsCRSq9DOEUub473KlbkrjD+ckLoyO0vvfP8Xb04PKkEPht/7xoo0nYx1RlDBb3WNZpWCWqX/IxcCwE7f3bCNgALVSTl62joITYmnse26WDqVi4gu+t6cb88svBXc4A+qsLHLvfxBtecX4YwRRpKXHxv5mE3XNZuynCLasNA21c3NYNtdA+ax05GESVaLoZ6jzL7htTSBTkF3yiYga4zosdWPNlmN/N+FMEFIAIx4rTx97gVZrOwDrZ63iporrIrYicUn7SE0W0eNh8Jmnxj1XQu2GPtMxuSwctjRQb26gw9Y1XtckQ0Zpegk1hgVU6+eTM4XdZJOJYb9jgF3GfewdOIDD7wRALpOzKHseqwqWMz9r7lmZrkgiSRKjpp1Y+4NLyNr0OWSX3HTRW+TNriF+VvcrhICTlfq5XD2rFsFnPU0oncsw9gQyueaMTFLmactxoVyaCNckHrDb6f3ZT/H19aLKzQuKqMzMkB8n0vj8AgPDrqBYGgqKJeOQk8FhFwFh4qk6OUlJvj75lAxT8Oes9KSLFjKuxmOY//Qi3u4uFKmpFD/8fVTZZ3shiaJEW5+N/U0m6lrMjIx6x+/LSFGzbE4OtVUGKgszkMtDKzQkSWSk7x0c5r3B4xVsJjUn/DU09sEd4+dzev4VpOWuiVkRBTNHSEFwZWJL90e81v42giSQp8vh3gV3UJQ6K+zHTgipSSJJEtb3t2Cehhv6pYIkSfSM9lFvaeCwuYF+58D4fUqZgqqsSqoNC1ikn0+a+uK2hU8lhgExQMNQE7uM+2gYakYc2wGWpk7lsrylrMqvJS858v5OJ3Db27B0voIkeFBq9GN1U+fOnoiif0wgnVx6c3ssmGztpMhE1OeduGUo1OmnC6RThJNcoY3YxB+OSTxgtQZFlLEfdX4BhQ99G2VGRkiPEW6cHj9GS3ApbuAc9UtnkpWmGc8qnZplStWpwhJPSRAw//p/sR6qR1NURNE/PXzeGlJRkmjvtwdFVbOJIftJUZWmU7F0bg61cw3MLc5AcQH/qkmPUZIYNe3C2v8eAKmGFWTM2hyWJTZJkrAZt2If3AFAZuG1pBpqQ36cUDOThNQJekb7eKrheQZcJhQyBV+qvpf5Yd5okxBSU2SybuiXGieKxU9knk4vFk9iQXYVNYaFzM+aQ1IIdqpdbAxtXjt7Bw6wy7ifQZdp/PbStBJWFdSyNKcGbRh30p0Lv3cYS/uL+D1mZHIN2SU3oFAmn1HUHRROJ5rdnguZIgnVWTVKwd8V6rSY2Z0W6kncPzJC7yM/wT84gHpWYVBEpUV/59ZEnKhfOrVu6USWyX6e+qWcTG1QLOlPX5JLUkc+O56plXHgm9/GPzhIyrJa8u9/8IImnhB8750Do+xvMrG/2YTZerI2MkWrYukcPbVzc6gqyTznMuNUcA4fZaj7ryCJaDPmoS+5KaReU5IkMtL7dxyWOkBGdsmNJGctCtnrh5OZKKQAfIKPv7S9yba+XdxZdQurC8JbjpMQUhfBmW7o2TfcSNZ1H5/UJDKT8AS8NA63UD9eLO4evy9dnRZcshsrFg+1adp0YyhJEh32bnb176POdAivELx4qeUqluRUsyq/loqM8DeTPRVR8DLU9bdgbcd5kaNUpwczSOp09g210eowgSqNe2q+QLo2ei0npkIoJ3H/0FBQRJlNaIqKKfzmP6BIjb4JpiCKWKyeqdUvqeTkZyWTrx8TSlk68vXJ5GZqQyIsQoXBkErf4Wa6f/xviG43WR//BPpP3DSl15AkiR6Tg/3NJvY1mRkcdo3fl5ykZHGFnmVVOSyYnYVKefHv3TPagbnjJSTBiya5CH3Zp0JiqCxJAkOdf8VlbUAmU6IvvRVt+pxpv26kmKlC6gQ+wY86Av1EE0LqIpFEkeHXX2Xotb+BJKFbWE3+57+IIiX6hczhZNTn4IjlGPXmBppGWk8rFs8bKxavMSygKHVWWA0yQzkBeAUfh0xH2GXcN16sCKDXZrMyr5aV+cvITIrM8lCw9cUOnEMHkSu1EyzBncgqyRElkaePvcD+wUOkqlJ4aNmXMejip6A6VDH0W8z0PPITAhYLmpLZFH7jW1E9D/0Bgdd3dnGgxczgyLnrl1K0qvGsUkF2UCzlZ+vISrv4+qVIciJ+zqOH6fufn4Mkkf+lL5Nau/yiXk+SJPoszrHlPzN9Fuf4fVqNgpqKYKZqYWkWatXUs6o+9yDm488h+EdRJunJKb8Tpfriz2tR9GPp+BMeexsyuRpD2aeiskNwOsx0IRUpEkJqmjiPHsH4+GOIDgfKrGwKHvgySaXh6SIfLcyuobElu6O0n1UsXkz12E67SLYeCdcEYHJZ2GPcz+6BuvHlSRkyqrIqWZW/nGrDAlQx0JJAkiT+3PYa7/dsR6NQ8/WlX6I4tTDaw5oSoYihz2Si95H/JDA8TFJZGbO+/hAKXfRab3QY7Tz++jGMQyczK9lj9Uun7ZLTJ5Omiy2Ps6lyavxG3nkL80svIFOrKfqn75FUXDLt1++3OKlrNrG/2UyPyTF+u0aloKYim9q5OSwqy0ajnryoCvjsmI8/h99jQq5MIaf8TtS6qbtii4IH8/EX8Dq7kSu0GCo+jUYXf9Y4CSEVGhJCKgT4h4ZmlBu6JEn0OPo4bA7WO51ZLD4nq4Ia/QIW6ReQronO8km4JwBREmkabmWXcR+HzQ0EpOAyTLJSR23eYlblL4/IbpBz8W7XB/z1+JsoZAoerLmPqqzKqI3lYpluDH0DA/Q88p8IVitJ5RVBEaWNTusNf0DktZ0dvLmrG1GSyMvS8emr5lBekBaV+qVIcGr8JEli8MknsO/cjjIri+LvfR9leuga8g4Ou8YtFToHTv7PqJVyFpUHRVV1eTZazYX/1mLAg7njRbyOLmRyNfrST6JNm3wDXMHvxHT8OfxuIwpVKjnld6HSxqc/WUJIhYaEkAoR8e6GLogCbdaO8Z12I17r+H1JiiQW6quo1i9gfvbcqBRjn0kkJwCH38n+wUPs7t9Hj6N//PbClAJW5S+nNm8xKRFsQLrHWMczjS8C8NkFd1Kbuzhixw4l04mht7+f3p/9BMFmQztnLrO+9nXkSdERUV0DozzxxjF6zU5kwOblRdy8vuyilp/iiTPjJ/r99D7yEzzH20gqr6DwW/+IXBX6+hSz1U1ds5m6ZhPH+0/aeSgVchaWZlFbZWBxhR5d0rmPLYkBhrr+NubjJier+OOkZNdc8NgBnw1T2x8JeC0o1ZnkVNyNUhNfu0JPJSGkQkNCSIWYeHJD9wo+Goeaqbc0cNTSiOu0YvFUqg0LqdEvoDIz9MXi0yVaE0DPaB+7jPvZN3Bg/O+llClYZFjAqvzlzMuqDGttWMNQE785/BSiJHJr5Q1sLFobtmOFm4uNobevl95HfoIwOoq2ah6zvvr1qHxgCQgib+zq4vWdnQiiRE6Glvuum8ecovi9sE6FieIXsFnp/tEPCYwMk7Z2Hbn33BfWzPyw3UNds5n9zSbaem3j9hAKuYwFpVksm2tgSaWBFO3ZokqSJKz97zFq2gVAev5G0nLXnnO8fs8QprY/IPhtqJJyyKm4C4UqvmtiE0IqNCSEVBiIZTf0UZ+Do5ZG6i0NNA23jLdTAcjV5VBjCBaLF6cWhlUQTJdoTwB+wc9hyzF2G/fTOHyyeXKGJp2VectYkV9Lji60u+c6bN3878HH8Il+Nhdv4MaKa0P6+pHmYmLo6e6i97//C9HhQLdgIQUPfjUqIqrX5ODxN47RPRis3dm0rJBbLy+fUr1OvHOu+Hm6Oun5yY+RfD4Mt99B5uarIzKekVEvB1qCmarmHisnrl4KuYyqkkxq5xpYMsdwVm3aqGkPI31vA5CiX0Zm4TVneU35XAOYjv8RMeBErZuFofzOkOz6izbRnkdnCgkhFSaCbuhPMrp3DxBdN3SLeyhY72Rp4Li1c/yiD1CaVky1YQHV+gXkJcdPM9dYmgBGPFb2DNSxy7gfi3to/PaKjFJW5S9nSU41mmm2Khh0mvjZgUdx+l2syFvG3fNui9savBNMNYaezs6giHI5SV5UTf6DX0GuimzBtiCKvLWnm79u60AQJfTpSdx37TyqSuLfOX2qnC9+o/v2YnzsUZDJmPX1hyLutWd3+jjQaqauyURjlxVx7FImk0FVcVBULZ1jID0lKMJd1kYsna+AJAQ7DMy+Bbk8mMXyOroxtT+PJHhJSi1FX3o78hhrhn6xxNI8Gs8khFQYiZYbuiRJ9Dr6qTc3cNjSQJ/DOH6fQqZgbmbFmHiaT7omNg0LL0QsTgCSJNFm7WCXcR8HTYfxicHmrRqFmmU5webJpWklUxZAVq+Nn9U9yrBnhAXZVdy/6J6otrYJFVOJobv9OH0/fwTR7SZ58RLy738wLPU356Pf4uSJNxrpMAbrcjYsmcUnN5RPqsB5JnKh+Fn++meGX38NuU5H8Xf/BXXe1HfHhQKH28/BFjP7m80c6xxGEE/sOobKwnSWVeWwbI4BndyEpf0FRMEzlnW6A5+rH0v7S0hSAG16FfrZN4fUzDPaxOI8Go8khFQECKcbusPvZMBpYtBpYsAV/Op3DJzmLJ6k0Iw5iy9gfnZVTBSLT5dYnwDcAQ8HTPXsNu6n3dY1fnuuzjDePHkyItYdcPPzA7+hz2FkdloxX1vyxWlnt2KFycbQ3dZK3y9+hujxBB20v/CliGZ2RVHinX09vPJROwFBJCtNw2evmceC0ku7PdSF4ieJIsZf/wrHwTpUeXkUf/efo2pNAcH2O4daLdQ1mznaMXSax1f5rDRWz1VTod2KFLCjUKcHuwhIIslZNWQVfzws7WWiSazPo/FCQkhFiOm4oYuSyIjHxoDLxKBzkAGXOSieXKbxZrxnkq5OZZFhwVixeHlMeB+FkniaAAacJnYb97NnoA67LzhmuUzO/Ky5rCpYzsLsqtOK+f3DQzgP1yNLT+N5+w6OBHrJTc7hm0sfJEUd3QtRKJlMDF0tzfT9z8+RvB5Sl19G3ue+GFERNTjs4ok3GmnrC34wWVudz6euqESXNLPOp4thMvETPR66/+NH+Pp60S1cxKyvfSNmOkC4vQHq2yzsbzZzpH0IfyDYgzNF7eOzKxvJ1gbfW7BH31Vxv5Q+EfE0j8YyCSEVQSRRZOi1vzH8+qsTuqEHxAAml2VMMJnGvw+6zOPLRGeiUajJ1eWQq8shL3nsS2cgR2eI6WLx6RKPE4AgChwbbmaXcT9HLMfGmyenqJLHmicvJ621j4Enn0B0nTR09KrlJBeXklI8G01hMerCIjSzZsWNtca5uFAMXY3H6Pu/XyD5fKSuXEXeZz+PTBGZJU1Rktiyv5c/f3gcX0AkI0XNvddUUV0eH+13IsFkz0G/xUz3j36I4Bglc/PVGG6/IwKjmxoeX4Aj7cPsbzJRf9wCoo9NlV1YnDpcyvmsr5nFkkp9TLXoCQXxOI/GIgkhFQWG6+uwPPEEuFz40nTUX1NFW4oHi2d4/OJ6JqnqFPJ0OeQm55B3QjTpcsjQpM/IT0oXItoxnC6jPsdY8+R9GJ2DKASJtQcdLG4JWiqMFmZh9Y9isAokeSf4n5DJUOXkoiksRFNUjKawCE1hIcpsfdz8P5wvhs6Go/T/8n+Q/H7SVq8l9977IpbJMFnd/P6NRlp6gl5qqxbkcefmSpLP40t0KTKVc9DV0kzvz34KgkDuZz9H+pp1YR7dxeP1CxxtH2Zf0yAHWiwEhLEPPFoVaxblsa66gAL9zMgMx/s8GiskhFSYkCQJm88+tgQXXIo7sTRn842S6hS4ZruN/KEAATl8tCyFoxU6snXZ5OkMY4Ipl7xkA3m6HHQqXVjHG2/MlAlAkiQ62+uxPfEkOpMNQQ7bF6dwaK4WpULFl6vvo0yejbe3B29PL97ebry9vfgGjCCc3fRWrtWiKSxCXViIprA4KLQKi2Iye3WuGDoO12N89P+QAgHS119Ozl33REREiZLEhwf7eOn943j9Amk6Ffd8rIolc+LTtTrcTPUctH74AaZnn0KmVFL4rX9EWxH7bvwOt5/dDQN8VN9Pr/lkGUVFYTrrqwtYXpUT15YXM2UejTYJITVNBFHA4hker1k6KZjMeATPhM9RyZXk6Azka/Qs2NVDxv4WAJIvW0H+PffF5EUv1pgpE4B9zy4Gn3kayetBqTdg/eQmtsu76R7t466qW1mcs2jC54l+Pz5jP77eXrw9QXHl7e1GGJ3gbyKToTLknJK9CoosZXZ2VOtVJoqh49BB+n/9SxAE0jdeQc4dd0VkjBabmyffbKKxawSAy+bl8OnNc0iN83544eRizkHTc89i3boFRVoaxQ9/H1VWfDTZliSJDuMoH9X3s6dxEK8v+CFGq1GwYn4e62vyKclNjZts8AlmyjwabRJCapJ4BR+DYwJpYEwwDbpMmF2W8T5sZ6JTaseX4E5dkstKyjytfime3NBjhXifAESvF9Pzf8C+fRsAKbWXkfuZe1Hoppd5DNisY6KqZ1xg+Yz9E2evkpJQzzpVXAWXByPVauXMGI7W7cP429+AIJBx5WYMt98Z9guTJElsO2zkhS2teHwCKVoVd189l+VV8eOpFi0u5hyUBIG+X/wMV+MxNMUlFP3jd+Pug6PHF2Bfo4mPDvdzvO9ki5rinBTW1RSwakHuedvTxBLxPo/GCgkhdQajPsfJ7NK4YDIz7Bk55+tlajLOEEwG8pJzSVElT/pC4O3vw/jrX8WkG3qs4fX4SUvV4vUHLvzgGMTb14fxsV/h6+9HplJh+NSnSV9/edhEgxQI4DMag+Kqt3tcaAk224SPVxkMwYL2E19Fxaj0+pBnhk49D0f37sH4+GMgimRefQ36W8NvODps9/DUW00cbR8GYNkcA3dfPZe05EQWajJc7EVYcDjo/vcf4jebSKm9jPz7H4i7TM4Jes0OttUb2XnUiNMTnI9USjm1c3NYX5PPnKKMmH5vCSEVGi5JIZWtT6a5p+fkUtwpwsnpd034HLlMTo5Wf1aGKUdnIEkZmk9UseSGHosEAgKH9vRwcFc3gYBItiGZ2XP0lM3Rk52TEtMTFgSzH/ZtH2F64Y9IPh/qvHzyv/QgmsKiqIwnYLfj7e3B19uDt6cn+LOxHylwtkCVaTRoZhWiKTopsNSFRSi0F5+9OjGJ23ftZOD3vwNJIuva68m+6ZawxlKSJHYeHeC591pxewMkJyn59FVzWDEvN+b/h2KJ6TWd7qPnx/+G6PGQfePNZF9/Q4hHF1n8AZGDrWY+qu/nWOfJD925mVrW1xSwelE+6TEo0BNCKjRcckJqj7GOF1v+glfwTXh/kkIzbiWQqzOMCye9NjsibtLRckOPZSRJorPVwo4txxm1BevOVGoFft/J5arU9CRKK/WUztGTV5iOXB5bF0TB7cb07FPjIjltzTpy7rwr5pY1pEAA3+DA2NJgz1gWqwfBap3w8Uq9/mTmqrAITVERKkPOpLJXBkMqbX99k8Gnfg+SFPRW+/gnwipmbA4vT7/VzKE2CwA15dncc00VGSmxFYd4YLoXYcfhQ/T/3/+AJJH/4FdJXboshKOLHiarm+2H+9l+2IjVEbzOKOQyair0rK8pYGFpVszMTwkhFRouOSH1VudWXmt/izR16njN0qkeTOnqtJj4VBpON/R4YsTiZMeWNno6gp/ysgzJrL2ygoWLZ1Ff10NHi4XO1iFczpPCOEmrYnZlNqVz9BTOzkSpjO6uGk9nJ8bHHsVvNiHTaMi96x7SVq2O6pimijA6Oi6qxrNX/X0TZ6/U6vHs1cklwsKzXK2Fg7s5/uhjQREV5qyEJEnsaRzkj++04PQE0GqU3HllJasX5sXE+R6PhOIiPPz3N7H8+SVkGg3F//QwmqLoZGfDgSCKHGkf5qND/Rw+PjTe7y8zVcO66nzWVuejT49u4+OEkAoNl5yQAsjM0jIy7A77cabLdNzQ4x2vJ0Ddjk6O1PUhihJqjZLL1s9mwZIC5HL5aROAJEkM9tnpaLXQ0WLBNnIytkqVnOKyoKgqKc9GE0FHakmSsG55D/OfXgCNOlhbAAAgAElEQVRBQFNURP79X45az7FQIwnCePbq1N2DgZHhCR+vzMoeXxpEkhh+83UA9LfeRtbHrg3bOO1OH8++00xdsxmAhaVZ3HtNFVlp8d8qKZqE4iIsSRIDT/yW0d27UGZnU/zw91Gmxmf/z/MxMupl51EjH9X3Y7YGs+oyYH5pFpfXFLA4SmafCSEVGi5JIRVP/zxnu6EvIv/z94+7oc80JEmi+cgAuz9sx+0MurnPX5zPZetL0Z6yFf1cMZQkiWGLk84WC+0tFiyDjvH75HIZs0oyKJ2jZ3alnuQwLucIDgcDTz2B89BBANI3XoHhtk8hV8VenUSoERyOsexV73gWy9fXi+Q/253fcPsdZG6+Omxj2d9k4pm3m3G4/SSpFXxqUyXrqvMTWagQEKp5VPT76P3pf+LpaEdbOYfCh749Y+tCRUmiudvKtvp+9jebo272GU/XwlgmIaTiBOfRIxgffwzR4UCZlU3BA18mqbQs2sMKKSajnW3vtmLqD8Ymb1YaazdXYsg7+590sjEctXnGM1XGHiun/kfnFqRROidYV5WRFTrDU3dbK8bf/prA8DByrZbce+8jddnykL1+PCKJIn7T4CnLgv3krVuJvDo8fxeH288f3mlmb6MJgHklmXz22qqoL6XMJEI5jwasVrp+9AMEqzVownr3vTNe7DrcfnaNmX32nWH2eXlNAbVzw2/2GY/XwlgkIaTiCP/QEMbHfoWnvR2ZUonh9jtJ37Ax7iccl9PHng/baTo8AIAuRc2qDWVULjj3LqqLiaHb5aOrbYiOFgs9nSMIgZOtVzL1uqCoqtRjyLs4Yz1JFBl5600sf30FRJGksjLyv/AAKkPCGXsiwnUeHmw18/RbzdidPtQqObdtrGDDklnI4/w8iTVCHT9PRzs9P/0PJL8fw513kXnFlSF77VhmMmafs/PCs9wZr9fCWCMhpOIMKRDA/NLzWLduASB1xSpyP3NvzO3+mgyCIHL0QB/7t3fi8wrI5TJqLitk6aoS1Jrzp/anG0O/T6CnYzhYrN42hM97smg6OVUzvgOwoDgd+SRq0gI2GwO//12wng2CXkg33TJjlyhCQajPQ6fHz3PvtrKrISjI5xRlcN9188jJSGShwkE45lH7nl0M/O4xkMsp/Ma30M2bH9LXj3U8vgB7G01sq+/neP8pZp+5KayvKWDl/NCafcbztTCWSAipOMW+ZzeDz8SvG3pv5zDb321jZCjo21VclsWaKysmvcQW0jY/goixx0p7i4XOFgtOx8kdgJokJbMrxnYAlmahUp2danc1HsP4+GMINltwh+XnvkDyouqQjG0mE8oYHj4+xFN/b8Tq8KFWyrnl8nI21RYmslBhJFzzqOWVlxl+83XkumSKv/fPqHNnxuaMqRIJs8+ZcC2MBRJCKo6JRzd0u9XNzq3H6WgJ+vikZ2pZs6mCkoqp9dwKVwwlScJkHKWjxUJHqwXr0EmDVqVSTlFpVnAHYEU2GrU8uBHgjddAktDOmUveF76EKjMz5OOaiYQihi5PgBe3trLtsBGA8llpfO66+eSFsOYtwcSE7RwURfp/9b846w+hzi+g6DsPT7t1UjzjDwgcaLHwUX3/eC9IgNwsHetr8lm98OLNPmfKtTDaJIRUnBMvbuh+v8DB3d0c2tODEBBRquQsW11CzfIiFMqpb/uNVAxHhpxBUdViwWQ8eTyZDLIkK9nmJgzOHgquuZLs629ApojfTvCRZroxbOgc5sk3Gxm2e1Eq5Ny8voyrlhfFjNnhTCec56DocdP94x/h6+8jeVE1BV/9+iVh+3IhzmX2ubhCz7qLMPucSdfCaJIQUjOAs9zQy8rJu+/zqPPyoz00JEmivdnMzq3Hcdi9AFTOz2HlxnJSUi++risaMXTYPXS2DdFa18GgxYd0SuNpQ14qpWPtajKydXG/ASASXGwMPb4AL71/nA8O9gFQmp/KfdfNZ1YEt40nCP856DOb6P7RvyI6nWR+7FoMt94WtmPFG4IocuT4MB/Vn272mZWmYe2iyZt9zrRrYbRICKkZhPt4G8bHHiUwHDRE1C1YSMbGTSRX10Tl09yQ2cGO99ro6wq2F9HnpLB2cwX5RRnTfu1oxFAKBLC88jIj77yFX65mdM5KRoqX0ttjJ+A/uQMwPUtL2ZhXVW5BbDjlxyIXE8OmrhF+/2YjFpsHhVzGJ9aWcs3KYhSJbEXEicQ56GpqpPfnj4AgkPe5L5C2ak1YjxePnMvsc0FpFusvYPY5U6+FkSbsQmrnzp288847ZGdnI5PJ+MpXvnLexyeE1PQQRkcxv/InRnfvGjdAVOr1ZFx+Benr1kfEyNPr8bNvWydHD/QhScGC7RWXlzKvpiBkyy6RjqHfbMb421/j6WgHuRz9TbeSefXHkMnlBPwCPZ0jY+1qLHg9p+wATFEze3wHYAaKKLgXxypTiaHXJ/Dyh8fZUtcLBHcxff66+RTmzExj2nggUueg9f2tmP74DDKlksJvfwdtWXnYjxmPiJJEc9cIHx02UtdsIiAEL9+pOhVrFuazriaf/OzTs7Yz+VoYScIqpNxuNzfccANvvPEGarWar371q9x5552sWrXqnM9JCKnQIDgc2HZsw/bBVvzmYGsMmVJJ6mUrybhiE0mzS0N+TFGUaDpiZM8HHXjcfmQyWLCkgOXrSknShm7LLkQ2hqP79zH49O8R3W6UWdnk3/8A2vKKCR8riiLGHtt4sfqJ5UwAtUZBSUU2pZV6isuyUKljq44t0kw2hq29Vp54oxHTiBuFXMb1q2dz3aqSqLTUSHCSSJ6Dg394BtsHW1Gkp1P88A8SGzouwLnMPisL01lfU0BtVQ4aleKSuBZGgrAKqV27dvGb3/yGp59+GoAnn3ySgYEBvvOd75zzOQkhFVokUcR59AjWrVtwNRzhhLV3UmkZGVdsIqV2eUjalgz02dj+bivmgWBLlvyidNZeWYk+NzwZg0jEUPT7ML/4ArYPtgKQvGQpefd+DkXy5GpxJEnCMugYF1XDp0xoCoWMwtIsSiv1zK7MPq39zaXChWLo8wv8ZVs77+ztQQIKDcl87rr5lEzgdJ8g8kRyHpUCAXp//gju5iY0s0sp+vZ3kKsvvXNmqkiSRLvRzrb6fvYcM+H1nzT7XDk/j5uuqCRFlfhAMl3CKqRef/113nzzTR599FEA/vSnP7Fnzx4eeeSRcz4nEBBQKhM7n8KB2zjAwFtvM/juFgRn8KKuTEsj76oryfvYVWguwoF71O5hy+uNHB5bcklLT2Lzx+czf3FBXNcGuXp7af6v/8bV2YVMqWT2Z+8h/7prpvWehswOmo8O0HRkgN7uERg7u2QyKCrNompRPlUL80LariZeae4a5hcvHKTX5EAul3HrFZV8avMcVIm54ZLFb7dT/61/xDtoQr9uDXMe+kZczzGRxuXxs72+n3d2d9HcHbRRkMvge/et4LL5l6ZXVyRIZKRmKKLXy+je3Vi3bsHb0x28USYjefESMjZuQjdv/gUnKEEQOby/l7odXfh9AnKFjMUrili6sgRVmPtDQXhjaN+5g8E/PoPk9aLKySX//gdIKpkd0mM4HV46W4foaLXQ1zmCKJ481fQ5KZTN1bNw2Sw0IXQxjjUmiqE/IPK37R38fU8XkgT52To+f/18SvPD0yIjwcUTjXnU29dL949/hOT1oL/5VrKuvT6ix58p9JocvL23mx1HB9BqFDz8mdqz6qcSTJ5EjdQljCRJeI63Yd26hdG6fSAE076qvDwyNm4ibdWaCY3wutuH2P5eG7ZhNwCzK7NZfUUF6ZmRa8URjhiKHg+mPz6LfdcOAFJXrCT37nuQJ4X3fXk9Abrbgz0Au9uH8Y/12krSqVi1oYy5i/Jm5CfvM2PYOWDnidcb6bM4kQFXryjmpnWliSxUjBKtedRx6CD9v/pfAAq+/DVSFi+J+BhmApIk8cTfm9h52Eh+to6HP1OL9gKtuRJMTNh37e3YsYO3336bzMxMVCpVYtdejBKwWbFt+wjbh+8TGAmmfWUaDWkrV5NxxSY0swqxjbjYseU4XW1DQHCb/9orKygum5oreSgIdQy9PT30P/Yr/AMDyNRqcu68i7Q16yIuYAIBgb5OKwf3dGPssQGQV5jG+qvmkD3DdqidiGFAEHl9Zyev7+xClCRyM7V87rr5VBSmR3uICc5DNOfR4Tdfx/LKy8g0SRR/92E0swqjMo54JyVNyzd+/gF9ZieLK/R85ZZFibZKF0HCRyrBaUiBAI76g1i3bsHd3ARAQKakr3wD7bJCRAlUagW1a0pYVFsYte38oYqhJEnYPnwf8wvPIQUCqAtmkX//g2hmzQrBKKc3rpaGQXZtPY7bFdwBuWhZIcvXzb5gQ+d4wWBIpe5oP0+80UiPyYEMuLK2iJsvL0MzQU/DBLFFNOdRSZIY+N1jjO7djUpvoPh7/4IiNbEJYaoYDKk0tAzyw6f24/IGuGHNbG5cVxbtYcUd5xNSih/84Ac/iNxQgrhcvgs/aJokJ2sicpx4RCaXoymYRfqatSQvraXHpaNOVY1Zno0E5Hu6WT8Xyi6bg1IbuaW8MwlFDAWXi4Hf/46Rt/4OokjauvUUPPjVmNhaLZPJ0OekMK8mH79PxDwwymC/neajAySnqMnSJ8f1cl9AEHljVxePvnIEq8OHISOJr9y8iA1LZiVsDeKEaM6jMpmM5EXVOBuO4uvvw9PZQdqKlYk2MlMkOVmDTJQoyk1hT8MgzT1WinNSEvVSUyQ5+dxdOhJC6hLGMuhg69YemgcVCHIVmTqJxbY9zOrbh7+1kZEt7+Iz9qNMy0CZlRXxi/p0Y+jpaKfvv/8LT1trsOHzfZ8n+7qPx1yPQqVSQUl5NiUV2VhMDqxDbtqbLRh7beTkp8albYLd5eORFw7y0aF+JAk2Lp3Fl29aRF5WYvKOJ6I9j8oUCpIX1TC6dze+vj4Eh4OU6pqojSceORHD3EwdKqWcY50j1B8fYmmlgdQ4nFuiRUJIJTgNj9vPzq3H+fCtZkbtXpJ0KtZeWcmGGxaSt3EtujlzET0efMZ+fH292Hdsw3noAMjlqPPyIyZELjaGkiRhffdtjL/7DaLTgaa4hMKHvo1ublUYRhk6klM0zKvOJzlNw2CfjRGLi2OHjAT8ArkF6XHjmO4PCPzipcO099sxZGp58MaFXLmsKJGFikNiYR5VaLVoK+cwumsnnvbjKFLTSCoNvdnwTOXUGFbMSsc45KJ70EFDxzCrF+YlNnpMkvMJqUSN1CWEKEocO9TP3o868HoCyGSwcNkslq+dPeEWfP/QELYP38e27UOE0eDfUq7TkbZmHRkbrkCdmxvW8V5MDIXRUQaefBzn4XoAMjZtRn/rbchV8WUx4HH72f1BO431RgBS0jSs2VRB6Rx9TC/3iZLEb19tYG+jicxUDT//xuWIvsCFn5ggJomledS+awcDT/wO5HIKv/kP6KrmRXtIccGZMfT6BP792f30mp1Ul2fztVurE8Xnk+CSKzbvbLPQcKAftUZBWoZ27CuJ9EwtyamamL4QhYv+bivb32tlyBQ06ZxVksHaKyvJMlx4qUX0+3Hs34f1/ffwtLeP365buIiMKzaRvLA6LHULU53EXS3NDPzuNwRGRpDrksn77H2kLFkW8nFFksF+Ox+93YJlMOgmX1yWxdrNFaRnxqah5ysfHef1nV1o1Aq+e9cyli7Ij5kLcYKpE0tCCsD8pxcZefvvyJOTKX74+6gNOdEeUswzUQxNVjf/9tQ+nJ4A16+ezc3rE8XnF+KSE1K7PzjOwd09E96nUMhIzdCSnpEUFFiZYyIrQ0tqRtKMc1x32D3s+qCdtmMmIJjZWH1FBWVzLy6z4ensxPr+Fkb37EIKBDMNKr2B9A0bSV8b2obJk53EJVFk+M3XGfrbX0CSSCqvIP+LD6DKjrxlQzgQRYljB/vZ81E7Pq+AQiFj8cpilq4sRhlDO9+2He7nyTebkMtk/L9PVrOoLDvmLsQJpkasxU8SRfp/+T84D9ejLphF0XceRhHFDTHxwLli2NAxzH+/dAhJgi/ftJBlcxOi9HxcckJKkiS8rgBdHUPYR9zYrR5sVjf2ETdul/+8z01O1QRFVubpmay0DG3Im/KGk0BAoH5vLwd2dRHwiyiUcpasKGLxymJUIbj4Cg4Htu0fYf1gKwGLBQCZShVsmLxxE0mzZ0/7GJOZxAM2KwOP/xZX4zEAMq+5Dv0nboq5gvJQ4HL62PX+cVqODgKQlpHE2isrKamIvmBs7Bzmv1+qRxAl7r5qDhuXBj1/Yu1CnGBqxGL8BLebnh//Gz5jP8k1iyn48tcSO/nOw/li+Naebl56vw2NSsH3PrOMQsPM8rELJZeckIJz//P4vAFGbR5sI27sVjc2q2dMbLkZtXk4319DrVGSnnl2JistQ0tKWmwsGUqSRFfbEDu2tGG3egAom6tn1cZy0jJC/8lNEkWcRw5j3foeroaj47cnlZWTsfFEw+SLE6AXmsSdDUcZePy3CKN2FKmp5H3uiyQvXHRRx4on+nusbHundbxB8uzKbNZeWUlqelJ0xmNx8u/P1uH2Brj6siJuv6Jy/L5YvBAnmDyxGj/f4CDd//5DRJeTrGuvR3/zrdEeUsxyvhhKksRvXzvGnmOD5GRo+ed7a0mewS2rpkNCSE0SQRBx2L3YrWMia8QT/HnEjc3qJuAXz/lcuUJGWnowk5V+Sl1WWqaWtPSkiCzBjAy52LGljZ72YQAy9TrWXllB4eyssB8bwDc4gPWD97Fv/wjRHWwto0hNJX3d5aRv2Igqa2qZk3PFUBIEhv72F4b//gZIEtqqeeR//n6UGRkheR/xgCCIHK3rY9/2Tvw+AaVSzrI1JdRcVhTR3X02p49/f2Y/FpuHpXMMPHjTwtMKV2P1QpxgcsRy/FyNx+j9+SMgiuR94X7SVpy7LdmlzIVi6PUL/MezdXSbHCwsy+Lrt9Ygl0c/KRBrJIRUCJAkCbfLP569OjWTZbO6cTsvtGSoJi1jTGSNZbPSMrSkZ2rRJCmnlc3yeQPU7ezi8L5eRFFCrVGwfG0pC5YWRGXLvOj1Yt+zC9v7W/D2jNWqyWSkLF5KxhWb0FbNm9T7nbDh7dAQxt/+Gs/xNpDJyL7hRrKu+/glm9p3jHrZtbWNtkYzABlZWtZdVRkR8ezzC/z0+YO099spzU/l23cuPcutPJYvxAkuTKzHb2Tre5if+wMylYqib3+HpNJE0fSZTCaGFqubHz69H4fbz3WrSrjl8vIIjS5+SAipCOD3BYK1WGM1WSezWm4cdi+ieO4/84ndhemn1GWd+D05VXPOTwcnWozsfr8dlzPoE1JVnceKy8vQJUffaE2SJDxtrcHi9Lr94w2T1fkFpG+8Itgw+TyFomfG0HHoIAO/fxzR5USRkUH+Fx9AN2du2N9HPNDbOcy2d1qxjjWZLq8ysHpTBSmp5/Y+mQ6iJPGbvzWwv8lEdpqGhz9TS3rK2ceK9QtxgnMjSRJqpRJfIBATZQsTIUkSpmefwvbRhygyMih5+PsoM6LftSCWmOw52Ng5zM9erEeUJB64cSHLqxLF56eSEFJRRhSDS4Yn6rJOCq7gz36fcM7nyhUyUtOTzlouVCrl7NveyWCfHYCcglTWba4kJz8tUm9rSgSsVmzbPsT6wfsINisAMk0SaatXk7FxE5qCs/venYih6Pdj+fNLWN97F4Dk6hryPvv5RN+tMxACIvX7eqjb0UUgIKJSK1i+djYLl80KeWby5Q+O8+buLrQaBd+569xFqrF0HiaYPCajne3vtjHYb6eqOo/LPzY3Zpd7pECA3p/9FHdrC0mlZRT+wz8hV0f/g2SsMJVz8J19PbywpRW1Ss737q6lKA6aqEuiGJEViYSQimHGlwzHa7HGlgxtbuwjnvFM07nQJqtYuaGcuQtzY/ZT46lIgQCOQweCDZNbmsdv11bNI2PjFaQsXopMEVweMhhS6Ws4jvGxR/F2dYJCgf7mW8ncfPUlu5Q3GUZtHna810ZHa3A3ZZYhmXVXVVJQFJoaso/q+3nq70Gbg2/cVsOC0nMvI8bLeZggiMvpY8+H7TQdHjjt9soFOVxxXRXyGD3vAqN2un/0rwSGhkhduYq8z30xLubDSDCVc1CSJB5//Ri7GgbRpyfxL/cuJyXGdqsLTifuliZcjY24mhrxGfvJvfdzpK9ZG9bjJoRUHOP3CWcXv1vdOB0+ikqzWLa6BE1SfG719/b2YH1/K/bdO5G8XgCUmZmkX76R9HWXo+zvpO1Xv0b0eFDq9eR/8QG0ZYm1+8nS1TbE9vdax3dvzlmYy6qN5dNa9m3oGObnLwXT//d8bC6XLz47k3gqM+U8nOkIgsjRA33s396Jzysgl8uoXl5I1cJ8Xn5mPwG/SHmVgU0fnxezrYq8PT10/+ePkLxe9LfcRtY110Z7SDHBVM9Bn1/gP/5wgK7BURbMzuTrt9WgiKKAFj1u3K2tuJqO4WpsxNvTzanb62UaDQVf+jLJi6rDOo6EkEoQ0wguF/adO7C+vwX/4NgnYYVivKYqZVktufd8FoUu0fB2qgT8Agd3d3NwdzeCENyIsGJ9GfOXFEx5qabP7ODHf6jD7RW4ZmUxn9xQccHnJM7D2Ke3c4Tt77UyYnEBUFSayZorK8nM1mEwpHLkYC+vv3QYv0+gdI6ezZ+YH7NiavRAHcZH/w9kMgq+8v9IqVkc7SFFnYs5B4dsHn749D5GXX4+tqKY2zZe+FwPFaLPh+d4G66mYMbJ09kxfi0AQKFAW16Brmoe2qp5JJWWRaQFWEJIJYgLJFHE1XgM6/tbcNYfQqZUYrjtDtI3bEyk6aeJbcTF9nfb6B6zxtDnprD+6jnkFkyups7m8PKjZ+oYsnuonWvgSzcunFR/rsR5GLvYrW52bj1OR0twCTgtI4k1myooqcgeP99OxG+w387rLx7G5w1QUp7NVTfNj9kuEEOv/Y2hv/0FeVISRd/95wnrLy8lLvYcbOoa4ZEXDiFKEvffsIAV88PTW1UKBPB0dOBqHhNOba3jXTMAkMlIKi1FVzUfbdU8tOUVyDXh2URzPhJCKkHc4R8ZITsrGbuUKBoNFZIk0dFiYceWNhz24FLqvJp8Vm4oO69rv9cv8NPnDtBhHKWsII1v37EE9SR90RLnYezh9wsc2t3NwT09CAERpUrOstUlVC8vPEscnRo/88Aor71Qj9cToKg0k4/dvDCmWhSdQJIkjI89imP/PlSGHIq/9y8hbV0Vb0znHHxvfw/PvdeKWinnu3cvozh3+ht8JFHE290dXKprasTd2jJe2nECTVHxeMZJWzkHhS76vUUTQipBXJKIYXjw+wTqdnZSvzfoO5akVbJiQxnzqvPPyvyJksSjfznKgRYz+vQkHv5MLWlTqLFKxDB2kCSJ9mYLO7eeFNIV83NYtaGMlLSJXfHPjN+QycGrL9TjcfmZVZLBNbcsQqWOPTEler30/OTHeLu70FbNo/DrD83ItlGTYTrnoCRJ/P6NRnYcHUCfnsQ/31NLqm5qH24lUcTX34erqQlX0zHcLc2ILtdpj1HnF6CtqkJXNQ/dnKqY3JGdEFIJ4pJEDMPLiMXJtndb6esK2lHkFqSx7qpKDHknJ4yXtrbx1t5utBol37t7GQX6qdWpJWIYGwybnWx/72Sss3OSWbv5wjs5J4rfsMXJq88fwu30k1+YzrWfXIRaE3sixT88RPeP/hXBbifjik3k3Hl3tIcUFaZ7DvoDAv/5x2BGel5JJt+8/fzF55Ik4TcNBmucGhtxNzcijJ5+fJXBgHbuPHTz5qGbOy8uulIkhFSCuCQRw/AjSRJtjSZ2bj2Oy+FDJoMFS2Zx2frZ7Gw08ezbzSjkMr55Ww3zLsItPRHD6OL1+Nm3rZOjB/qQJNAkKblsfSnzF09us8G54jcy5OK15w/hdPjInZXGdZ+sjsndw+7jbfT+138iBQLk3H0vGZdviPaQIk4ozsFhu4cfPrUPu8vPVcuL+NSmytPu9w8NnVyqa2okMDJy2v2KjIxgtqlqPrqqKlR6w7TGEw0SQipBXJKIYeTweQPs297Jkf29SBKokpS0ePxYkPjstVWsqy64qNdNxDA6iKJE0xEjez7owOP2I5PB/CUFXLau9Lz1cGdyvvjZRty8+vwhHHYvOfmpXH97NZoYbHhr27GNwSefAIWCwoe+fcl1QwjVOdjSY+W/nj+IIEp8cWMR8wmKJ3dTE36z6bTHKlJSTy7VVc1HlRsfPofnIyGkEsQliRhGniGTg3dfb2LE5ABAlabhpk8uIvsczuUXIhHDyDPQZ2P7u62YB4IxzC9KZ+2Vlehzpx7DC8XPbnXz6vP1jNo86HNTuP72arRTrKGJBOYXn2fk3bdRpKRS/PC/xGVG5GIJxTkoOBy4mpto3b4fd3MjBp/ttPvlWi3auWPCae481LNmzTjT5PMJqdjLxSZIkCBqyLUq9rk8yBEpUyjw27386ff7qV5eSO2a2TFZC5MgiNPhZff77bQ0DALBRumrNpZTMS8nbNmAtAwtN356Ma8+X49l0MGrz9fz8U/VxESvz1PRf/J2vMZ+XEeP0Pd//0Pxd76HPOncfT4vdUSPG1dLC+4xL6cTJpgpQArgkykZTM1j3uWXkVW9EE1xyXhHikuRREYqQcySiGFk8fqCRaVdg6NUzErnazct4MDObhoO9AOQnKJm9aYKyqsMk74wJ2IYfgRB5PD+Xup2dOH3CcgVMhavKGLpypJp76ibbPyco15efaEe65CLzGwdH7+jhuQJmlhHE8HlpPvH/4Z/YIDkJUspeOArMy5rMhGTieG4CWbjsZMmmKI4fr9MqSSprBzdvPmoK+fyf7tttA04qSrO4Ju3L0YZowatoSSxtJcgLknEMHKIosQvXznCoTYLhowkvveZWtLGlmhMRjvb3mnFZAzGonB2Jms3B73SaUEAACAASURBVJ2vL0QihuGlu32I7e+1YRt2AzC7IpvVmypIzwxNtmUq8XM5fbz2Qj3DZifpmVpuuKPmnLYK0cI3MED3v/8rottN1vUfR3/jLdEeUtiZKIZBE8z2sZ11x/C0Hz/dBFMuJ2l2aXCpbt58ksorTmsEPTLq5YdP7cPm9HHlskLu3DwnUm8naiSEVIK4JBHDyPH8e628u7+H5CQl3717GfnZp9sciKJEY72RPR+24/UEkMvHsh6rS1Cdx5QxEcPwYBtxsWPLcbrahgBIz9Ky9soKisuyQ3qcqcbP7fLx+guHsZgcpGUkccMdi0lNjy0x5Ww4St8vfgaSRP4XHyD1shXRHlJYMRhSMQ3a8HZ1jrddcbe2IPl8Jx8kk51mgqmbM+eCS59tvTZ+8twBBFHic9fNY82i/DC/k+iSEFIJ4pJEDCPDlrpe/vhuCwq5jIduX0xVSeY5H+t2+dj9QTtNh4M9EVPTNKy5spLZldkTLvclYhha/L4AB3Z1c2hvD6IgoVIrqF1TwqLawrD0v7uY+Hncfl5/8TDmgVFS0jR84s7FpGXEVj3SyLtvY37xeWQqFbmfuRe5VjfWCFca+yaCBCCBKCEhBe+XpODtkoQ09vhTbz/7Nin4MuLpt49fdk+5XTrxHDj9cSdeU5TG7jrl9cfHx2nHDL6P4JjkTju2ow2IbvdpfwN1QcGYcJqPbs7ci3J//+BQH8+81YxSIec7dy2lNH9yLafikYSQShCXJGIYfurbLPzvnw8jSUzpU+VAr42P3mlhyOQEoKQ8i7WbK8+6YCZiGBpO+H3tev84ztFgJmHuwlxWbCgLay3SxcbP6wnwxkuHGey3k5yq5oY7FpORFf02HyeQJInBp3+Pffu2aA8lYqgMOejmzQsaYVZVoUwPjQnm02818eGhfjJTNfzLvctJj7GNBqEiIaQSxCWJGIaX7sFR/uMPB/D6BW5YM5sb15VN6fmiKHL0QD/7tnXg8woolPL/396dh7V13vkC/x7tgFgECMQOZl8EtgHHsZ1m8RLH2Re3SbM0M75JJ23jaXozzTSdtHnaJJNn7u3ctplmkkxyb5a6ydhuFqe2YztunNS7hW02s4MxAoTEKgQSaLt/YGPHSWyziCOJ7+d5eGwfBPqZHzp8ec973heLl6Zi4dKUyT3b2MOZ6+0Zxt/2NMNknLjlXKsLx4rVWdAlRfr8uWfSv/ExF7ZvqYbJOITQMAVuu68EmimujO9LHqcTfR99gPFOIyAI598ACIIEEHDBMQGCZOLPC48LuODjzh4XhHOPO3/8q8cECAAg+fJx4cLPhYuPnR3xvfAYhLOfAxc9buK4ACAyPhouXSrkMbE++To6XR78r3dPoLlzCDnJkXjyvkVBOfmcQYoCEnvoOwPDY/j1W8cwaBvH0oJ4PHJrwbRvkR+xjeHQZy1oqp1YlC9SE4IVqyfm67CH0+ewO3H0izacOtkFrxdQhcqx9NoFyCvWzdnihjPeXmTcjR1bq9F1ZhCqUDluu7cEMXHzdwNhMczFa3DQNjH5fNA2jhsWJ+GBNcG36OmlgpT02WeffXbuSpkwOjp++QfNUFiYck6eh3yHPfQNx7gLv3nvJHoG7MhOjsQP79TPaH6NQiHDglwtElMiYTYNY7DfjqZaM/rMNmjjwyFIMGc/+IOBx+NF7YkufPJ+DbqNQxAEQF+WhLV3FkKXHDmnX8uZvgalUgky87Qwdw+j3zKClnozktM1frc0QjCbi/OoSiFDVlIkDtWa0NJlRXS4Emk6/9t4eCbCwr75e5YjUuS32MPZ5/F48fs/V6GqpQ/xmhD8/KEyqKewZcjlnFvTyLD/NFzOiXVo5Aop4hMjkJAcCV1yJOITI2a8vlGw6joziP2fNk3OPUtKi8KKVdmI1opzSWy2XoMulxu7PqjFmZZ+KJQy3HpvMeKCeGKyP5nL8+gXlV14c2c9ZFIBT92/GJmJvr/8PFd4aY8CEns4+zbtacTeCiPCVDL8y0NliPfRBGCb1YGKg+0wGa3o7x350vsEYWKejy45cjJc+dtK2HPNZnXg0GetaK6buDwaHqHEspVZyMiJFXU0bzZfg26XB7s/qsXppj4olFLc/O3iOZnnNd/N9Xn0nV0N+OxEJ6LUCvzy4XJEBsnoo8+ClMfjwebNm/G73/0Ob731FnJyrmxRLgYpuhLs4ezaY+jAu582QSYV8OS9i5CTMjt37VyKVhuO9rZedButMBmH0G0cQm/PMC4+60RqQiZDVUJKJCI1IfPicqDL5UblUSOOH2qHy+k5P2H/qhTILrE+11yZ7deg2+3B3o/r0FJvgVwhxbp79EhM9f334Xw21+dRl3ti8nmTcQhZyZH4aZBMPvfZXnv19fUoKSlBSIh/rRFCRF92osmC9z5tAgD8/br8OQlR54SqlcjM0yIzb2Kj2PExF8zdVnR3TASrni4rhgbsGBqwo756Yn0qVagcCReMWMXGq32yTpJYvF4vTjf34eDeZlgHHQCABblaLLsh0+8WsJxNUqkEq27Lh0QioOmUGdu3VOGmu/VITv/mtcsosMikEvzgTj1+9eYxNBuH8KdPm/DQjcE3+fxCs3Jp74YbbsArr7xyxSNSLpd78vZoIvKt5o5B/PPL+zE27sb9a/Nw72r/Oqm53R70dFlxpq0fHW39ONPWj5HhsS89Rq6QIilVg9SMaKRkRCM5TQOlKjA3UO4127Droxq01FsATFzmXHtHETKyfXN7uj/yeLz4eHMlKo91QCaT4Nt/V46svDixy6JZ1HhmAP/8h/1wujz40foS3Lg0XeySfOayQWrDhg3o7e39yvGNGzdi5cqVAKYepHhpj64Eezhz/VYHfv22AUO2cSwr0mHDzflzeslsOj30er2wDtonR6xMxiEM9n95VWZBAGLi1BOjVimR0CVFIizcv+dijI+5YDjQjmqDER6PFwqlFOXXZKBwUaLfjrb58jXo9Xrx+SeNqKvshkQq4MY7C5GeNX/C5FwR8zy6v6ob/3dHHaQSAU99dzGykgN3TtyMLu298cYbs1oMEc0N+5gLv91SiSHbOPJSo/DwTXkBMe9IEAREakIRqQlFXvHESuv20fHJOVbdxiH0mmzo7Zl4q67oBABERKkmJ7AnJEciKibUL/6/Xq8XDTU9OLyvBfYRJwAgvyQBV12bgZDQ+TvJXhAEXLs2B1KpgJrjXdj1fi1W316ABblasUujWbKiOAHtPcPYW2HEHz6oxi8eLofGz3/hmY7AHBsnoktyezz4z49qYLSMQBcdih/cqQ/oCZ8hoQpk5GiRkTPxQ9bpdMPcdX4Cu6nTCuugA9ZBBxpregAAqhAZdEmR0KVMBCutLnzOR37M3Vbs39OMni4rACA+KQLXrM6GNsjW2JkuQRCwYnU2JFIJqo4ZsfvDWqy6rQBZ+bzMFyy+c0MWjGYbGjoG8fIH1fjpdxdDLgvcc9HXmVGQGhoawqZNmzA8PIzNmzfjlltuwcKFC2erNiKaBq/Xi017mlDT2g91iBw/Xl88q2tF+QO5XIqkNA2Szm6w7PF40W+xTV4K7O4YwohtHKeb+3C6uQ8AIJVJEJcQjoSzwSo+MdJn86xGR8Zx5PPzmzuHhimw9PoFyCmM94tRMn8iCAKW3ZAJqVSCE4fP4NNtp+DxeJFTGC92aTQLZFIJHrujCL966xhauqzYtKcB31sbGKPjV4rrSJHfYg+nZ9fRM/jvvzZDJpXgp/ctEnVeglg99Hq9GB5ynA9WxiEM9I5+5XExcWHnl11IjoQ6YmZ3zLndHtQe78Kx/RP7D0okAorLk1G6LA0KZeBdAJjL/nm9XhzbfxoVB9oBANevy528tEvT5y/n0dMmK/71j8fhdHnw4I25uH5RktglTYnPlj8gIv9S0WDB5r82AwD+xy35AT25cyYEQUBEVAgiokKQW6QDMLF33eSlQOMQzN3D6DOPoM88gprjXQAmFsI8dylQlxyJ6NiwK/7N2Xh6APs/bZoMbCkLorF8ZRY0Mb5Z9DTYCIKAJddkQCqV4OgXbfhsRwM8Hi8KFiaKXRrNgnRdBL63Nhev/6UOf9rTiKTYsDldhsWXGKSIgkRbtxX/9XEtvADuvnYBluTz0siFVCFypGfHIv3sMgMupxtm0/CXwtWwdQzDtebJDZgVShkSkiMmR6y0CeFfWbrFOmjHoc9a0NowcXdzRJQKy1dmIS0rJqguX8yV0mVpkEgFHP6sFZ9/0gi32wN9abLYZdEsWFaUgHaTDXsMHXj5wxr84ntliJ7hKLA/YJAiCgK9Q3b8bmsVxl0erChOwLqlaWKX5PdkcikSU6KQePa3Yq/Xi37LyJcuB9qsY2hv6Ud7Sz8AQCIVJuZZnR2xsphsOHH4DNwuD2RyCUqXpaG4PJnr5M3QoqtSIZVIcGBvM/bvaYbH7UXJkhSxy6JZ8O0bMmG02FDXPoA/fFCNf75/MeQB/nphkAogXq8XTcYhHKzpRlVLH+KiQlCWF4fS3LigvKWUrsyow4XfbamCdWQc+WkaPHRjLkdCpkEQBMTEqRETp0bR4on5G8NDDpg6z45YdQyhzzICk9EKk9EKoGPyY7ML4rD0ugUznmNF5xWXJ0MqE/DFriYc/GsL3G4PFl/NXxACnVQiwT/cXohfvWlAW/cw3t7VgL9fN7fr2802BqkAYB6041CNCQdrumE5u50EAAzaxtF4dgn+rORIlOXGoSxXGxRDpXRlXG4P/vPDanT2jiAhJhQ/vLMooJc58DfhkSqER6qQXTBxmXTM4YSp8/yyCxKJgLIV6ZOjWjS7ChclQSKRYN/OBhz5vA1utxdly9MC+ocuAeGhCvzoLj3+9Y8VOFBtQrouAisD+PItg5SfGnW4YGgw42B1NxqNQ5PHNeFKXF2oQ3leHLr7RmBosKC6tQ/NxiE0G4fw3t4mLEiMmAxVsVHcBzFYeb1e/HF3A2pPDyA8VI4fry9BqCq4ljnwN0qVHGmZMUjLjBG7lHkjvyQBEqmAz7bXw7D/NDxuD5Z8K4NhKsCl6cLx8Lo8vLbtFN7b24RkbRhyUwNzz0UGKT/i8XhRe7ofB2tMON5ogdPlAQAo5BKU5mixTJ+A/FQNJJKJE0iaLhxLC3VwjLtQ1dIHQ70ZVS19aO2yorXLis2fNSNdF47yvDiU5moRp+HdQ8HkkyNn8EVlN+QyCTbeXQwtQzMFqdwiHSQSAXs/rsPxQ2fgdntx9fULGKYC3NICHdpNw9h19Nzk83LEBOCm3QxSfsBoseFgjQmHak0Yso1PHs9LjcKyogSU5moRcok1aFQKGZbkx2NJfjzGxt2obu2DocGMyuY+nDYN47RpGFv2tSA1Xj0xUpUXB100Q1UgM9SbsWVfCwDgkVsKkJk0P5c5oPkjuyAeEokEn247hcqjHfC4PVi+KothKsDdc10mOsw2nDo9gP/4oBo/u38xFPLAmnzOBTlFYh0dx5FTPThYbUJ7z/k64zUhWFakw9VFOsRGzmyEYdzpRk1bPwwNZpxs6oVj3D35vmStGmV5WpTlxiExNmxGz+Mr/t5DsbR0DuHf3j0Bp8uD9ddl4iY/vkOPPQxs/ti/00292PVhLTxuLwoWJeJba7IZpi7BH3t4MZvdiV+9eQy9Qw5RNle/EpdakJNBag45XR5UtfTiQLUJ1a19cHsmvvShShmW5MdhmT4BmYkRPvkGcrrcqG0bgKHBjBNNvbCPuSbflxQbhtJcLcry4pA0hQUIfc0feyg2y6Adz79tgHXUiW+VJOJ7a/37Dj32MLD5a//OtPbhkz/XwO32Iq9Yh2vX5k5OeaAv89ceXuxMzzBe+GMFxp0e3LcyG6vL/Wu5CwYpEXm9XrR1D+NATTeOnurBiGMiwEgEAUULorFcn4CFWTFzuo6G0+VBXXs/DPUWnGiyTNYEAAkxoSg9O1E9JU4t6g9pf+mhvxh1OPH8OxXo7htFYboG/7i+xO/v0GMPA5s/9894uh87t9bA5fIgpzAe19+cC4nEv18PYvDnHl7saF0PXvmoFhJBwP+8dyHy0/xn8jmDlAj6rQ4cqjXhYI0J3X3n9/hKiVNjeZEOVxXqEBmmEK2+c1xuD+rbJ0aqjjf2wmZ3Tr4vXjOxTlVZbhxS4+c+VIndQ3/icnvwfzZXoq59AEmxYfjZA6UI9dGGu7OJPQxs/t6/rjOD2L6lCi6nB1n5WtxwSz6kfv7LxVzz9x5ebMu+Zuw8fAbqEDl+8XDZjKe4zBYGqTkyNu5GRaMZB6pNqG8fwLkvbESYAksL4rGsSIfU+G9uhtjcHg/qzwyiot6MikYLhkfPhyptlGpyonq6LnxOQlWgnQB8xev14v/trMf+qm5EhCnwLw+V+s3J5XLYw8AWCP3rNg5h++YqOMfdyMiJxerbCximLhAIPbyQx+PFb7dUoqatH6nxavzsgVIo/WDyOYOUD3m8XjScGcTB6m4YGiwYc05M6JZJJViUHYvleh0KM6IhDbAhZ4/Hi4aOQRgazKhosMA6cv5uwpgI1eRE9YzECEh8FKoC7QTgK9sPncafP2+FQibBU/cvRkZChNglXTH2MLAFSv96uqz4y39XYnzMjbSsGNx4RyGkssA65/pKoPTwQja7E8+9ZYB50I6lBfF45NYC0eeCMkj5gKl/FAdrunGoxoQ+69jk8aykSCzTTyyYGRYkiyN6PF40dw7hWL0ZFQ1mDF6wRIMmXInSXC3K8+KQmRQ5q6EqEE8As+3cnAEBwA/u1KM0Vyt2SVPCHga2QOqfxTSMj9+rxJjDhZQMDdbeVQSZH4xkiC2Qengho8WG59+uwJjTje/ckIUbl6SKWg+D1CwZcThxtG5itfGWLuvk8ZgIFZYV6bBMr0N8kC966fF60dppxbF6MwwNZgwMnw+RkWoFynLiUJanRXZy1IzvognUE8BsaTZOLHPgcnv84kQyHfO9h4Eu0PrX22PDx+9VwmF3IiktCjfdrYdcMb/DVKD18EKGejNe/rAGggD85DsLUZgeLVotDFIz4HJ7UNPWj4PV3TjZ3AuXe+LLpVRIUZ4bh+V6HbJTonx2ecufebxetHVbUVFvwbF6M/qs5/cBjAhToDRHi7JcLXJSo6Z1aTOQTwAzZR4YxXNvV8Bmd+L6RUl4YE2O6EPb0zGfexgMArF//ZYRbHvvJOwjTiSkRGLdPXooLrGgcbALxB5e6M+ft2D7oXaEqWT4xcPlou3gwCA1RV6vFx1mGw5Um3DklAnWs5OuBQAF6Ros0ydgcbYWynn+m86FvF4vTpuGYWgww1Bv/tLmyuGhcizOmZhTlZsadcW37Af6CWC6bHYnXninAqb+URQtiMY/3lMccHPszpmvPQwWgdq/gb5RfPzuSYzYxhGfFIGb1xdDGQB3ufpCoPbwHI/Hi9//uQpVLX1I1qrx8wdLRfnZyyB1hYZsYzhU24ODNd0wWkYmjyfEhGK5PgFLC+IRHRF4+wDNNa/XizM9tslQ1TNgn3yfOkSORdmxKMuLQ36a5pKhKtBPANPhcnvwm/dOoqFjEMlaNX72wOJLbg/k7+ZjD4NJIPdvaGAU296thM06hriEcNzynWIog2Te6lQEcg/PGXU48eu3DOgZsGNJfhy+f1uhKMvxfJN5H6TGnW6cbJ5YbbymrQ/nvhrqEDmuyo/HMr1uzm73D0ZerxdGywgMZ+dUXbimVqhShkU5sSjLjUNBejTkF91lEwwngKnwer14Y3sdDtaYEKlW4JmHygI+uM+3HgabQO+fddCObe9WYnjIgdh4NW69twSqkPkVpgK9h+d09o7gubcNGBt3i7I1FoPURbzeibvQDlSbcKzePLldilQioDgzBsv1CSjOjPH7VaMDUafFBkODBYZ6Mzp7z4/6hSilWJg1MVJVlBENuUwaNCeAK7XtQBs+/FsbFHIJfnZ/KdJ0/rvm2JWabz0MNsHQP5vVgW3vVmJowI5obRhuvbcEoX6wGPJcCYYennO80YL/eL8aggA8sb4ERQti5uy5GaTOPe+gHYdqJlYbNw+ev9yUrgvHcn0CluTHITx0/rzAxNbVO4KKBjMMDRZ0mG2Tx5WKiVBVXqgD3B6oQ+STb2EhsoCdL3Qph2pN+K+PT0EA8PjdxViYHSt2SbMimE7i81Gw9G9keAzb3j2JwX47NDGhuPW+EoSplWKXNSeCpYfnfPBFKz4+eBqhShl+8XAZ4uboTvl5HaTsYy4Y6s04UGNCY8fg5Puj1ApcXaTDsqIEJMWG+bweujRT/+hEqKq3oL3n0t8fIUoZwkPkCJsMWDKoQxRn/7zw+Pk3hR+vJ9PYMYj//d4JuNxe3LcqG6vL/GuzzpkItpP4fBNM/RsdGce2d09ioHcUkdEhuO2+hVCHB3+YCqYeAhN3i7+0tQqVLX1I0obh5w+WQqXw/TzSeRekPF4vOgcc2Lm/FccbLRh3eQAACpkEi3O1WF6UgPw0DXcL91PmQTsqGszot42jb8COYfs4bHYXRuxOjNidmM43rEImgTpUDrXq64PWlwLY2ceFKKU+nxvX0z+K5942YMThwsrSZNy/OsenzzfXgu0kPt8EW//so+P4+L1K9JlHEBGlwm33LUR4ZGDPQ7ycYOshAIw6XHjubQNM/aMoy9XisTuKfH6unndB6qP9bfhof9vkv3NTorBMr0NZblxA3wE133zdCcDj8WJ0zAWb3Xn+bXTizxHHRcfO/nvE7pxc/2sqpBIBYSoZwkLkF42AnQ9bFwewMNWVX3q02Z147m0DzAN2FGfGYOPdxUEX7oPxJD6fBGP/HHYn/vLflbCYbFBHKHHbfQsRqQmMvSunIxh7CADdfSP49VsGOMbd2HBzPpbrE3z6fJcKUkGZKhJiQpGXpkFeahSuLtSJtoAXzT6JRJgMM1fK6/XCMe7GiP18uDoXviaClmvi+OjEyJft7OPGxt2wjjphHXWiewo1hirPX2IMD5UjTHXBJchQxcTfVTJ8uL8N5gE7UuPU+IfbC4MuRBH5I1WIHLfeW4K/bK6CuWsY771+FDkF8SguT0ZMnFrs8ugKJcSE4R9uL8RbnzSIPnUjKEekgOBN4fOJ2D10ujyTI1q2r3kbsTsxfNH7Rx2uKV161IQr8S8PlUETpHM1xO4hzUww9298zIV9OxvQUm+ZPJaUFoWS8hSkZkYHzZI3wdzDuTTvRqSIZoNcJoEmXDmlkOPxeCcvMY7YXWfnd50d9booiClkEqy/PitoQxSRP1MoZVhzRyEG+0dRbehEfXU3OtsH0dk+iMjoEBSXJSO3SDfv9+qjy+OIFPkt9jDwsYeBbT71b8zhRF1lN6orOmGzTmzGrlTJULAwAUWLk6AO0MVx51MPfYkjUkRERJegVMmx8KpUFJcno7WhF1XHjOjpsuLE4Q6cPNKBzLw4FJcnIz4xQuxSyc8wSBEREZ0lkUiQlR+HrPw4mDqHUG0woqXeguY6M5rrzNAlRaC4PBkZObGQBOHiwDR1DFJERERfQ5cUCV1SJJZe50DN8U6cOtkFU6cVps5TCI9Qoqg0GfklCVCq+KN0PptR91944QWEhIQgNDQU9fX1ePrpp6HVamerNiIiItGFR6pw9fWZKFuehobqHlQZjBgasOPQZy0wHDiNPL0O+rLkoF6Pir7ZjMYlQ0JC8MQTT+D73/8+8vPz8corr8xWXURERH5FrpChqDQJ9z26BDfdXYTE1Cg4x92orujEn149gk/+XIOuM4MQ4R4uEtGMRqSeeOKJyb97vV6Ehs7N5oFERERiEQQB6dmxSM+ORW/PMKoMnWg61YO2pl60NfUiNl6N4vJkZOXHQSrlPKpgd9nlDzZs2IDe3t6vHN+4cSNWrlwJALBarfjhD3+Il156CVFRUZd9UpfLDZmMa3MQEVFwsFkdMBxsh+HQaYzaxgEA6gglypeno3RpGkLVXC8uWM14Hanh4WE8++yz+PGPf4yUlCvbtZ7rSNGVYA8DH3sY2Ni/qXO53GiqNaPKYES/ZQQAIJVJkFsUD31ZMqJjw+a0HvZwdvhsHan+/n688MIL+OlPf4r4+Hjs2rULN95440w+JRERUcCSyaTIL0lAXrEOne0DqDxmxJmWfpw62Y1TJ7uRkqFBcXkKUjI0QbMNzXw3oyC1YcMGuFwuPPnkkwCAsLAwBikiIpr3BEFAcno0ktOjMdA3gipDJxqrTehoG0BH2wA0saEoLktGTmE8ZCJvukszwy1iyG+xh4GPPQxs7N/sctidOHWyCzUVnRg5O49KFSJDwaJEFC1OQpgP5lGxh7ODW8QQERGJTBUix+Kr01CyJAUt9RZUHTPCYhrG8YNncPJwB7LyJ7ah0eq++Yc2+R8GKSIiojkklUqQUxiP7II4mIxDqDxmxOmmXjTW9qCxtgcJKZEoKU9GWlYsJBLOo/J3DFJEREQiEAQBCSlRSEiJgnXQjuqKTtRVdqO7YwjdHUOIiFJBX5aMPL0OCiV/XPsrdoaIiEhkEVEhWL4yC+Ur0lFX1Y1qQyesgw4c+LQZx/7WhvySBOhLkxEeqRK7VLoIgxQREZGfUChlKClPgb40GaebelF1zIhu4xAqjxpRdcyIjBwtSsqTEZ8UweUT/ASDFBERkZ+RSAQsyNViQa4WFtMwKo91oKXOgtaGibe4hHAUlydjQa6W29CIjEGKiIjIj2l14Vh1awGWXjeG2uOdqD3RBXP3MD7dVoew8FboS5NQsDABSpVc7FLnJQYpIiKiAKAOV+Kqaxdg8bI0NNb0oMpgxGDfKA7va4XhwGnk6nUoLktGVHSo2KXOKwxSREREAUQul6JwUSIKFibgTGs/qg1GdLQNoPZ4F2qPdyEtMwbF5clISosSu9R5gUGKiIgoAAmCgLTMGKRlxqDfMoIqgxGNNSa0t/ShvaUPMdowfGt1DuJTODHdlzhDjYiIKMBFa8Nw3U25ePCHV6P8mnSEhMnRZxnBB386gZNHOsQuL6gxSBEREQWJkFAFypanB+IEPQAADPdJREFU48HHrsaK1VkAgMP7WtFSbxa5suDFIEVERBRkpDIJ9KXJWHVLPgBg78d1MHUOiVxVcGKQIiIiClJXX5eJgoUJcLu92Lm1BtZBu9glBR0GKSIioiAlCAKuWZONlAwNHHYntm+ugsPuFLusoMIgRUREFMQkEgnW3FGIaG0YBvvt2PV+Ddwuj9hlBQ0GKSIioiCnUMpw83o9QtUKdHUMYd/OBni9XrHLCgoMUkRERPOAOkKFdffoIZNL0FjbA8OBdrFLCgoMUkRERPOEVheO1bcXQBAAw/7TaKgxiV1SwGOQIiIimkfSs2KxfNXEGlP7djSg68ygyBUFNgYpIiKieUZfmgx9WRI8Hi8+eb8GA32jYpcUsBikiIiI5qFlN2QhPTsGYw4Xdmypgn10XOySAhKDFBER0TwkkQhYdWsBtDo1rIMO7NxaA5fTLXZZAYdBioiIaJ6SK6S46R491BFK9HRZ8dft9VwWYYoYpIiIiOaxMLUS69broVBK0VJvwZHPW8UuKaAwSBEREc1zMVo11txRCIlEwInDHTh1skvskgIGgxQREREhJSMa19yYDQD4YlcjOtr6Ra4oMDBIEREREQCgoCQRi5amwusFdn1Qiz6zTeyS/B6DFBEREU266toMZOVr4Rx3Y8fWaowMj4ldkl9jkCIiIqJJgiDg+pvzoEuKgM06hh1bq+Ec57II34RBioiIiL5EJpNi7d1FiIhSobfHhj3bTsHj4bIIX4dBioiIiL4iJFSBdeuLoVTJ0N7ch4N7m8UuyS8xSBEREdHX0sSEYu1dRZBIBFRXdKLKYBS7JL8jm8kHv/XWW2hsbER6ejqOHz+ORx99FIsWLZqt2oiIiEhkialRuH5dLvb+pR4H9zYjIlKF9OxYscvyGzMakRofH8czzzyDRx55BHfddRd+//vfz1ZdRERE5CdyinQoX5EOrxfYs+0ULKZhsUvyGzMKUo888ghUKhUAoL29HZmZmbNSFBEREfmX0uVpyCmKh8vpwY4t1Rgecohdkl8QvJfZnXDDhg3o7e39yvGNGzdi5cqVsFgsePXVV1FXV4eXXnoJ0dHRl31Sl8sNmUw6/aqJiIhozrldHvzxtcNob+lDnC4cf/f4cihVcrHLEtVlg9SVOnToEH7zm99g69atl32sxeL7IUGtNnxOnod8hz0MfOxhYGP/Ap8vejjmcOL9d05gsG8UKRka3HSPHlJpcN+7ptWGf+P7ZvQ/f/311yf/npycjI6Ojpl8OiIiIvJzSpUcN6/XQxUqR0fbAP62uwmzNCYTkGZ01153dzdefPFFaDQa1NfX4/nnn5+tuoiIiMhPRUSF4Ka7i7Dt3UrUVXYjUhOCRUtTxS5LFDMKUs8888xs1UFEREQBRJcUiZW35GH3h6dweF8rIqJUyMyLE7usORfcFzWJiIjIZzLz4rD0+gUAgL0f18HUOSRyRXOPQYqIiIimbeGSFBQsTIDb7cXOrTWwDtrFLmlOMUgRERHRtAmCgGvWZCMlQwOH3Yntm6vgsDvFLmvOMEgRERHRjEgkEqy5oxDR2jAM9tux6/0auF0escuaEwxSRERENGMKpQw3r9cjVK1AV8cQ9u1smBfLIjBIERER0axQR6iw7h49ZHIJGmt7YDjQLnZJPscgRURERLNGqwvH6tsLIAiAYf9pNNSYxC7JpxikiIiIaFalZ8Vi+aosAMC+HQ3obB8QuSLfYZAiIiKiWacvTYa+LAkejxefvF+Lgb4RsUvyCQYpIiIi8ollN2QhPTsG42Mu7NhSDfvouNglzToGKSIiIvIJiUTAqlsLoNWpYR10YOfWGricbrHLmlUMUkREROQzcoUUN92jhzpCiZ4uK/66vT6olkVgkCIiIiKfClMrsW69HgqlFC31Fhz5vFXskmYNgxQRERH5XIxWjTV3FEIQgBOHO3DqZJfYJc0KBikiIiKaEykZ0fjW2hwAwBe7GnGmtV/kimaOQYqIiIjmTEFJIhYtTYXXC+z+sBZ9ZpvYJc0IgxQRERHNqauuzUBmnhbOcTd2bK3GyPCY2CVNG4MUERERzSlBEHDDzXmIT4qAzTqGHVur4Rx3iV3WtDBIERER0ZyTyaW46e4iRESp0Ntjw55tdfB4Am9ZBAYpIiIiEkVIqALr1hdDqZKhvbkPB/c2i13SlDFIERERkWg0MaFYe1cRJBIB1RWdqDIYxS5pShikiIiISFSJqVG4fl0uAODAp81oa+oVuaIrxyBFREREossp0qF8RToA4NNtp2AxDYtb0BVikCIiIiK/ULo8DTlF8XA5PdixpRrDQw6xS7osBikiIiLyC4Ig4LqbcpGYGoXRkXHs2FqNMYd/L4vAIEVERER+QyqVYO1dhYiKCUW/ZQS7P6yF2+0Ru6xvxCBFREREfkWpkuPm9XqoQuUwnh7A33Y3wev1zzWmGKSIiIjI70REheCmu4sglUlQV9mNk0c6xC7pazFIERERkV/SJUVi5S15AIDD+1rRUm8WuaKvYpAiIiIiv5WZF4el1y8AAOz9uA6mziGRK/oyBikiIiLyawuXpKBgYQLcbi92bq3B0IBd7JImMUgRERGRXxMEAdesyUZKhgYOuxM7tlTBYXeKXRaAWQpSL7/8Mq666qrZ+FREREREXyGRSLDmjkJEa8Mw2G/Hrvdr4HaJvyzCjIPUkSNHYLVaZ6MWIiIiom+kUMpw83o9QtUKdHUMYd/OBtGXRZhRkOrt7cX27dvxwAMPzFY9RERERN9IHaHCunv0kMklaKztQUO1SdR6ZJd7wIYNG9Db+9VdmDdu3Ii9e/fiqaeewvDw1DYW1GhCIZNJp/Qx06HVhvv8Oci32MPAxx4GNvYv8AVjD7XacMi/J8XO92sQqw0X9f8oeKc5JlZdXY0tW7YgOTkZQ0ND2LRpE37wgx9gzZo1SE9Pv+THWiy+39FZqw2fk+ch32EPAx97GNjYv8DHHs6OSwW1y45IfRO9Xg+9Xg8AMBqN2Lp1Kx599NHpfjoiIiKigDPjyebt7e3YtGkTxsbG8PLLL2N0dHQ26iIiIiLye9O+tDcTvLRHV4I9DHzsYWBj/wIfezg7LnVpjwtyEhEREU0TgxQRERHRNDFIEREREU0TgxQRERHRNDFIEREREU0TgxQRERHRNDFIEREREU0TgxQRERHRNDFIEREREU0TgxQRERHRNImyRQwRERFRMOCIFBEREdE0MUgRERERTRODFBEREdE0MUgRERERTRODFBEREdE0MUgRERERTZNM7AJ84eDBg9i9ezdiYmIgCAJ+9KMfiV0STcGZM2fw29/+FgUFBTCZTIiKimIPA5DD4cD69euxYsUKPPXUU2KXQ1PU2tqK7du3Q6lU4tixY3j88cdRXFwsdlk0Ba+//jo6Ozuh0WjQ3t6O559/HiqVSuyygk7QBSm73Y5f/vKX2L59OxQKBR5//HEcOnQIV199tdil0RUaHBzEunXrsGrVKgDAunXrcN1116GoqEjkymgqzoVhCjxutxsvvvgiXnnlFUgkEtxxxx2QyYLux0VQs1gseO2113D48GFIJBI89thj2L17N2677TaxSws6QffKOHnyJBITE6FQKAAAixcvxr59+xikAsjFv/V6PB6EhISIVA1Nx4cffojFixejoaEBo6OjYpdDU1RdXQ2v14t33nkHDocDUVFR+Pa3vy12WTQFISEhkMvlsNlsiIiIwOjoKLKzs8UuKygFXZDq6+tDWFjY5L/VajX6+vpErIhmYs+ePVixYgUyMzPFLoWuUHNzM1pbW/GTn/wEDQ0NYpdD09DV1YWTJ0/i3//93xEeHo4nn3wScrkcd911l9il0RVSq9X4p3/6JzzxxBPQarXQ6XRITU0Vu6ygFHSTzWNiYjAyMjL5b5vNhpiYGBErouk6fPgwjhw5gqefflrsUmgK9uzZA4VCgddeew0VFRWoqqrCm2++KXZZNAVhYWFYsGABwsPDAQClpaU4evSoyFXRVNTV1eGNN97Aq6++ihdffBEajQZ/+MMfxC4rKAXdiNTChQvR1dWF8fFxKBQKHD9+HN/97nfFLoumaN++fTAYDPj5z38Os9mMrq4uLFq0SOyy6Ao89thjk38fGxvD6OgoHn74YfEKoikrKSnB4OAg3G43pFIpurq6kJ6eLnZZNAU9PT2IioqanNum1WrR3d0tclXBKSg3LT5w4AB27doFjUYDuVzOO74CTE1NDR588MHJyeWjo6O4//77eVkhwOzatQubNm2C0+nE/fffj1tuuUXskmgK9uzZg8OHD0Oj0aC7uxvPPPMM7/gKIG63G8899xyUSiXCw8PR1NSEp59+GnFxcWKXFnSCMkgRERERzYWgmyNFRERENFcYpIiIiIimiUGKiIiIaJoYpIiIiIimiUGKiIiIaJoYpIiIiIimiUGKiIiIaJoYpIiIiIim6f8DRjfTWuTMkSkAAAAASUVORK5CYII=\n",
      "text/plain": [
       "<Figure size 720x432 with 1 Axes>"
      ]
     },
     "metadata": {},
     "output_type": "display_data"
    },
    {
     "data": {
<<<<<<< HEAD
      "image/png": "iVBORw0KGgoAAAANSUhEUgAAAlsAAAFlCAYAAADcXS0xAAAABHNCSVQICAgIfAhkiAAAAAlwSFlzAAALEgAACxIB0t1+/AAAADh0RVh0U29mdHdhcmUAbWF0cGxvdGxpYiB2ZXJzaW9uMy4yLjEsIGh0dHA6Ly9tYXRwbG90bGliLm9yZy+j8jraAAAgAElEQVR4nO3de0CUdd738c8IgQoKiHiKg4YCHrLAQ3lIeahNyzxth22rLTdbvXU122rNjnq3uqmbpmampqa7ZT227epa3WUbq7WPWhpoB0VCBFHSiMAYJIfDPH90O6sxgjrzY5iL9+sfZ665Zn7f75z4+JvrYHM6nU4BAADAiGa+LgAAAMDKCFsAAAAGEbYAAAAMImwBAAAYRNgCAAAwKNDXBZxLUVFZg44XEdFSJSUnG3TMhkR//o3+/JeVe5Poz9/Rn/dERbU6523MbP2vwMAAX5dgFP35N/rzX1buTaI/f0d/DYOwBQAAYBBhCwAAwCDCFgAAgEGELQAAAIMIWwAAAAYRtgAAAAwibAEAABhE2AIAADCIsAUAAGAQYQsAAMAgwhYAAIBBhC0AAACDCFsAAAAGBfq6AADWce/c9FrL1sxI80ElANB4MLMFAABgEGELAADAIMIWAACAQYQtAAAAgwhbAAAABhG2AAAADOLQDwCM+m36dLfLX0ib38CVAIBveCVsFRUVadGiRcrKytKbb75Z6/a//e1vev311xUcHCxJuvnmmzVmzBhvDA0AANCoeSVsffrpp7r22mu1f//+c66zcOFCRUdHe2M4AAAAv+GVsDV8+HB9/PHHda7z6quvqm3btqqoqNBdd92l8PBwbwwNAADQqDXINlv9+vVTamqq2rRpo23btmnatGlat25dnfeJiGipwMCAhijPJSqqVYOO19Doz79Zrb+f9mO1/s5k5d4k+vN39Gdeg4StmJgY1+Wrr75akyZNUnV1tQICzh2mSkpONkRpLlFRrVRUVNagYzYk+vNvVuzvzH6s2N9pVu5Noj9/R3/eHetcjIWt0tJSBQYGKjQ0VAsWLNC0adMUGBiovLw8RUdH1xm0AAAATDuc+XStZbHJT3l9HK+ErU8++USbNm1SUVGRli1bpnvvvVcrV65UeHi4JkyYoLZt22rWrFmKjo5Wdna25s9nl28AANA0eCVs9e/fX/379z9r2fTp/zm2zj333OONYQAAAPwOR5AHAAAwiLAFAABgEGELAADAIMIWAACAQYQtAAAAgwhbAAAABhG2AAAADGqQ0/UAQFOTfd+4H/89Y1nCqrW+KAWAjzGzBQAAYBBhCwAAwCDCFgAAgEGELQAAAIPYQB4AALh1OPNpt8tjk59q4Er8GzNbAAAABhG2AAAADCJsAQAAGETYAgAAMIiwBQAAYBBhCwAAwCDCFgAAgEGELQAAAIMIWwAAAAZxBHkAQJP12/TptZa9kDbfB5XAypjZAgAAMIiwBQAAYFCT/xkx+75xP/57xrKEVWt9UQoAALAgZrYAAAAMImwBAAAYRNgCAAAwiLAFAABgEGELAADAIMIWAACAQYQtAAAAgwhbAAAABhG2AAAADCJsAQAAGOSV0/UUFRVp0aJFysrK0ptvvlnr9lOnTmnevHlq37698vLyNGHCBHXp0sUbQwOWdfpUUhKnkwIAf+aVma1PP/1U1157rZxOp9vb161bp44dO2rixIkaN26cHn/8cW8MCwAA0Oh5JWwNHz5cISEh57x969atSk5OliQlJiYqKytLdrvdG0MDAAA0al75GbE+xcXFZ4Wx0NBQFRcXKzQ09Jz3iYhoqcDAAOO1ZbtZFhXVyvi4vmDVvk6zWn/u3puSdfr8aR9W6es0vlv8l9Xfmz9VV3+HL+I+jc2F9meitwYJW5GRkSovL3ddt9vtioyMrPM+JSUnTZd1TkVFZW6XH858utay2OSnTJfjFVFRrc7ZlxVYvb8zWaXPM/toKq+fFXu04mvXlN6bF9ufvzwnF9PfxfZWV0gztjdiaWmp66fC1NRUZWZmSpIOHDigpKSkOme1AAAArMIrYeuTTz7Rpk2bVFRUpGXLlumHH37QypUrtX79eknS3XffrcLCQi1btkwvv/yy5syZ441hAQAAGj2v/IzYv39/9e/f/6xl06dPd11u3ry5Zs6c6Y2hAAAA/EqDbLMFAP7u3rnpbpevmZHWwJUA8DccQR4AAMAgwhYAAIBBhC0AAACDCFsAAAAGEbYAAAAMImwBAAAYRNgCAAAwiLAFAABgEGELAADAIMIWAACAQZyuB5bz4tyttZZNmpHa4HUATY27z57E5w9gZgsAAMAgwhYAAIBBhC0AAACDCFsAAAAGEbYAAAAMYm9EAIBRhzOfrrUsNvkpH1QC+AZhCwA88Nv06W6XT2vgOgA0XvyMCAAAYBBhCwAAwCDCFgAAgEGELQAAAIPYQB5Ngru9oST2iAIAmMfMFgAAgEGELQAAAIMIWwAAAAYRtgAAAAwibAEAABhE2AIAADCIsAUAAGAQYQsAAMAgwhYAAIBBhC0AAACDCFsAAAAGEbYAAAAM8sqJqLdv364tW7YoMjJSNptNU6ZMOev2v/3tb3r99dcVHBwsSbr55ps1ZswYbwwNAADQqHkctioqKjRz5ky9/fbbCgoK0tSpU7Vjxw4NGDDgrPUWLlyo6OhoT4dr8u6dm+52+ZoZaQ1cCQAAOB8eh609e/aoU6dOCgoKkiSlpKRo69attcLWq6++qrZt26qiokJ33XWXwsPDPR0aAACg0fM4bBUXFyskJMR1PTQ0VMXFxWet069fP6WmpqpNmzbatm2bpk2bpnXr1tX5uBERLRUYGOBpefXKdrMsKqqV23UPX8C6De186mgstZpyMf015ufE3XtTatw1X4if9mGVvupi1R6t9tlrau/Nuvpz93evvvs0Nhfan4nePA5bkZGRKi8vd1232+2KjIw8a52YmBjX5auvvlqTJk1SdXW1AgLOHaZKSk56WtpFKyoqM7KuSfXVERXVqtHUasLF9uePz4k/1uzOmX1Y/f15mhV7tOJnrym9N634+p3pYvq72N7qCmke74145ZVXqrCwUA6HQ5KUkZGh1NRUlZaWym63S5IWLFigqqoqSVJeXp6io6PrDFoAAABW4fHMVosWLTRr1izNnj1bERERSkxM1IABAzR//nyFh4drwoQJatu2rWbNmqXo6GhlZ2dr/vz53qgdAACg0fPKoR8GDRqkQYMGnbVs+vTprsv33HOPN4YBAADwO14JW4Bpv02fXmvZC2nMkAIAGj+OIA8AAGAQYQsAAMAgwhYAAIBBhC0AAACDCFsAAAAGEbYAAAAM4tAPAADAMrLvG/efy//7b8Kqtb4oxaXJhC13x2mSpGkNXAcAAGha+BkRAADAIMIWAACAQYQtAAAAgwhbAAAABhG2AAAADCJsAQAAGETYAgAAMKjJHGcL9Tuc+XStZbHJT/mgEgAArIOZLQAAAIMIWwAAAAbxM6JFuDsd0Qtp831QCQB/dO/cdLfL18xIa+BKAOthZgsAAMAgwhYAAIBB/IwIoNFzt6esxN6yAPwDM1sAAAAGEbYAAAAMImwBAAAYRNgCAAAwiLAFAABgEGELAADAIMIWAACAQYQtAAAAgwhbAAAABhG2AAAADCJsAQAAGMS5EQHAx9yd+5HzPgLWwcwWAACAQV6Z2dq+fbu2bNmiyMhI2Ww2TZky5azbT506pXnz5ql9+/bKy8vThAkT1KVLF28MDQAA0Kh5PLNVUVGhmTNn6rHHHtPUqVN14MAB7dix46x11q1bp44dO2rixIkaN26cHn/8cU+HBQAA8Asez2zt2bNHnTp1UlBQkCQpJSVFW7du1YABA1zrbN26VQ8++KAkKTExUVlZWbLb7QoNDfV0eAAAcAGy7xv3n8tnLE9YtbahS2kyPA5bxcXFCgkJcV0PDQ1VcXHxea1TV9iKiGipwMCAC65n5EOb3C7fvOBF93f4Re1FTz+02e2qTy340wXX422bF4w+xy21l/+/0Te7Lp/5gfqg6zi3j9AY+ruQ1+9c/T216U13j+xhZd7hrr8W/d91u+4Gt324f3+OGPah23X7XN+wr6n796f796y7168xvzcv5LMnyTLfLbf930m1lk1b/43rcv2fPakxfP688d3i7v3ZWD57pr5bGsN7U/K8P19/9jwOW5GRkSovL3ddt9vtioyMvOB1fqqk5KSnpZ2lqKisztujolrVu059t/u7xtzfhdTWmPu4EGf2cT7vz/oew5/5cx9N6bvFH/swVXNjfi4u5LulMfdxLr7qLyqq1Tlv83ibrSuvvFKFhYVyOBySpIyMDKWmpqq0tFR2u12SlJqaqszMTEnSgQMHlJSUxE+IAACgSfB4ZqtFixaaNWuWZs+erYiICCUmJmrAgAGaP3++wsPDNWHCBN19992aN2+eli1bpsOHD2vOnDneqB0AAKDR88qhHwYNGqRBgwadtWz69Omuy82bN9fMmTO9MRQAAIBf4aCmAAAABhG2AAAADCJsAQAAGETYAgAAMMgrG8gDOD9rZqTVWvbbdPcH5gMAWAMzWwAAAAYRtgAAAAwibAEAABhE2AIAADCIsAUAAGAQYQsAAMAgDv3QBE2akerrEgAAaDKY2QIAADCIsAUAAGAQYQsAAMAgwhYAAIBBhC0AAACD2BvRDfbWA8xLWLXWdTkqqpWKisr0wdytPqsHAExhZgsAAMAgwhYAAIBBhC0AAACDCFsAAAAGEbYAAAAMYm9EAGgg7OkMNE3MbAEAABhE2AIAADCIsAUAAGAQYQsAAMAgwhYAAIBBhC0AAACDCFsAAAAGEbYAAAAMImwBAAAYxBHkAT/j7ijkhzM/bPhCAADnhZktAAAAg5jZQqOyZkaar0sAYEF8t8CXPApbpaWlWrBggWJiYpSXl6cHH3xQbdu2rbVeWlqaLr30UklSu3bttGDBAk+GBQAA8Bseha2FCxdqwIABuvHGG5Wenq558+bpT3/6U631xo4dq6lTp3oyFAAAgF/yaJutbdu2KTk5WZKUkpKibdu2uV1v165deumll7Ro0SJlZGR4MiQAAIBfqXdma/z48fr2229rLb///vtVXFyskJAQSVJoaKhOnDihqqoqBQae/bAPP/ywevfurYqKCo0dO1YrVqxQXFxcneNGRLRUYGDAhfRSp6ioVl5Zx59kn2O5Vfq0en8/7aOuvg6f52M0ZnXV6k99uOPv9Z8vq/R5ru+WC9GYn4sL+W5pzH2cS2Psr96wtXr16nPeFhkZqfLycrVu3Vp2u11hYWG1gpYk9e7dW5LUokULde/eXRkZGfWGrZKSk/WVdkGKisrqvD0qqlW961iF1fu0Sn9n9nGx709/eS7q689f+nCH75amqTE/Fxfy3dKY+zgXX/VXV3DzaJutoUOHKjMzUx07dlRGRoaGDh0qSaqpqdGxY8fUqVMn7dixQ5WVlRoyZIgkKT8/XzExMZ4MC1jKC2nzfV0CAMAgj8LWgw8+qGeffVZ5eXkqKCjQI488Ikk6cOCApk+frs2bN6tNmzZaunSp9u3bp2+++UbDhg1T3759vVI8AABAY+dR2AoPD9fs2bNrLe/evbs2b94sSUpMTNTzzz/vyTAAAKAO7o4j9tv0d31QCdzhCPIAAAAGEbYAAAAM4nQ98FsJq9a6LjelPb4AAP6FmS0AAACDCFsAAAAG8TMiAADQpBmpvi7BspjZAgAAMIiwBQAAYBBhCwAAwCC22QIAwII472rjwcwWAACAQYQtAAAAgwhbAAAABhG2AAAADCJsAQAAGETYAgAAMIiwBQAAYBDH2QIAXJCEVWtdl6OiWqmoqMx3xQB+gJktAAAAgwhbAAAABhG2AAAADCJsAQAAGETYAgAAMIiwBQAAYBBhCwAAwCCOswWg0Zg0I9XXJQCA1zGzBQAAYBBhCwAAwCDCFgAAgEGELQAAAIMIWwAAAAYRtgAAAAwibAEAABhE2AIAADCIsAUAAGAQYQsAAMAgj07XU1NTow0bNmjx4sVat26dEhIS3K63adMm7d+/X82aNVNsbKxuv/12T4YFAADwGx6FraysLF1xxRVq0aLFOdc5duyY1qxZo40bN8pms+nmm2/W1Vdfrc6dO3syNAAAaMJeSJvv6xLOm0dhq0ePHvWu89FHH6lnz56y2WySpOTkZH344YeELQAA0CTUG7bGjx+vb7/9ttby+++/X9dee229A3z33XcKCQlxXQ8JCVFxcXG994uIaKnAwIB61ztfUVGtvLKOP8k+x3Kr9XmaVfs6ra7+Dl/EfRobf6r1Qlmtt5/2Y7X+zvXdeSH86Tnxp1rPdL5117VeQ/Veb9havXq1RwO0adNG+fn5ruvl5eWKjY2t934lJSc9GveniorK6rw9KqpVvetYhRX7tPrrd7H9+ctzYuXXz4q9ndmPFfvzBn95Tvz59Tufuuvrz5u91xXcjOyNWFNTo8LCQknSNddcoy+//FJOp1OSlJmZqSFDhpgYFgAAoNHxKGydOHFCy5YtU1lZmTZs2KA9e/ZIkg4cOKCJEydKkjp06KB7771Xf/zjHzV37lzdeuutbK8FAACaDI82kA8LC9PkyZM1efLks5Z3795dmzdvdl0fPXq0Ro8e7clQAAAAfomDmgIAABjk0cwWGreEVWtdl/15I0hYy71z0736eGtmpHn18QDA2whbACxt374vtGzZElVVValfv6skSQ6HQw6HQ599tkcrV65VQMD5H2bmnXc265prUtWqlX/uLg+g4RG2AFhajx69lJzcRxUVFRo//scdd06dOqXduz/R/fc/6Drg8vl6553NSk7uQ9gCcN4IWwCalKqqKi1fvlR9+vTVrbeO0vPPr1Bx8bd69tm5SkxMUmhoK7333jv6y182aOnS59S5cxcVFh7V8OE36dSpH3Ts2NfasOE1xcXFacyYW3zdDgA/QNgCLCA2+Slfl9DoZWTs1uLFC+R0OmWz2TR48FC9/vqrkqRevXrrmmuG6tSpHzR58jTdcMNNysz8VGVl3+uWW26Xw3FKJ06cUGxsnDp06KjbbvulOnbs5OOOAPgLwhaAJiElpa+mTHlATqdTBQXuT3AUF9dFktS1azd17txFx44V6sEHpyg8PEJTp/6uIcsFYCEc+gFAk2Kz2RQbG3fO207Lzc3Rz342XC++uFp9+/bXhg3rJUkBAQFyOp06eDBH1dXVDVIzAP/GzBaABuXuUA0mD02SlbVPe/dmqrKyUunp/1Ra2nWSpO3b/63jx49p48Y3NWLEKO3dm6nc3Bxddlm8kpJ6qKKiQhs2vKDOnbvoyJECjR79c0nSVVcN0CuvrJXD4dATT/y3kZoBWAthC4ClJSX10JIly2stHzhwsAYOHOy6/tN1rrgiWVdckVzrfnfccbf3iwRgafyMCAAAYBBhCwAAwCDCFgAAgEGELQAAAIMIWwAAAAaxNyKABvXb9OlefbwX0uZ79fGAC8HZG3A+CFsAmoSNG/+qnJyvFBHRRoWFR9W2bZQmTZraYOPv3btHixf/SVOm/E4pKX0bbFwAvkfYAmB55eV2rVq1XJs3vy+bzaaqqio991zDzohdccWVio/v1qBjAmgcCFsALO+SS4LkdDr1+uuv6oYbblJ4eLh+//vHVFVVpSVLFigioo3sdru6dUvQ8OEjVF1draVLFyksLEwOh0Pff/+9Hn54hvLyDun1119RTEys8vPzdMcdd6tNm0jNmvW4AgKaKT6+m7788nP97GfDNWrUWEnS7NmzVVZ2Up06XapvvvnGx88EAF8gbAGwvKCgID3//Eq9+upa3XXXWsXExOmee8br2LGvVVlZpV//+jdyOp26885bdNVVA7Rt279UWVmpcePukyS99dZGSdIzzzyt3/3u90pK6qEvv/xCc+f+QcuXr9Fdd92jFSte0H/91xSVlJRo2rT/0qhRY7V9+7+Vl5enZ555TpL00UfbfPQMAPAlwhaAJuGyy+L15JN/UHV1tbZt+5eeeGK6hg8foeLib/WXv6x1rVNcXKyDB3MUHR3tuu9NN42RJB08+JU6dbpUkhQdHa2cnGzXOjExsZKkiIgInTx5UpJ06NBBde7c2bXO6fsCaFo49AMAy/v660I988zTkqSAgAANGZKqSy4JUocOHRUTE6Nf/WqcfvWrcfrZz25Qx44d1bVrNx09etR1/40b/ypJ6to1QUePHpEkFRQUqFu3BNc6Nput1ridO1+mQ4cOua4XFh6ttQ4A62NmC0CDcneohqioVioqKjM2ZkhIqL7//oSWLFmgkJBQff11oSZNmqoRI0Zp2bIlWr16haqqqhQcHKyhQ/+PbrpptJYuXaTVq1eourpal10WL0maMeNJrV//Z+3a9bEOH87XI488KYfDoffee0cHD36lrKx9ys09KLvdrq1bP9DQoWnau3eX5s79g9q1ay/Jqffee0dJSd3VsmWIsX4BNC6ELQCW17p1az3zzAK3t02d+rtaywICAjRt2kO1lnfu3EWPPTaz1vJHH/3PsZaSknroxhtHuq7PnDnTFSTvvXfCBdcOwP/xMyIAAIBBhC0AAACD+BkRAIDzMGlGqq9LgJ9iZgsAAMAgwhYAAIBB/IwIoEFl3zeu9jIPHi9h1VoP7g0A5hG2AFja5Mn3qUePXvr++xPati1dI0f+eM7Cd999W82bN9df/7q51n3++Mf/1i23/EIJCUl1PvbJk+VavHiBampq9Pjjs0yUD8ACCFsALG3EiFEaMWKUcnNzlJGxW1OmPCBJ6tLlMr388ktu7/Poo0+5PSL8T7VsGaJhw27U//zPW16tGYC1ELYAWNqIEaPOuXz16hVav/7Pysrar+bNm+uxx2YqJ+crLVr0J91440gNHjxUs2Y9Lsmprl0T9PHHOzR+/EQFBwfr739/Qz17Xq6ysu8btiEAfoewBaDJKi0t1ZgxN6tlyxD96le36cSJUnXt2k3JyX0k/Xjk+bvuukcvvrhEkyffr1/84g7V1NRo/Phf6eWXX1VkZFtt3rxRJSUlPu4EQGNG2ALQZEVERLjOURgWFq6TJ08qLCy81npxcV0kSZGRbVVS8p1++OEHRUa2lSR16nSpPvtsT8MV3cDcncsSwIXh0A8Amqzz2S7rp+uFhYUrODhY3377rSSpsPCokdoAWIdHM1s1NTXasGGDFi9erHXr1ikhIcHtemlpabr00kslSe3atdOCBe5PCAvA+twdqiEqqpXrZM0mnDr1g/7xj7/Lbrfrrbc26aabRmvz5o2y2+3auvUDtW4dpuPHj+ntt/+htLTrtHdvpnJzc5SS0lfvvfeODh78Slu3fqDU1GvVrFkzPfbYTM2b9wclJfXQd98V6+DBr7R37x5dccWVxnoA4L88CltZWVm64oor1KJFizrXGzt2rKZOnerJUABw0YKDm+uBB36vBx74vWvZyJFjNHLkGNf1N974h+vykiXLXZcfffSpWo83YMAgDRgwyFC1AKzGo7DVo0eP81pv165deumll1ReXq4hQ4YoJSXFk2EBAAD8Rr1ha/z48a5tE850//3369prrz2vQR5++GH17t1bFRUVGjt2rFasWKG4uLg67xMR0VKBgQHn9fjnIyqqlVfW8Wf059/oz39ZuTfJev2d64wGVuvzNH/t63zrrmu9huq93rC1evVqjwfp3bu3JKlFixbq3r27MjIy6g1bJSUnPR73TPVtD2J6mxFfoz//Rn/+y8q9Sdbv70xW7NOfX7/zqbu+/rzZe13BzcjeiDU1NSosLJQk7dixQx9++KHrtvz8fMXExJgYFgAAoNHxKGydOHFCy5YtU1lZmTZs2KA9e3481syBAwc0ceJESVKbNm30xhtvaPny5Xr66ac1bNgw9e3b1/PKAQAA/IBHG8iHhYVp8uTJmjx58lnLu3fvrs2bfzy5a2Jiop5//nlPhgFgIS/O3erVx5s0I9WrjwcA3sYR5AFY2r59X2jZsiWqqqpSv35XSZIcDoccDoemTXvI48ffsGG9brvtDknSli3/o4UL5+vdd//l8eMCsA7CFgBL69Gjl5KT+6iiokLjx/+4ecOpU6e0e/cnXnn8DRtec4Wt66+/QStXLvPK4wKwDsIWgCalqqpKy5cv1ejRP9fcuX9QTEys8vPzdMcdd6tVq1Z69tln1LVrgsaPn6gVK17Q55/v1dKlK/X22//QihUvaMyYm1VU9I1ycrJ1001jZLeXafXqFerZ83JdffVASdLGjW9q374vVFLynVavfsnHHQPwNc6NCKBJyMjYrcWLF2jp0kWSpGeeeVpjxtysO++8R6NH36y5c/+gyMi2uuaaVNd9Ro0a67o8YsQoxcbGqXv3HnrkkSf00EMzNHr0zxUa2krjx090BS1J6tOnnx57bKZsNpv279/fYD0CaJyY2QLQJKSk9NWUKQ/I6XSqoOCwNm/+uzp1+vGcrdHR0crJOdehLM8WF9dFkpSUdO4zaERH/3h4m7CwcJWXl3tYOQB/R9gC0KTYbDbFxsapa9cEHT16RK1bh6mgoEDduiVIklq2bKmTJ38MSMePH3N7/7Ov//gDQXZ2lhISktyuA8C3fL3XMmELQINy96Vn8ijWWVn7tHdvpiorK5We/k+lpV0nSZox40mtX/9n7dr1sQ4fztcjjzwpSerb9ypt3rxJr7yyVkFBQTp+/Jh27Ph/CgwM0PHjx/Tmmxt05533KCIiQpKUmJik5cuXKjg4WEeOHJHdbtdbb21St26JOnjwK23atElTpyYoMJCvW6CpsjmdTqevi3DnYr94752b7nb5mhlpdd7Pn09ZcD7oz7/Rn/+ycm+SNfvLvm+c2+UJq9Y2aB0NwV9eP3d/2+v7uy41bH8NfroeAAAA/IiwBQAAYBBhCwAAwCC22AQA4AxnbpvlL9s0oXFjZgsAAMAgZrYANKjDmU/XXubB48UmP+XBvQHAPMIWAEvbt+8LLVu2RFVVVerX7ypJksPhkMPh0Gef7dHKlWsVEBCg3NwcvfLKOsXExCowMFDBwcGuE0xv3/5vPffcfC1ZslwdO3byZTsA/BBhC4Cl9ejRS8nJfVRRUaHx4ydKkk6dOqXduz/R/fc/6Dra+0cfbVNKSl/ddNNoVVVV6fbbx7rC1sCBg+/rC50AAAlnSURBVLV+/Z991gPQ1J3PMbUaM8IWgCalqqpKy5cvVZ8+fXXrraP0/PMrVF5erl27PlarVq3kcDgUFhYuu71Mq1evUFxcZ1133TBJUnr6+yosPKr8/DzNm7dQISGhPu4GgD+wXNjy9/QLwIyMjN1avHiBnE6nbDabBg8eqtdff1WS1LVrNyUn91HHjp10440jJUkvvrjENRN2WkJCou688x4tXDhPu3Z9rNTUaxu8DwD+x3JhCwDcSUnpqylTHpDT6VRBwcVtkn/ppTGSpLCwcJ08edKb5QGwMA79AKBJsdlsio2Nq3e9Zs2ayel0Kjs766z7AsCFYmYLQINyd6gGkweOzMrap717M1VZWan09H8qLe06ST/uYXj8+DFt3Pimhg27QXv3Zio3N0cdOnRUSkpfDRw4WEuXLlJNTY1OnCjV8ePH9Pbb/9ANN9zkWnfAgMGKiIgwUjcA67A5nU6nr4twp6GP2Gv1owTTn3+jP/9l5d4k+vN39Ofdsc6FnxEBAAAMImwBAAAYRNgCAAAwiLAFAABgEGELAADAIMIWAACAQYQtAAAAgwhbAAAABhG2AAAADGq0R5AHAACwAma2AAAADCJsAQAAGETYAgAAMIiwBQAAYBBhCwAAwCDCFgAAgEGELQAAAIMIW00Eh1MDYEp1dbWvSzCqrKzM1yUYZ/W/Eb7uL9CnozcCDodD27dvV1FRkRwOh+68805fl+RV33zzjXJycjRw4EA5nU7ZbDZfl+Q13377rQoKCpSRkaGQkBDdfvvtvi7Jq7755hsdOXJEn3/+uQoKCvTAAw8oNDTU12V5TWVlpZ588kklJibq17/+ta/L8bqjR49q165d2rFjh3744QctXrzY1yV5TXV1tT755BPl5eVpx44dmjJlihISEnxdltec/l7ZtWuXvvrqK/Xr108PP/ywr8vyGrvdrk8//VRHjhzRoUOHLPfdYrfbtXfvXhUUFKi8vFzjxo1TQECAT2tq8jNb//rXv5STk6OUlBTt2bNHr732mux2u6/L8oqysjItXbpUjzzyiEpLSy0VtI4fP645c+boyJEjGjRokDZu3Ki33nrL12V51aOPPuoKyidOnND69etVU1Pj67K8Jjs7W0ePHlVubq5KS0t9XY7XPfTQQzp48KB++ctfas6cOb4ux6v279+vkpISpaWlafr06erUqZOvS/Ka48eP6ze/+Y0+//xzDR8+XEOHDtXQoUN9XZZXrV69WtnZ2erfv79KSkr02muv6dSpU74uy2vWrVunQ4cOqV+/fsrKytKaNWv0/fff+7SmJh+2XnnlFXXt2lXx8fEaNWqUvvzyS+3evdvXZXnFkSNHNHr0aF1++eX69NNPJfl+KtWbxo4dq2HDhikpKUk9evRQTk6Or0vyqlGjRmn48OHq1q2bOnbsKIfDoWbN/P8je/o9mJGRoT59+shmsyk/P1+SLBUmR40apYEDB+rkyZP697//rdzcXF+X5DWvvfaanE6n8vPztW3bNkv1FhERoQULFuiJJ57Q4MGD5XQ6VVRU5OuyvGrLli3q0qWLunXrpssuu0ySFBwcbIm/Dw6HQzt37lRSUpLi4+N13XXXKTMzU59//rlP6/L/b24PVFdXq3v37vrqq68kSQkJCQoLC9MXX3zh48q8IzExUb169VJ0dLR27twpyTphq127dhoyZIiCgoIkSbGxsYqLi/NxVd41evRotW7dWu+//77279+v+Ph4ORwOX5flMZvNpgMHDigyMlK33XabbDabvvjiCxUXF1siTJ7Wvn17paenKzIyUjU1NZo9e7YOHjzo67I8VlNTo06dOmnLli1q3769YmJitGbNGm3atMnXpXlFUFCQevbsKUkqLy9XRESEoqOjfVyVd40cOVJbtmzRypUrlZ+fr5qaGhUVFVni14/KykrFx8dr+/btkqQOHTqooKBABw4c8Gld1vlmuwg2m00dOnRw/a8sIiJCrVu3dv0B93fNmjXTJZdcol69emn//v2uZVZw5pdCTk6O8vLyNHbsWJWXl/uwKu+rqalRTEyMHnroIX3wwQdavny5r0vyiu+++065ubnKzs5Wfn6+tmzZooyMDF+X5VWDBw/WpEmTlJiYqOuvv15JSUl6//33fV2Wx05/9nJychQXF6fBgwerX79+2rlzp2X+M3das2bNtHPnTvXu3dvXpXjVuHHjFB8fr7Zt22rixIn67rvvtHDhQku8fiEhIbr++uu1d+9evfvuu/riiy/Ur18/hYSE+LQua/zlvUjNmjVTv379dODAAZ04cUJBQUE6evSoa1rVCpo1a6aePXuqurpaJSUlvi7HiH379mnixIkqKytTenq6KisrfV2S1zgcDiUlJSkpKUl9+vRRZWWlJfb8ys3NVYcOHdSmTRulpqYqJiZGcXFxlviyPy04OFjBwcGSpMDAQFVUVCgyMtLHVXnOZrNp4MCBCg4Olt1uV7NmzVRZWamuXbuqqqrK1+V51SWXXKL27duruLjY16V4VVFRkd544w39/Oc/V3x8vLp3766oqCjL/Gd14MCBmjNnjtq1a6c777xTAQEBPt+Bo8nvjXj55ZcrJSVFa9asUXh4uEJDQ9WlSxdfl+VVVVVVKi0t1fTp0zVt2jT16tXL1yV5zQcffKDVq1frww8/1MGDBzVkyBBVVVXpkksu8XVpHisrK9OWLVtUUVGh0NBQ7d69WyNHjvT5XjXecMcdd7hmSN59913t3btXW7ZsUZs2bdS2bVsfV+cd5eXleuONN1RdXa3w8HCdOnXK9fOUv0tOTlbv3r21atUqtWvXTrm5uRo1apQlPndneu+99xQdHa3IyEhL7c3dvHlzXXnllXruuecUExOj3bt3a9iwYZbaI7GgoECHDh1SYWGhoqOjfb6Zic1ppf9KXiSHw6GcnBxVV1erR48eCggIsMwHy+Fw6J///Ke+/vprXXnllUpJSbFEX6etWrVKBQUFuuWWW5SUlGS5L/sPPvhAX3/9tQYPHqyYmBhLBK0z2e12FRUVKSYmRoGB1vu/30cffaTDhw/r6quvVufOnS31+pWXlysnJ0dBQUFKSEiw1Pfmabm5uXI6nYqPj/d1KV6Xm5urzz77TD179tRll11mqfemJO3cudMVIuPj432+CQ1hCwAAwKAmvc0WAACAaYQtAAAAgwhbAAAABhG2AAAADCJsAQAAGETYAgAAMIiwBQAAYND/B3waQPOjlPYaAAAAAElFTkSuQmCC\n",
=======
      "image/png": "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\n",
>>>>>>> 1cec7587fa819aac109c52d92c370d3d5bcd5c05
      "text/plain": [
       "<Figure size 720x432 with 1 Axes>"
      ]
     },
     "metadata": {},
     "output_type": "display_data"
    }
   ],
   "source": [
    "df.columns = ['First', 'Second', 'Third', 'Fourth', 'Fifth']\n",
    "df.index = np.arange(10)\n",
    "\n",
    "display(df)\n",
    "print(df['Second'].mean() )\n",
    "print(df.info())\n",
    "print(df.describe())\n",
    "\n",
    "from pylab import plt, mpl\n",
    "plt.style.use('seaborn')\n",
    "mpl.rcParams['font.family'] = 'serif'\n",
    "\n",
    "df.cumsum().plot(lw=2.0, figsize=(10,6))\n",
    "plt.show()\n",
    "\n",
    "\n",
    "df.plot.bar(figsize=(10,6), rot=15)\n",
    "plt.show()"
   ]
  },
  {
   "cell_type": "markdown",
   "metadata": {},
   "source": [
    "We can produce a $4\\times 4$ matrix"
   ]
  },
  {
   "cell_type": "code",
<<<<<<< HEAD
   "execution_count": 23,
   "metadata": {},
   "outputs": [],
=======
   "execution_count": 72,
   "metadata": {},
   "outputs": [
    {
     "name": "stdout",
     "output_type": "stream",
     "text": [
      "[[ 0  1  2  3]\n",
      " [ 4  5  6  7]\n",
      " [ 8  9 10 11]\n",
      " [12 13 14 15]]\n",
      "    0   1   2   3\n",
      "0   0   1   2   3\n",
      "1   4   5   6   7\n",
      "2   8   9  10  11\n",
      "3  12  13  14  15\n"
     ]
    }
   ],
>>>>>>> 1cec7587fa819aac109c52d92c370d3d5bcd5c05
   "source": [
    "b = np.arange(16).reshape((4,4))\n",
    "print(b)\n",
    "df1 = pd.DataFrame(b)\n",
    "print(df1)"
   ]
  },
  {
   "cell_type": "markdown",
   "metadata": {},
   "source": [
    "and many other operations. \n",
    "\n",
    "The **Series** class is another important class included in\n",
    "**pandas**. You can view it as a specialization of **DataFrame** but where\n",
    "we have just a single column of data. It shares many of the same features as _DataFrame. As with **DataFrame**,\n",
    "most operations are vectorized, achieving thereby a high performance when dealing with computations of arrays, in particular labeled arrays.\n",
    "As we will see below it leads also to a very concice code close to the mathematical operations we may be interested in.\n",
    "For multidimensional arrays, we recommend strongly [xarray](http://xarray.pydata.org/en/stable/). **xarray** has much of the same flexibility as **pandas**, but allows for the extension to higher dimensions than two. We will see examples later of the usage of both **pandas** and **xarray**. \n",
    "\n",
    "\n",
    "\n",
    "## Reading Data and fitting\n",
    "\n",
    "In order to study various Machine Learning algorithms, we need to\n",
    "access data. Acccessing data is an essential step in all machine\n",
    "learning algorithms. In particular, setting up the so-called **design\n",
    "matrix** (to be defined below) is often the first element we need in\n",
    "order to perform our calculations. To set up the design matrix means\n",
    "reading (and later, when the calculations are done, writing) data\n",
    "in various formats, The formats span from reading files from disk,\n",
    "loading data from databases and interacting with online sources\n",
    "like web application programming interfaces (APIs).\n",
    "\n",
    "In handling various input formats, as discussed above, we will mainly stay with **pandas**,\n",
    "a Python package which allows us, in a seamless and painless way, to\n",
    "deal with a multitude of formats, from standard **csv** (comma separated\n",
    "values) files, via **excel**, **html** to **hdf5** formats.  With **pandas**\n",
    "and the **DataFrame**  and **Series** functionalities we are able to convert text data\n",
    "into the calculational formats we need for a specific algorithm. And our code is going to be \n",
    "pretty close the basic mathematical expressions.\n",
    "\n",
    "Our first data set is going to be a classic from nuclear physics, namely all\n",
    "available data on binding energies. Don't be intimidated if you are not familiar with nuclear physics. It serves simply as an example here of a data set. \n",
    "\n",
    "We will show some of the\n",
    "strengths of packages like **Scikit-Learn** in fitting nuclear binding energies to\n",
    "specific functions using linear regression first. Then, as a teaser, we will show you how \n",
    "you can easily implement other algorithms like decision trees and random forests and neural networks.\n",
    "\n",
    "But before we really start with nuclear physics data, let's just look at some simpler polynomial fitting cases, such as,\n",
    "(don't be offended) fitting straight lines!\n",
    "\n",
    "\n",
    "### Simple linear regression model using **scikit-learn**\n",
    "\n",
    "We start with perhaps our simplest possible example, using **Scikit-Learn** to perform linear regression analysis on a data set produced by us. \n",
    "\n",
    "What follows is a simple Python code where we have defined a function\n",
    "$y$ in terms of the variable $x$. Both are defined as vectors with  $100$ entries. \n",
    "The numbers in the vector $\\hat{x}$ are given\n",
    "by random numbers generated with a uniform distribution with entries\n",
    "$x_i \\in [0,1]$ (more about probability distribution functions\n",
    "later). These values are then used to define a function $y(x)$\n",
    "(tabulated again as a vector) with a linear dependence on $x$ plus a\n",
    "random noise added via the normal distribution.\n",
    "\n",
    "\n",
    "The Numpy functions are imported used the **import numpy as np**\n",
    "statement and the random number generator for the uniform distribution\n",
    "is called using the function **np.random.rand()**, where we specificy\n",
    "that we want $100$ random variables.  Using Numpy we define\n",
    "automatically an array with the specified number of elements, $100$ in\n",
    "our case.  With the Numpy function **randn()** we can compute random\n",
    "numbers with the normal distribution (mean value $\\mu$ equal to zero and\n",
    "variance $\\sigma^2$ set to one) and produce the values of $y$ assuming a linear\n",
    "dependence as function of $x$"
   ]
  },
  {
   "cell_type": "markdown",
   "metadata": {},
   "source": [
    "$$\n",
    "y = 2x+N(0,1),\n",
    "$$"
   ]
  },
  {
   "cell_type": "markdown",
   "metadata": {},
   "source": [
    "where $N(0,1)$ represents random numbers generated by the normal\n",
    "distribution.  From **Scikit-Learn** we import then the\n",
    "**LinearRegression** functionality and make a prediction $\\tilde{y} =\n",
    "\\alpha + \\beta x$ using the function **fit(x,y)**. We call the set of\n",
    "data $(\\hat{x},\\hat{y})$ for our training data. The Python package\n",
    "**scikit-learn** has also a functionality which extracts the above\n",
    "fitting parameters $\\alpha$ and $\\beta$ (see below). Later we will\n",
    "distinguish between training data and test data.\n",
    "\n",
    "For plotting we use the Python package\n",
    "[matplotlib](https://matplotlib.org/) which produces publication\n",
    "quality figures. Feel free to explore the extensive\n",
    "[gallery](https://matplotlib.org/gallery/index.html) of examples. In\n",
    "this example we plot our original values of $x$ and $y$ as well as the\n",
    "prediction **ypredict** ($\\tilde{y}$), which attempts at fitting our\n",
    "data with a straight line.\n",
    "\n",
    "The Python code follows here."
   ]
  },
  {
   "cell_type": "code",
<<<<<<< HEAD
   "execution_count": 24,
   "metadata": {},
   "outputs": [],
=======
   "execution_count": 73,
   "metadata": {},
   "outputs": [
    {
     "data": {
      "image/png": "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\n",
      "text/plain": [
       "<Figure size 576x396 with 1 Axes>"
      ]
     },
     "metadata": {},
     "output_type": "display_data"
    }
   ],
>>>>>>> 1cec7587fa819aac109c52d92c370d3d5bcd5c05
   "source": [
    "# Importing various packages\n",
    "import numpy as np\n",
    "import matplotlib.pyplot as plt\n",
    "from sklearn.linear_model import LinearRegression\n",
    "\n",
    "x = np.random.rand(100,1)\n",
<<<<<<< HEAD
    "y = 2*x+np.random.randn(100,1)\n",
=======
    "y = 2*x+0.01*np.random.randn(100,1)\n",
>>>>>>> 1cec7587fa819aac109c52d92c370d3d5bcd5c05
    "linreg = LinearRegression()\n",
    "linreg.fit(x,y)\n",
    "xnew = np.array([[0],[1]])\n",
    "ypredict = linreg.predict(xnew)\n",
    "\n",
    "plt.plot(xnew, ypredict, \"r-\")\n",
    "plt.plot(x, y ,'ro')\n",
    "plt.axis([0,1.0,0, 5.0])\n",
    "plt.xlabel(r'$x$')\n",
    "plt.ylabel(r'$y$')\n",
    "plt.title(r'Simple Linear Regression')\n",
    "plt.show()"
   ]
  },
  {
   "cell_type": "markdown",
   "metadata": {},
   "source": [
    "This example serves several aims. It allows us to demonstrate several\n",
    "aspects of data analysis and later machine learning algorithms. The\n",
    "immediate visualization shows that our linear fit is not\n",
    "impressive. It goes through the data points, but there are many\n",
    "outliers which are not reproduced by our linear regression.  We could\n",
    "now play around with this small program and change for example the\n",
    "factor in front of $x$ and the normal distribution.  Try to change the\n",
    "function $y$ to"
   ]
  },
  {
   "cell_type": "markdown",
   "metadata": {},
   "source": [
    "$$\n",
    "y = 10x+0.01 \\times N(0,1),\n",
    "$$"
   ]
  },
  {
   "cell_type": "markdown",
   "metadata": {},
   "source": [
    "where $x$ is defined as before.  Does the fit look better? Indeed, by\n",
    "reducing the role of the noise given by the normal distribution we see immediately that\n",
    "our linear prediction seemingly reproduces better the training\n",
    "set. However, this testing 'by the eye' is obviouly not satisfactory in the\n",
    "long run. Here we have only defined the training data and our model, and \n",
    "have not discussed a more rigorous approach to the **cost** function.\n",
    "\n",
    "We need more rigorous criteria in defining whether we have succeeded or\n",
    "not in modeling our training data.  You will be surprised to see that\n",
    "many scientists seldomly venture beyond this 'by the eye' approach. A\n",
    "standard approach for the *cost* function is the so-called $\\chi^2$\n",
    "function (a variant of the mean-squared error (MSE))"
   ]
  },
  {
   "cell_type": "markdown",
   "metadata": {},
   "source": [
    "$$\n",
    "\\chi^2 = \\frac{1}{n}\n",
    "\\sum_{i=0}^{n-1}\\frac{(y_i-\\tilde{y}_i)^2}{\\sigma_i^2},\n",
    "$$"
   ]
  },
  {
   "cell_type": "markdown",
   "metadata": {},
   "source": [
    "where $\\sigma_i^2$ is the variance (to be defined later) of the entry\n",
    "$y_i$.  We may not know the explicit value of $\\sigma_i^2$, it serves\n",
    "however the aim of scaling the equations and make the cost function\n",
    "dimensionless.  \n",
    "\n",
    "Minimizing the cost function is a central aspect of\n",
    "our discussions to come. Finding its minima as function of the model\n",
    "parameters ($\\alpha$ and $\\beta$ in our case) will be a recurring\n",
    "theme in these series of lectures. Essentially all machine learning\n",
    "algorithms we will discuss center around the minimization of the\n",
    "chosen cost function. This depends in turn on our specific\n",
    "model for describing the data, a typical situation in supervised\n",
    "learning. Automatizing the search for the minima of the cost function is a\n",
    "central ingredient in all algorithms. Typical methods which are\n",
    "employed are various variants of **gradient** methods. These will be\n",
    "discussed in more detail later. Again, you'll be surprised to hear that\n",
    "many practitioners minimize the above function ''by the eye', popularly dubbed as \n",
    "'chi by the eye'. That is, change a parameter and see (visually and numerically) that \n",
    "the  $\\chi^2$ function becomes smaller. \n",
    "\n",
    "There are many ways to define the cost function. A simpler approach is to look at the relative difference between the training data and the predicted data, that is we define \n",
    "the relative error (why would we prefer the MSE instead of the relative error?) as"
   ]
  },
  {
   "cell_type": "markdown",
   "metadata": {},
   "source": [
    "$$\n",
    "\\epsilon_{\\mathrm{relative}}= \\frac{\\vert \\hat{y} -\\hat{\\tilde{y}}\\vert}{\\vert \\hat{y}\\vert}.\n",
    "$$"
   ]
  },
  {
   "cell_type": "markdown",
   "metadata": {},
   "source": [
    "The squared cost function results in an arithmetic mean-unbiased\n",
    "estimator, and the absolute-value cost function results in a\n",
    "median-unbiased estimator (in the one-dimensional case, and a\n",
    "geometric median-unbiased estimator for the multi-dimensional\n",
    "case). The squared cost function has the disadvantage that it has the tendency\n",
    "to be dominated by outliers.\n",
    "\n",
    "We can modify easily the above Python code and plot the relative error instead"
   ]
  },
  {
   "cell_type": "code",
<<<<<<< HEAD
   "execution_count": 25,
   "metadata": {},
   "outputs": [],
=======
   "execution_count": 74,
   "metadata": {},
   "outputs": [
    {
     "data": {
      "image/png": "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\n",
      "text/plain": [
       "<Figure size 576x396 with 1 Axes>"
      ]
     },
     "metadata": {},
     "output_type": "display_data"
    }
   ],
>>>>>>> 1cec7587fa819aac109c52d92c370d3d5bcd5c05
   "source": [
    "import numpy as np\n",
    "import matplotlib.pyplot as plt\n",
    "from sklearn.linear_model import LinearRegression\n",
    "\n",
    "x = np.random.rand(100,1)\n",
<<<<<<< HEAD
    "y = 5*x+0.01*np.random.randn(100,1)\n",
=======
    "y = 5*x+np.random.randn(100,1)\n",
>>>>>>> 1cec7587fa819aac109c52d92c370d3d5bcd5c05
    "linreg = LinearRegression()\n",
    "linreg.fit(x,y)\n",
    "ypredict = linreg.predict(x)\n",
    "\n",
    "plt.plot(x, np.abs(ypredict-y)/abs(y), \"ro\")\n",
    "plt.axis([0,1.0,0.0, 0.5])\n",
    "plt.xlabel(r'$x$')\n",
    "plt.ylabel(r'$\\epsilon_{\\mathrm{relative}}$')\n",
    "plt.title(r'Relative error')\n",
    "plt.show()"
   ]
  },
  {
   "cell_type": "markdown",
   "metadata": {},
   "source": [
    "Depending on the parameter in front of the normal distribution, we may\n",
    "have a small or larger relative error. Try to play around with\n",
    "different training data sets and study (graphically) the value of the\n",
    "relative error.\n",
    "\n",
    "As mentioned above, **Scikit-Learn** has an impressive functionality.\n",
    "We can for example extract the values of $\\alpha$ and $\\beta$ and\n",
    "their error estimates, or the variance and standard deviation and many\n",
    "other properties from the statistical data analysis. \n",
    "\n",
    "Here we show an\n",
    "example of the functionality of **Scikit-Learn**."
   ]
  },
  {
   "cell_type": "code",
<<<<<<< HEAD
   "execution_count": 26,
   "metadata": {},
   "outputs": [],
=======
   "execution_count": 75,
   "metadata": {},
   "outputs": [
    {
     "name": "stdout",
     "output_type": "stream",
     "text": [
      "The intercept alpha: \n",
      " [2.00375616]\n",
      "Coefficient beta : \n",
      " [[4.99444564]]\n",
      "Mean squared error: 0.00\n",
      "Variance score: 1.00\n",
      "Mean squared log error: 0.00\n",
      "Mean absolute error: 0.01\n"
     ]
    },
    {
     "data": {
      "image/png": "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\n",
      "text/plain": [
       "<Figure size 576x396 with 1 Axes>"
      ]
     },
     "metadata": {},
     "output_type": "display_data"
    }
   ],
>>>>>>> 1cec7587fa819aac109c52d92c370d3d5bcd5c05
   "source": [
    "import numpy as np \n",
    "import matplotlib.pyplot as plt \n",
    "from sklearn.linear_model import LinearRegression \n",
    "from sklearn.metrics import mean_squared_error, r2_score, mean_squared_log_error, mean_absolute_error\n",
    "\n",
    "x = np.random.rand(100,1)\n",
<<<<<<< HEAD
    "y = 2.0+ 5*x+0.5*np.random.randn(100,1)\n",
=======
    "y = 2.0+ 5*x+0.01*np.random.randn(100,1)\n",
>>>>>>> 1cec7587fa819aac109c52d92c370d3d5bcd5c05
    "linreg = LinearRegression()\n",
    "linreg.fit(x,y)\n",
    "ypredict = linreg.predict(x)\n",
    "print('The intercept alpha: \\n', linreg.intercept_)\n",
    "print('Coefficient beta : \\n', linreg.coef_)\n",
    "# The mean squared error                               \n",
    "print(\"Mean squared error: %.2f\" % mean_squared_error(y, ypredict))\n",
    "# Explained variance score: 1 is perfect prediction                                 \n",
    "print('Variance score: %.2f' % r2_score(y, ypredict))\n",
    "# Mean squared log error                                                        \n",
    "print('Mean squared log error: %.2f' % mean_squared_log_error(y, ypredict) )\n",
    "# Mean absolute error                                                           \n",
    "print('Mean absolute error: %.2f' % mean_absolute_error(y, ypredict))\n",
    "plt.plot(x, ypredict, \"r-\")\n",
    "plt.plot(x, y ,'ro')\n",
    "plt.axis([0.0,1.0,1.5, 7.0])\n",
    "plt.xlabel(r'$x$')\n",
    "plt.ylabel(r'$y$')\n",
    "plt.title(r'Linear Regression fit ')\n",
    "plt.show()"
   ]
  },
  {
   "cell_type": "markdown",
   "metadata": {},
   "source": [
    "The function **coef** gives us the parameter $\\beta$ of our fit while **intercept** yields \n",
    "$\\alpha$. Depending on the constant in front of the normal distribution, we get values near or far from $alpha =2$ and $\\beta =5$. Try to play around with different parameters in front of the normal distribution. The function **meansquarederror** gives us the mean square error, a risk metric corresponding to the expected value of the squared (quadratic) error or loss defined as"
   ]
  },
  {
   "cell_type": "markdown",
   "metadata": {},
   "source": [
    "$$\n",
    "MSE(\\hat{y},\\hat{\\tilde{y}}) = \\frac{1}{n}\n",
    "\\sum_{i=0}^{n-1}(y_i-\\tilde{y}_i)^2,\n",
    "$$"
   ]
  },
  {
   "cell_type": "markdown",
   "metadata": {},
   "source": [
    "The smaller the value, the better the fit. Ideally we would like to\n",
    "have an MSE equal zero.  The attentive reader has probably recognized\n",
    "this function as being similar to the $\\chi^2$ function defined above.\n",
    "\n",
    "The **r2score** function computes $R^2$, the coefficient of\n",
    "determination. It provides a measure of how well future samples are\n",
    "likely to be predicted by the model. Best possible score is 1.0 and it\n",
    "can be negative (because the model can be arbitrarily worse). A\n",
    "constant model that always predicts the expected value of $\\hat{y}$,\n",
    "disregarding the input features, would get a $R^2$ score of $0.0$.\n",
    "\n",
    "If $\\tilde{\\hat{y}}_i$ is the predicted value of the $i-th$ sample and $y_i$ is the corresponding true value, then the score $R^2$ is defined as"
   ]
  },
  {
   "cell_type": "markdown",
   "metadata": {},
   "source": [
    "$$\n",
    "R^2(\\hat{y}, \\tilde{\\hat{y}}) = 1 - \\frac{\\sum_{i=0}^{n - 1} (y_i - \\tilde{y}_i)^2}{\\sum_{i=0}^{n - 1} (y_i - \\bar{y})^2},\n",
    "$$"
   ]
  },
  {
   "cell_type": "markdown",
   "metadata": {},
   "source": [
    "where we have defined the mean value  of $\\hat{y}$ as"
   ]
  },
  {
   "cell_type": "markdown",
   "metadata": {},
   "source": [
    "$$\n",
    "\\bar{y} =  \\frac{1}{n} \\sum_{i=0}^{n - 1} y_i.\n",
    "$$"
   ]
  },
  {
   "cell_type": "markdown",
   "metadata": {},
   "source": [
    "Another quantity taht we will meet again in our discussions of regression analysis is \n",
    " the mean absolute error (MAE), a risk metric corresponding to the expected value of the absolute error loss or what we call the $l1$-norm loss. In our discussion above we presented the relative error.\n",
    "The MAE is defined as follows"
   ]
  },
  {
   "cell_type": "markdown",
   "metadata": {},
   "source": [
    "$$\n",
    "\\text{MAE}(\\hat{y}, \\hat{\\tilde{y}}) = \\frac{1}{n} \\sum_{i=0}^{n-1} \\left| y_i - \\tilde{y}_i \\right|.\n",
    "$$"
   ]
  },
  {
   "cell_type": "markdown",
   "metadata": {},
   "source": [
    "We present the \n",
    "squared logarithmic (quadratic) error"
   ]
  },
  {
   "cell_type": "markdown",
   "metadata": {},
   "source": [
    "$$\n",
    "\\text{MSLE}(\\hat{y}, \\hat{\\tilde{y}}) = \\frac{1}{n} \\sum_{i=0}^{n - 1} (\\log_e (1 + y_i) - \\log_e (1 + \\tilde{y}_i) )^2,\n",
    "$$"
   ]
  },
  {
   "cell_type": "markdown",
   "metadata": {},
   "source": [
    "where $\\log_e (x)$ stands for the natural logarithm of $x$. This error\n",
    "estimate is best to use when targets having exponential growth, such\n",
    "as population counts, average sales of a commodity over a span of\n",
    "years etc. \n",
    "\n",
    "\n",
    "Finally, another cost function is the Huber cost function used in robust regression.\n",
    "\n",
    "The rationale behind this possible cost function is its reduced\n",
    "sensitivity to outliers in the data set. In our discussions on\n",
    "dimensionality reduction and normalization of data we will meet other\n",
    "ways of dealing with outliers.\n",
    "\n",
    "The Huber cost function is defined as"
   ]
  },
  {
   "cell_type": "markdown",
   "metadata": {},
   "source": [
    "$$\n",
    "H_{\\delta}(a)={\\begin{cases}{\\frac {1}{2}}{a^{2}}&{\\text{for }}|a|\\leq \\delta ,\\\\\\delta (|a|-{\\frac {1}{2}}\\delta ),&{\\text{otherwise.}}\\end{cases}}}.\n",
    "$$"
   ]
  },
  {
   "cell_type": "markdown",
   "metadata": {},
   "source": [
    "Here $a=\\boldsymbol{y} - \\boldsymbol{\\tilde{y}}$.\n",
    "We will discuss in more\n",
    "detail these and other functions in the various lectures.  We conclude this part with another example. Instead of \n",
    "a linear $x$-dependence we study now a cubic polynomial and use the polynomial regression analysis tools of scikit-learn."
   ]
  },
  {
   "cell_type": "code",
<<<<<<< HEAD
   "execution_count": 27,
   "metadata": {},
   "outputs": [],
=======
   "execution_count": 76,
   "metadata": {},
   "outputs": [
    {
     "data": {
      "image/png": "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\n",
      "text/plain": [
       "<Figure size 576x396 with 1 Axes>"
      ]
     },
     "metadata": {},
     "output_type": "display_data"
    },
    {
     "name": "stdout",
     "output_type": "stream",
     "text": [
      "0.005000000000000004\n"
     ]
    }
   ],
>>>>>>> 1cec7587fa819aac109c52d92c370d3d5bcd5c05
   "source": [
    "import matplotlib.pyplot as plt\n",
    "import numpy as np\n",
    "import random\n",
    "from sklearn.linear_model import Ridge\n",
    "from sklearn.preprocessing import PolynomialFeatures\n",
    "from sklearn.pipeline import make_pipeline\n",
    "from sklearn.linear_model import LinearRegression\n",
    "\n",
    "x=np.linspace(0.02,0.98,200)\n",
    "noise = np.asarray(random.sample((range(200)),200))\n",
    "y=x**3*noise\n",
    "yn=x**3*100\n",
    "poly3 = PolynomialFeatures(degree=3)\n",
    "X = poly3.fit_transform(x[:,np.newaxis])\n",
    "clf3 = LinearRegression()\n",
    "clf3.fit(X,y)\n",
    "\n",
    "Xplot=poly3.fit_transform(x[:,np.newaxis])\n",
    "poly3_plot=plt.plot(x, clf3.predict(Xplot), label='Cubic Fit')\n",
    "plt.plot(x,yn, color='red', label=\"True Cubic\")\n",
    "plt.scatter(x, y, label='Data', color='orange', s=15)\n",
    "plt.legend()\n",
    "plt.show()\n",
    "\n",
    "def error(a):\n",
    "    for i in y:\n",
    "        err=(y-yn)/yn\n",
    "    return abs(np.sum(err))/len(err)\n",
    "\n",
    "print (error(y))"
   ]
  },
  {
   "cell_type": "markdown",
   "metadata": {},
   "source": [
    "### To our real data: nuclear binding energies. Brief reminder on masses and binding energies\n",
    "\n",
    "Let us now dive into  nuclear physics and remind ourselves briefly about some basic features about binding\n",
    "energies.  A basic quantity which can be measured for the ground\n",
    "states of nuclei is the atomic mass $M(N, Z)$ of the neutral atom with\n",
    "atomic mass number $A$ and charge $Z$. The number of neutrons is $N$. There are indeed several sophisticated experiments worldwide which allow us to measure this quantity to high precision (parts per million even). \n",
    "\n",
    "Atomic masses are usually tabulated in terms of the mass excess defined by"
   ]
  },
  {
   "cell_type": "markdown",
   "metadata": {},
   "source": [
    "$$\n",
    "\\Delta M(N, Z) =  M(N, Z) - uA,\n",
    "$$"
   ]
  },
  {
   "cell_type": "markdown",
   "metadata": {},
   "source": [
    "where $u$ is the Atomic Mass Unit"
   ]
  },
  {
   "cell_type": "markdown",
   "metadata": {},
   "source": [
    "$$\n",
    "u = M(^{12}\\mathrm{C})/12 = 931.4940954(57) \\hspace{0.1cm} \\mathrm{MeV}/c^2.\n",
    "$$"
   ]
  },
  {
   "cell_type": "markdown",
   "metadata": {},
   "source": [
    "The nucleon masses are"
   ]
  },
  {
   "cell_type": "markdown",
   "metadata": {},
   "source": [
    "$$\n",
    "m_p =  1.00727646693(9)u,\n",
    "$$"
   ]
  },
  {
   "cell_type": "markdown",
   "metadata": {},
   "source": [
    "and"
   ]
  },
  {
   "cell_type": "markdown",
   "metadata": {},
   "source": [
    "$$\n",
    "m_n = 939.56536(8)\\hspace{0.1cm} \\mathrm{MeV}/c^2 = 1.0086649156(6)u.\n",
    "$$"
   ]
  },
  {
   "cell_type": "markdown",
   "metadata": {},
   "source": [
    "In the [2016 mass evaluation of by W.J.Huang, G.Audi, M.Wang, F.G.Kondev, S.Naimi and X.Xu](http://nuclearmasses.org/resources_folder/Wang_2017_Chinese_Phys_C_41_030003.pdf)\n",
    "there are data on masses and decays of 3437 nuclei.\n",
    "\n",
    "The nuclear binding energy is defined as the energy required to break\n",
    "up a given nucleus into its constituent parts of $N$ neutrons and $Z$\n",
    "protons. In terms of the atomic masses $M(N, Z)$ the binding energy is\n",
    "defined by"
   ]
  },
  {
   "cell_type": "markdown",
   "metadata": {},
   "source": [
    "$$\n",
    "BE(N, Z) = ZM_H c^2 + Nm_n c^2 - M(N, Z)c^2 ,\n",
    "$$"
   ]
  },
  {
   "cell_type": "markdown",
   "metadata": {},
   "source": [
    "where $M_H$ is the mass of the hydrogen atom and $m_n$ is the mass of the neutron.\n",
    "In terms of the mass excess the binding energy is given by"
   ]
  },
  {
   "cell_type": "markdown",
   "metadata": {},
   "source": [
    "$$\n",
    "BE(N, Z) = Z\\Delta_H c^2 + N\\Delta_n c^2 -\\Delta(N, Z)c^2 ,\n",
    "$$"
   ]
  },
  {
   "cell_type": "markdown",
   "metadata": {},
   "source": [
    "where $\\Delta_H c^2 = 7.2890$ MeV and $\\Delta_n c^2 = 8.0713$ MeV.\n",
    "\n",
    "\n",
    "A popular and physically intuitive model which can be used to parametrize \n",
    "the experimental binding energies as function of $A$, is the so-called \n",
    "**liquid drop model**. The ansatz is based on the following expression"
   ]
  },
  {
   "cell_type": "markdown",
   "metadata": {},
   "source": [
    "$$\n",
    "BE(N,Z) = a_1A-a_2A^{2/3}-a_3\\frac{Z^2}{A^{1/3}}-a_4\\frac{(N-Z)^2}{A},\n",
    "$$"
   ]
  },
  {
   "cell_type": "markdown",
   "metadata": {},
   "source": [
    "where $A$ stands for the number of nucleons and the $a_i$s are parameters which are determined by a fit \n",
    "to the experimental data.  \n",
    "\n",
    "\n",
    "\n",
    "\n",
    "To arrive at the above expression we have assumed that we can make the following assumptions:\n",
    "\n",
    " * There is a volume term $a_1A$ proportional with the number of nucleons (the energy is also an extensive quantity). When an assembly of nucleons of the same size is packed together into the smallest volume, each interior nucleon has a certain number of other nucleons in contact with it. This contribution is proportional to the volume.\n",
    "\n",
    " * There is a surface energy term $a_2A^{2/3}$. The assumption here is that a nucleon at the surface of a nucleus interacts with fewer other nucleons than one in the interior of the nucleus and hence its binding energy is less. This surface energy term takes that into account and is therefore negative and is proportional to the surface area.\n",
    "\n",
    " * There is a Coulomb energy term $a_3\\frac{Z^2}{A^{1/3}}$. The electric repulsion between each pair of protons in a nucleus yields less binding. \n",
    "\n",
    " * There is an asymmetry term $a_4\\frac{(N-Z)^2}{A}$. This term is associated with the Pauli exclusion principle and reflects the fact that the proton-neutron interaction is more attractive on the average than the neutron-neutron and proton-proton interactions.\n",
    "\n",
    "We could also add a so-called pairing term, which is a correction term that\n",
    "arises from the tendency of proton pairs and neutron pairs to\n",
    "occur. An even number of particles is more stable than an odd number. \n",
    "\n",
    "\n",
    "### Organizing our data\n",
    "\n",
    "Let us start with reading and organizing our data. \n",
    "We start with the compilation of masses and binding energies from 2016.\n",
    "After having downloaded this file to our own computer, we are now ready to read the file and start structuring our data.\n",
    "\n",
    "\n",
    "We start with preparing folders for storing our calculations and the data file over masses and binding energies. We import also various modules that we will find useful in order to present various Machine Learning methods. Here we focus mainly on the functionality of **scikit-learn**."
   ]
  },
  {
   "cell_type": "code",
<<<<<<< HEAD
   "execution_count": 28,
=======
   "execution_count": 1,
>>>>>>> 1cec7587fa819aac109c52d92c370d3d5bcd5c05
   "metadata": {},
   "outputs": [],
   "source": [
    "# Common imports\n",
    "import numpy as np\n",
    "import pandas as pd\n",
    "import matplotlib.pyplot as plt\n",
    "import sklearn.linear_model as skl\n",
    "from sklearn.model_selection import train_test_split\n",
    "from sklearn.metrics import mean_squared_error, r2_score, mean_absolute_error\n",
    "import os\n",
    "\n",
    "# Where to save the figures and data files\n",
    "PROJECT_ROOT_DIR = \"Results\"\n",
    "FIGURE_ID = \"Results/FigureFiles\"\n",
    "DATA_ID = \"DataFiles/\"\n",
    "\n",
    "if not os.path.exists(PROJECT_ROOT_DIR):\n",
    "    os.mkdir(PROJECT_ROOT_DIR)\n",
    "\n",
    "if not os.path.exists(FIGURE_ID):\n",
    "    os.makedirs(FIGURE_ID)\n",
    "\n",
    "if not os.path.exists(DATA_ID):\n",
    "    os.makedirs(DATA_ID)\n",
    "\n",
    "def image_path(fig_id):\n",
    "    return os.path.join(FIGURE_ID, fig_id)\n",
    "\n",
    "def data_path(dat_id):\n",
    "    return os.path.join(DATA_ID, dat_id)\n",
    "\n",
    "def save_fig(fig_id):\n",
    "    plt.savefig(image_path(fig_id) + \".png\", format='png')\n",
    "\n",
    "infile = open(data_path(\"MassEval2016.dat\"),'r')"
   ]
  },
  {
   "cell_type": "markdown",
   "metadata": {},
   "source": [
    "Before we proceed, we define also a function for making our plots. You can obviously avoid this and simply set up various **matplotlib** commands every time you need them. You may however find it convenient to collect all such commands in one function and simply call this function."
   ]
  },
  {
   "cell_type": "code",
<<<<<<< HEAD
   "execution_count": 29,
=======
   "execution_count": 78,
>>>>>>> 1cec7587fa819aac109c52d92c370d3d5bcd5c05
   "metadata": {},
   "outputs": [],
   "source": [
    "from pylab import plt, mpl\n",
    "plt.style.use('seaborn')\n",
    "mpl.rcParams['font.family'] = 'serif'\n",
    "\n",
    "def MakePlot(x,y, styles, labels, axlabels):\n",
    "    plt.figure(figsize=(10,6))\n",
    "    for i in range(len(x)):\n",
    "        plt.plot(x[i], y[i], styles[i], label = labels[i])\n",
    "        plt.xlabel(axlabels[0])\n",
    "        plt.ylabel(axlabels[1])\n",
    "    plt.legend(loc=0)"
   ]
  },
  {
   "cell_type": "markdown",
   "metadata": {},
   "source": [
    "Our next step is to read the data on experimental binding energies and\n",
    "reorganize them as functions of the mass number $A$, the number of\n",
    "protons $Z$ and neutrons $N$ using **pandas**.  Before we do this it is\n",
    "always useful (unless you have a binary file or other types of compressed\n",
    "data) to actually open the file and simply take a look at it!\n",
    "\n",
    "\n",
    "In particular, the program that outputs the final nuclear masses is written in Fortran with a specific format. It means that we need to figure out the format and which columns contain the data we are interested in. Pandas comes with a function that reads formatted output. After having admired the file, we are now ready to start massaging it with **pandas**. The file begins with some basic format information."
   ]
  },
  {
   "cell_type": "code",
<<<<<<< HEAD
   "execution_count": 30,
   "metadata": {},
   "outputs": [],
=======
   "execution_count": 79,
   "metadata": {},
   "outputs": [
    {
     "data": {
      "text/plain": [
       "'                                                                                                                         \\nThis is taken from the data file of the mass 2016 evaluation.                                                               \\nAll files are 3436 lines long with 124 character per line.                                                                  \\n       Headers are 39 lines long.                                                                                           \\n   col 1     :  Fortran character control: 1 = page feed  0 = line feed                                                     \\n   format    :  a1,i3,i5,i5,i5,1x,a3,a4,1x,f13.5,f11.5,f11.3,f9.3,1x,a2,f11.3,f9.3,1x,i3,1x,f12.5,f11.5                     \\n   These formats are reflected in the pandas widths variable below, see the statement                                       \\n   widths=(1,3,5,5,5,1,3,4,1,13,11,11,9,1,2,11,9,1,3,1,12,11,1),                                                            \\n   Pandas has also a variable header, with length 39 in this case.                                                          \\n'"
      ]
     },
     "execution_count": 79,
     "metadata": {},
     "output_type": "execute_result"
    }
   ],
>>>>>>> 1cec7587fa819aac109c52d92c370d3d5bcd5c05
   "source": [
    "\"\"\"                                                                                                                         \n",
    "This is taken from the data file of the mass 2016 evaluation.                                                               \n",
    "All files are 3436 lines long with 124 character per line.                                                                  \n",
    "       Headers are 39 lines long.                                                                                           \n",
    "   col 1     :  Fortran character control: 1 = page feed  0 = line feed                                                     \n",
    "   format    :  a1,i3,i5,i5,i5,1x,a3,a4,1x,f13.5,f11.5,f11.3,f9.3,1x,a2,f11.3,f9.3,1x,i3,1x,f12.5,f11.5                     \n",
    "   These formats are reflected in the pandas widths variable below, see the statement                                       \n",
    "   widths=(1,3,5,5,5,1,3,4,1,13,11,11,9,1,2,11,9,1,3,1,12,11,1),                                                            \n",
    "   Pandas has also a variable header, with length 39 in this case.                                                          \n",
    "\"\"\""
   ]
  },
  {
   "cell_type": "markdown",
   "metadata": {},
   "source": [
    "The data we are interested in are in columns 2, 3, 4 and 11, giving us\n",
    "the number of neutrons, protons, mass numbers and binding energies,\n",
    "respectively. We add also for the sake of completeness the element name. The data are in fixed-width formatted lines and we will\n",
    "covert them into the **pandas** DataFrame structure."
   ]
  },
  {
   "cell_type": "code",
<<<<<<< HEAD
   "execution_count": 31,
=======
   "execution_count": 2,
>>>>>>> 1cec7587fa819aac109c52d92c370d3d5bcd5c05
   "metadata": {},
   "outputs": [],
   "source": [
    "# Read the experimental data with Pandas\n",
    "Masses = pd.read_fwf(infile, usecols=(2,3,4,6,11),\n",
    "              names=('N', 'Z', 'A', 'Element', 'Ebinding'),\n",
    "              widths=(1,3,5,5,5,1,3,4,1,13,11,11,9,1,2,11,9,1,3,1,12,11,1),\n",
    "              header=39,\n",
    "              index_col=False)\n",
    "\n",
    "# Extrapolated values are indicated by '#' in place of the decimal place, so\n",
    "# the Ebinding column won't be numeric. Coerce to float and drop these entries.\n",
    "Masses['Ebinding'] = pd.to_numeric(Masses['Ebinding'], errors='coerce')\n",
    "Masses = Masses.dropna()\n",
    "# Convert from keV to MeV.\n",
    "Masses['Ebinding'] /= 1000\n",
    "\n",
    "# Group the DataFrame by nucleon number, A.\n",
    "Masses = Masses.groupby('A')\n",
    "# Find the rows of the grouped DataFrame with the maximum binding energy.\n",
    "Masses = Masses.apply(lambda t: t[t.Ebinding==t.Ebinding.max()])"
   ]
  },
  {
   "cell_type": "markdown",
   "metadata": {},
   "source": [
    "We have now read in the data, grouped them according to the variables we are interested in. \n",
    "We see how easy it is to reorganize the data using **pandas**. If we\n",
    "were to do these operations in C/C++ or Fortran, we would have had to\n",
    "write various functions/subroutines which perform the above\n",
    "reorganizations for us.  Having reorganized the data, we can now start\n",
    "to make some simple fits using both the functionalities in **numpy** and\n",
    "**Scikit-Learn** afterwards. \n",
    "\n",
    "Now we define five variables which contain\n",
    "the number of nucleons $A$, the number of protons $Z$ and the number of neutrons $N$, the element name and finally the energies themselves."
   ]
  },
  {
   "cell_type": "code",
<<<<<<< HEAD
   "execution_count": 32,
   "metadata": {},
   "outputs": [],
=======
   "execution_count": 3,
   "metadata": {},
   "outputs": [
    {
     "name": "stdout",
     "output_type": "stream",
     "text": [
      "            N    Z    A Element  Ebinding\n",
      "A                                        \n",
      "1   0       0    1    1       H  0.000000\n",
      "2   1       1    1    2       H  1.112283\n",
      "3   2       2    1    3       H  2.827265\n",
      "4   6       2    2    4      He  7.073915\n",
      "5   9       3    2    5      He  5.512132\n",
      "6   14      3    3    6      Li  5.332331\n",
      "7   19      4    3    7      Li  5.606439\n",
      "8   24      4    4    8      Be  7.062435\n",
      "9   29      5    4    9      Be  6.462668\n",
      "10  34      6    4   10      Be  6.497630\n",
      "11  40      6    5   11       B  6.927732\n",
      "12  46      6    6   12       C  7.680144\n",
      "13  52      7    6   13       C  7.469849\n",
      "14  57      8    6   14       C  7.520319\n",
      "15  64      8    7   15       N  7.699460\n",
      "16  72      8    8   16       O  7.976206\n",
      "17  78      9    8   17       O  7.750728\n",
      "18  85     10    8   18       O  7.767097\n",
      "19  93     10    9   19       F  7.779018\n",
      "20  102    10   10   20      Ne  8.032240\n",
      "21  110    11   10   21      Ne  7.971713\n",
      "22  118    12   10   22      Ne  8.080465\n",
      "23  128    12   11   23      Na  8.111493\n",
      "24  137    12   12   24      Mg  8.260709\n",
      "25  146    13   12   25      Mg  8.223502\n",
      "26  154    14   12   26      Mg  8.333870\n",
      "27  164    14   13   27      Al  8.331553\n",
      "28  174    14   14   28      Si  8.447744\n",
      "29  183    15   14   29      Si  8.448635\n",
      "30  192    16   14   30      Si  8.520654\n",
      "...       ...  ...  ...     ...       ...\n",
      "238 3089  146   92  238       U  7.570125\n",
      "239 3099  146   93  239      Np  7.560567\n",
      "240 3109  146   94  240      Pu  7.556042\n",
      "241 3118  147   94  241      Pu  7.546439\n",
      "242 3127  148   94  242      Pu  7.541327\n",
      "243 3136  149   94  243      Pu  7.531008\n",
      "244 3144  150   94  244      Pu  7.524815\n",
      "245 3154  149   96  245      Cm  7.515767\n",
      "246 3162  150   96  246      Cm  7.511471\n",
      "247 3170  151   96  247      Cm  7.501931\n",
      "248 3177  152   96  248      Cm  7.496728\n",
      "249 3186  152   97  249      Bk  7.486040\n",
      "250 3194  152   98  250      Cf  7.479956\n",
      "251 3201  153   98  251      Cf  7.470500\n",
      "252 3209  154   98  252      Cf  7.465347\n",
      "253 3216  155   98  253      Cf  7.454829\n",
      "254 3224  156   98  254      Cf  7.449225\n",
      "255 3232  156   99  255      Es  7.437821\n",
      "256 3241  156  100  256      Fm  7.431780\n",
      "257 3248  157  100  257      Fm  7.422194\n",
      "258 3256  157  101  258      Md  7.409675\n",
      "259 3264  157  102  259      No  7.399974\n",
      "260 3275  154  106  260      Sg  7.342562\n",
      "261 3280  157  104  261      Rf  7.371384\n",
      "262 3289  156  106  262      Sg  7.341185\n",
      "264 3304  156  108  264      Hs  7.298375\n",
      "265 3310  157  108  265      Hs  7.296247\n",
      "266 3317  158  108  266      Hs  7.298273\n",
      "269 3338  159  110  269      Ds  7.250154\n",
      "270 3344  160  110  270      Ds  7.253775\n",
      "\n",
      "[267 rows x 5 columns]\n"
     ]
    }
   ],
>>>>>>> 1cec7587fa819aac109c52d92c370d3d5bcd5c05
   "source": [
    "A = Masses['A']\n",
    "Z = Masses['Z']\n",
    "N = Masses['N']\n",
    "Element = Masses['Element']\n",
    "Energies = Masses['Ebinding']\n",
    "print(Masses)"
   ]
  },
  {
   "cell_type": "markdown",
   "metadata": {},
   "source": [
    "The next step, and we will define this mathematically later, is to set up the so-called **design matrix**. We will throughout call this matrix $\\boldsymbol{X}$.\n",
    "It has dimensionality $p\\times n$, where $n$ is the number of data points and $p$ are the so-called predictors. In our case here they are given by the number of polynomials in $A$ we wish to include in the fit."
   ]
  },
  {
   "cell_type": "code",
<<<<<<< HEAD
   "execution_count": 33,
   "metadata": {},
   "outputs": [],
=======
   "execution_count": 6,
   "metadata": {},
   "outputs": [
    {
     "name": "stdout",
     "output_type": "stream",
     "text": [
      "[[1.00000000e+00 1.00000000e+00 1.00000000e+00 1.00000000e+00\n",
      "  1.00000000e+00]\n",
      " [1.00000000e+00 2.00000000e+00 1.58740105e+00 7.93700526e-01\n",
      "  5.00000000e-01]\n",
      " [1.00000000e+00 3.00000000e+00 2.08008382e+00 6.93361274e-01\n",
      "  3.33333333e-01]\n",
      " ...\n",
      " [1.00000000e+00 2.66000000e+02 4.13606883e+01 1.55491310e-01\n",
      "  3.75939850e-03]\n",
      " [1.00000000e+00 2.69000000e+02 4.16710893e+01 1.54911113e-01\n",
      "  3.71747212e-03]\n",
      " [1.00000000e+00 2.70000000e+02 4.17742995e+01 1.54719628e-01\n",
      "  3.70370370e-03]]\n"
     ]
    }
   ],
>>>>>>> 1cec7587fa819aac109c52d92c370d3d5bcd5c05
   "source": [
    "# Now we set up the design matrix X\n",
    "X = np.zeros((len(A),5))\n",
    "X[:,0] = 1\n",
    "X[:,1] = A\n",
    "X[:,2] = A**(2.0/3.0)\n",
    "X[:,3] = A**(-1.0/3.0)\n",
<<<<<<< HEAD
    "X[:,4] = A**(-1.0)"
=======
    "X[:,4] = A**(-1.0)\n",
    "print(X)"
>>>>>>> 1cec7587fa819aac109c52d92c370d3d5bcd5c05
   ]
  },
  {
   "cell_type": "markdown",
   "metadata": {},
   "source": [
    "With **scikitlearn** we are now ready to use linear regression and fit our data."
   ]
  },
  {
   "cell_type": "code",
<<<<<<< HEAD
   "execution_count": 34,
=======
   "execution_count": 83,
>>>>>>> 1cec7587fa819aac109c52d92c370d3d5bcd5c05
   "metadata": {},
   "outputs": [],
   "source": [
    "clf = skl.LinearRegression().fit(X, Energies)\n",
    "fity = clf.predict(X)"
   ]
  },
  {
   "cell_type": "markdown",
   "metadata": {},
   "source": [
    "Pretty simple!  \n",
    "Now we can print measures of how our fit is doing, the coefficients from the fits and plot the final fit together with our data."
   ]
  },
  {
   "cell_type": "code",
<<<<<<< HEAD
   "execution_count": 35,
   "metadata": {},
   "outputs": [],
=======
   "execution_count": 84,
   "metadata": {},
   "outputs": [
    {
     "name": "stdout",
     "output_type": "stream",
     "text": [
      "Mean squared error: 0.04\n",
      "Variance score: 0.95\n",
      "Mean absolute error: 0.05\n",
      "[ 0.00000000e+00  7.06492086e-03 -1.73091052e-01 -1.66020213e+01\n",
      "  1.17385778e+00] 15.212327334149494\n"
     ]
    },
    {
     "data": {
      "image/png": "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\n",
      "text/plain": [
       "<Figure size 576x396 with 1 Axes>"
      ]
     },
     "metadata": {},
     "output_type": "display_data"
    }
   ],
>>>>>>> 1cec7587fa819aac109c52d92c370d3d5bcd5c05
   "source": [
    "# The mean squared error                               \n",
    "print(\"Mean squared error: %.2f\" % mean_squared_error(Energies, fity))\n",
    "# Explained variance score: 1 is perfect prediction                                 \n",
    "print('Variance score: %.2f' % r2_score(Energies, fity))\n",
    "# Mean absolute error                                                           \n",
    "print('Mean absolute error: %.2f' % mean_absolute_error(Energies, fity))\n",
    "print(clf.coef_, clf.intercept_)\n",
    "\n",
    "Masses['Eapprox']  = fity\n",
    "# Generate a plot comparing the experimental with the fitted values values.\n",
    "fig, ax = plt.subplots()\n",
    "ax.set_xlabel(r'$A = N + Z$')\n",
    "ax.set_ylabel(r'$E_\\mathrm{bind}\\,/\\mathrm{MeV}$')\n",
    "ax.plot(Masses['A'], Masses['Ebinding'], alpha=0.7, lw=2,\n",
    "            label='Ame2016')\n",
    "ax.plot(Masses['A'], Masses['Eapprox'], alpha=0.7, lw=2, c='m',\n",
    "            label='Fit')\n",
    "ax.legend()\n",
    "save_fig(\"Masses2016\")\n",
    "plt.show()"
   ]
  },
  {
   "cell_type": "markdown",
   "metadata": {},
   "source": [
    "### Seeing the wood for the trees\n",
    "\n",
    "As a teaser, let us now see how we can do this with decision trees using **scikit-learn**. Later we will switch to so-called **random forests**!"
   ]
  },
  {
   "cell_type": "code",
<<<<<<< HEAD
   "execution_count": 36,
   "metadata": {},
   "outputs": [],
=======
   "execution_count": 85,
   "metadata": {},
   "outputs": [
    {
     "data": {
      "image/png": "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\n",
      "text/plain": [
       "<Figure size 576x396 with 1 Axes>"
      ]
     },
     "metadata": {},
     "output_type": "display_data"
    },
    {
     "name": "stdout",
     "output_type": "stream",
     "text": [
      "            N    Z    A Element  Ebinding   Eapprox\n",
      "A                                                  \n",
      "1   0       0    1    1       H  0.000000  0.000000\n",
      "2   1       1    1    2       H  1.112283  1.112283\n",
      "3   2       2    1    3       H  2.827265  2.827265\n",
      "4   6       2    2    4      He  7.073915  7.073915\n",
      "5   9       3    2    5      He  5.512132  5.512132\n",
      "...       ...  ...  ...     ...       ...       ...\n",
      "264 3304  156  108  264      Hs  7.298375  7.298375\n",
      "265 3310  157  108  265      Hs  7.296247  7.297260\n",
      "266 3317  158  108  266      Hs  7.298273  7.297260\n",
      "269 3338  159  110  269      Ds  7.250154  7.250154\n",
      "270 3344  160  110  270      Ds  7.253775  7.253775\n",
      "\n",
      "[267 rows x 6 columns]\n",
      "0.009883615646716182\n"
     ]
    }
   ],
>>>>>>> 1cec7587fa819aac109c52d92c370d3d5bcd5c05
   "source": [
    "\n",
    "#Decision Tree Regression\n",
    "from sklearn.tree import DecisionTreeRegressor\n",
    "regr_1=DecisionTreeRegressor(max_depth=5)\n",
    "regr_2=DecisionTreeRegressor(max_depth=7)\n",
    "regr_3=DecisionTreeRegressor(max_depth=9)\n",
    "regr_1.fit(X, Energies)\n",
    "regr_2.fit(X, Energies)\n",
    "regr_3.fit(X, Energies)\n",
    "\n",
    "\n",
    "y_1 = regr_1.predict(X)\n",
    "y_2 = regr_2.predict(X)\n",
    "y_3=regr_3.predict(X)\n",
    "Masses['Eapprox'] = y_3\n",
    "# Plot the results\n",
    "plt.figure()\n",
    "plt.plot(A, Energies, color=\"blue\", label=\"Data\", linewidth=2)\n",
    "plt.plot(A, y_1, color=\"red\", label=\"max_depth=5\", linewidth=2)\n",
    "plt.plot(A, y_2, color=\"green\", label=\"max_depth=7\", linewidth=2)\n",
    "plt.plot(A, y_3, color=\"m\", label=\"max_depth=9\", linewidth=2)\n",
    "\n",
    "plt.xlabel(\"$A$\")\n",
    "plt.ylabel(\"$E$[MeV]\")\n",
    "plt.title(\"Decision Tree Regression\")\n",
    "plt.legend()\n",
    "save_fig(\"Masses2016Trees\")\n",
    "plt.show()\n",
    "print(Masses)\n",
    "print(np.mean( (Energies-y_1)**2))"
   ]
  },
  {
   "cell_type": "markdown",
   "metadata": {},
   "source": [
    "### And what about using neural networks?\n",
    "\n",
    "The **seaborn** package allows us to visualize data in an efficient way. Note that we use **scikit-learn**'s multi-layer perceptron (or feed forward neural network) \n",
    "functionality."
   ]
  },
  {
   "cell_type": "code",
<<<<<<< HEAD
   "execution_count": 37,
   "metadata": {},
   "outputs": [],
=======
   "execution_count": 86,
   "metadata": {},
   "outputs": [
    {
     "name": "stderr",
     "output_type": "stream",
     "text": [
      "/Users/MortenImac/anaconda3/lib/python3.6/site-packages/sklearn/neural_network/_multilayer_perceptron.py:585: ConvergenceWarning: Stochastic Optimizer: Maximum iterations (100) reached and the optimization hasn't converged yet.\n",
      "  % self.max_iter, ConvergenceWarning)\n",
      "/Users/MortenImac/anaconda3/lib/python3.6/site-packages/sklearn/neural_network/_multilayer_perceptron.py:585: ConvergenceWarning: Stochastic Optimizer: Maximum iterations (100) reached and the optimization hasn't converged yet.\n",
      "  % self.max_iter, ConvergenceWarning)\n",
      "/Users/MortenImac/anaconda3/lib/python3.6/site-packages/sklearn/neural_network/_multilayer_perceptron.py:585: ConvergenceWarning: Stochastic Optimizer: Maximum iterations (100) reached and the optimization hasn't converged yet.\n",
      "  % self.max_iter, ConvergenceWarning)\n",
      "/Users/MortenImac/anaconda3/lib/python3.6/site-packages/sklearn/neural_network/_multilayer_perceptron.py:585: ConvergenceWarning: Stochastic Optimizer: Maximum iterations (100) reached and the optimization hasn't converged yet.\n",
      "  % self.max_iter, ConvergenceWarning)\n",
      "/Users/MortenImac/anaconda3/lib/python3.6/site-packages/sklearn/neural_network/_multilayer_perceptron.py:585: ConvergenceWarning: Stochastic Optimizer: Maximum iterations (100) reached and the optimization hasn't converged yet.\n",
      "  % self.max_iter, ConvergenceWarning)\n",
      "/Users/MortenImac/anaconda3/lib/python3.6/site-packages/sklearn/neural_network/_multilayer_perceptron.py:585: ConvergenceWarning: Stochastic Optimizer: Maximum iterations (100) reached and the optimization hasn't converged yet.\n",
      "  % self.max_iter, ConvergenceWarning)\n",
      "/Users/MortenImac/anaconda3/lib/python3.6/site-packages/sklearn/neural_network/_multilayer_perceptron.py:585: ConvergenceWarning: Stochastic Optimizer: Maximum iterations (100) reached and the optimization hasn't converged yet.\n",
      "  % self.max_iter, ConvergenceWarning)\n",
      "/Users/MortenImac/anaconda3/lib/python3.6/site-packages/sklearn/neural_network/_multilayer_perceptron.py:585: ConvergenceWarning: Stochastic Optimizer: Maximum iterations (100) reached and the optimization hasn't converged yet.\n",
      "  % self.max_iter, ConvergenceWarning)\n",
      "/Users/MortenImac/anaconda3/lib/python3.6/site-packages/sklearn/neural_network/_multilayer_perceptron.py:585: ConvergenceWarning: Stochastic Optimizer: Maximum iterations (100) reached and the optimization hasn't converged yet.\n",
      "  % self.max_iter, ConvergenceWarning)\n",
      "/Users/MortenImac/anaconda3/lib/python3.6/site-packages/sklearn/neural_network/_multilayer_perceptron.py:585: ConvergenceWarning: Stochastic Optimizer: Maximum iterations (100) reached and the optimization hasn't converged yet.\n",
      "  % self.max_iter, ConvergenceWarning)\n",
      "/Users/MortenImac/anaconda3/lib/python3.6/site-packages/sklearn/neural_network/_multilayer_perceptron.py:585: ConvergenceWarning: Stochastic Optimizer: Maximum iterations (100) reached and the optimization hasn't converged yet.\n",
      "  % self.max_iter, ConvergenceWarning)\n",
      "/Users/MortenImac/anaconda3/lib/python3.6/site-packages/sklearn/neural_network/_multilayer_perceptron.py:585: ConvergenceWarning: Stochastic Optimizer: Maximum iterations (100) reached and the optimization hasn't converged yet.\n",
      "  % self.max_iter, ConvergenceWarning)\n",
      "/Users/MortenImac/anaconda3/lib/python3.6/site-packages/sklearn/neural_network/_multilayer_perceptron.py:585: ConvergenceWarning: Stochastic Optimizer: Maximum iterations (100) reached and the optimization hasn't converged yet.\n",
      "  % self.max_iter, ConvergenceWarning)\n",
      "/Users/MortenImac/anaconda3/lib/python3.6/site-packages/sklearn/neural_network/_multilayer_perceptron.py:585: ConvergenceWarning: Stochastic Optimizer: Maximum iterations (100) reached and the optimization hasn't converged yet.\n",
      "  % self.max_iter, ConvergenceWarning)\n",
      "/Users/MortenImac/anaconda3/lib/python3.6/site-packages/sklearn/neural_network/_multilayer_perceptron.py:585: ConvergenceWarning: Stochastic Optimizer: Maximum iterations (100) reached and the optimization hasn't converged yet.\n",
      "  % self.max_iter, ConvergenceWarning)\n",
      "/Users/MortenImac/anaconda3/lib/python3.6/site-packages/sklearn/neural_network/_multilayer_perceptron.py:585: ConvergenceWarning: Stochastic Optimizer: Maximum iterations (100) reached and the optimization hasn't converged yet.\n",
      "  % self.max_iter, ConvergenceWarning)\n",
      "/Users/MortenImac/anaconda3/lib/python3.6/site-packages/sklearn/neural_network/_multilayer_perceptron.py:585: ConvergenceWarning: Stochastic Optimizer: Maximum iterations (100) reached and the optimization hasn't converged yet.\n",
      "  % self.max_iter, ConvergenceWarning)\n",
      "/Users/MortenImac/anaconda3/lib/python3.6/site-packages/sklearn/neural_network/_multilayer_perceptron.py:585: ConvergenceWarning: Stochastic Optimizer: Maximum iterations (100) reached and the optimization hasn't converged yet.\n",
      "  % self.max_iter, ConvergenceWarning)\n",
      "/Users/MortenImac/anaconda3/lib/python3.6/site-packages/sklearn/neural_network/_multilayer_perceptron.py:585: ConvergenceWarning: Stochastic Optimizer: Maximum iterations (100) reached and the optimization hasn't converged yet.\n",
      "  % self.max_iter, ConvergenceWarning)\n",
      "/Users/MortenImac/anaconda3/lib/python3.6/site-packages/sklearn/neural_network/_multilayer_perceptron.py:585: ConvergenceWarning: Stochastic Optimizer: Maximum iterations (100) reached and the optimization hasn't converged yet.\n",
      "  % self.max_iter, ConvergenceWarning)\n",
      "/Users/MortenImac/anaconda3/lib/python3.6/site-packages/sklearn/neural_network/_multilayer_perceptron.py:585: ConvergenceWarning: Stochastic Optimizer: Maximum iterations (100) reached and the optimization hasn't converged yet.\n",
      "  % self.max_iter, ConvergenceWarning)\n",
      "/Users/MortenImac/anaconda3/lib/python3.6/site-packages/sklearn/neural_network/_multilayer_perceptron.py:585: ConvergenceWarning: Stochastic Optimizer: Maximum iterations (100) reached and the optimization hasn't converged yet.\n",
      "  % self.max_iter, ConvergenceWarning)\n",
      "/Users/MortenImac/anaconda3/lib/python3.6/site-packages/sklearn/neural_network/_multilayer_perceptron.py:585: ConvergenceWarning: Stochastic Optimizer: Maximum iterations (100) reached and the optimization hasn't converged yet.\n",
      "  % self.max_iter, ConvergenceWarning)\n",
      "/Users/MortenImac/anaconda3/lib/python3.6/site-packages/sklearn/neural_network/_multilayer_perceptron.py:585: ConvergenceWarning: Stochastic Optimizer: Maximum iterations (100) reached and the optimization hasn't converged yet.\n",
      "  % self.max_iter, ConvergenceWarning)\n",
      "/Users/MortenImac/anaconda3/lib/python3.6/site-packages/sklearn/neural_network/_multilayer_perceptron.py:585: ConvergenceWarning: Stochastic Optimizer: Maximum iterations (100) reached and the optimization hasn't converged yet.\n",
      "  % self.max_iter, ConvergenceWarning)\n",
      "/Users/MortenImac/anaconda3/lib/python3.6/site-packages/sklearn/neural_network/_multilayer_perceptron.py:585: ConvergenceWarning: Stochastic Optimizer: Maximum iterations (100) reached and the optimization hasn't converged yet.\n",
      "  % self.max_iter, ConvergenceWarning)\n",
      "/Users/MortenImac/anaconda3/lib/python3.6/site-packages/sklearn/neural_network/_multilayer_perceptron.py:585: ConvergenceWarning: Stochastic Optimizer: Maximum iterations (100) reached and the optimization hasn't converged yet.\n",
      "  % self.max_iter, ConvergenceWarning)\n",
      "/Users/MortenImac/anaconda3/lib/python3.6/site-packages/sklearn/neural_network/_multilayer_perceptron.py:585: ConvergenceWarning: Stochastic Optimizer: Maximum iterations (100) reached and the optimization hasn't converged yet.\n",
      "  % self.max_iter, ConvergenceWarning)\n",
      "/Users/MortenImac/anaconda3/lib/python3.6/site-packages/sklearn/neural_network/_multilayer_perceptron.py:585: ConvergenceWarning: Stochastic Optimizer: Maximum iterations (100) reached and the optimization hasn't converged yet.\n",
      "  % self.max_iter, ConvergenceWarning)\n",
      "/Users/MortenImac/anaconda3/lib/python3.6/site-packages/sklearn/neural_network/_multilayer_perceptron.py:585: ConvergenceWarning: Stochastic Optimizer: Maximum iterations (100) reached and the optimization hasn't converged yet.\n",
      "  % self.max_iter, ConvergenceWarning)\n",
      "/Users/MortenImac/anaconda3/lib/python3.6/site-packages/sklearn/neural_network/_multilayer_perceptron.py:585: ConvergenceWarning: Stochastic Optimizer: Maximum iterations (100) reached and the optimization hasn't converged yet.\n",
      "  % self.max_iter, ConvergenceWarning)\n",
      "/Users/MortenImac/anaconda3/lib/python3.6/site-packages/sklearn/neural_network/_multilayer_perceptron.py:585: ConvergenceWarning: Stochastic Optimizer: Maximum iterations (100) reached and the optimization hasn't converged yet.\n",
      "  % self.max_iter, ConvergenceWarning)\n"
     ]
    },
    {
     "data": {
      "image/png": "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\n",
      "text/plain": [
       "<Figure size 720x720 with 2 Axes>"
      ]
     },
     "metadata": {},
     "output_type": "display_data"
    }
   ],
>>>>>>> 1cec7587fa819aac109c52d92c370d3d5bcd5c05
   "source": [
    "from sklearn.neural_network import MLPRegressor\n",
    "from sklearn.metrics import accuracy_score\n",
    "import seaborn as sns\n",
    "\n",
    "X_train = X\n",
    "Y_train = Energies\n",
    "n_hidden_neurons = 100\n",
    "epochs = 100\n",
    "# store models for later use\n",
    "eta_vals = np.logspace(-5, 1, 7)\n",
    "lmbd_vals = np.logspace(-5, 1, 7)\n",
    "# store the models for later use\n",
    "DNN_scikit = np.zeros((len(eta_vals), len(lmbd_vals)), dtype=object)\n",
    "train_accuracy = np.zeros((len(eta_vals), len(lmbd_vals)))\n",
    "sns.set()\n",
    "for i, eta in enumerate(eta_vals):\n",
    "    for j, lmbd in enumerate(lmbd_vals):\n",
    "        dnn = MLPRegressor(hidden_layer_sizes=(n_hidden_neurons), activation='logistic',\n",
    "                            alpha=lmbd, learning_rate_init=eta, max_iter=epochs)\n",
    "        dnn.fit(X_train, Y_train)\n",
    "        DNN_scikit[i][j] = dnn\n",
    "        train_accuracy[i][j] = dnn.score(X_train, Y_train)\n",
    "\n",
    "fig, ax = plt.subplots(figsize = (10, 10))\n",
    "sns.heatmap(train_accuracy, annot=True, ax=ax, cmap=\"viridis\")\n",
    "ax.set_title(\"Training Accuracy\")\n",
    "ax.set_ylabel(\"$\\eta$\")\n",
    "ax.set_xlabel(\"$\\lambda$\")\n",
    "plt.show()"
   ]
  },
  {
   "cell_type": "markdown",
   "metadata": {},
   "source": [
    "### More on flexibility with pandas and xarray\n",
    "\n",
    "Let us study the $Q$ values associated with the removal of one or two nucleons from\n",
    "a nucleus. These are conventionally defined in terms of the one-nucleon and two-nucleon\n",
    "separation energies. With the functionality in **pandas**, two to three lines of code will allow us to plot the separation energies.\n",
    "The neutron separation energy is defined as"
   ]
  },
  {
   "cell_type": "markdown",
   "metadata": {},
   "source": [
    "$$\n",
    "S_n= -Q_n= BE(N,Z)-BE(N-1,Z),\n",
    "$$"
   ]
  },
  {
   "cell_type": "markdown",
   "metadata": {},
   "source": [
    "and the proton separation energy reads"
   ]
  },
  {
   "cell_type": "markdown",
   "metadata": {},
   "source": [
    "$$\n",
    "S_p= -Q_p= BE(N,Z)-BE(N,Z-1).\n",
    "$$"
   ]
  },
  {
   "cell_type": "markdown",
   "metadata": {},
   "source": [
    "The two-neutron separation energy is defined as"
   ]
  },
  {
   "cell_type": "markdown",
   "metadata": {},
   "source": [
    "$$\n",
    "S_{2n}= -Q_{2n}= BE(N,Z)-BE(N-2,Z),\n",
    "$$"
   ]
  },
  {
   "cell_type": "markdown",
   "metadata": {},
   "source": [
    "and  the two-proton separation energy is given by"
   ]
  },
  {
   "cell_type": "markdown",
   "metadata": {},
   "source": [
    "$$\n",
    "S_{2p}= -Q_{2p}= BE(N,Z)-BE(N,Z-2).\n",
    "$$"
   ]
  },
  {
   "cell_type": "markdown",
   "metadata": {},
   "source": [
    "Using say the neutron separation energies (alternatively the proton separation energies)"
   ]
  },
  {
   "cell_type": "markdown",
   "metadata": {},
   "source": [
    "$$\n",
    "S_n= -Q_n= BE(N,Z)-BE(N-1,Z),\n",
    "$$"
   ]
  },
  {
   "cell_type": "markdown",
   "metadata": {},
   "source": [
    "we can define the so-called energy gap for neutrons (or protons) as"
   ]
  },
  {
   "cell_type": "markdown",
   "metadata": {},
   "source": [
    "$$\n",
    "\\Delta S_n= BE(N,Z)-BE(N-1,Z)-\\left(BE(N+1,Z)-BE(N,Z)\\right),\n",
    "$$"
   ]
  },
  {
   "cell_type": "markdown",
   "metadata": {},
   "source": [
    "or"
   ]
  },
  {
   "cell_type": "markdown",
   "metadata": {},
   "source": [
    "$$\n",
    "\\Delta S_n= 2BE(N,Z)-BE(N-1,Z)-BE(N+1,Z).\n",
    "$$"
   ]
  },
  {
   "cell_type": "markdown",
   "metadata": {},
   "source": [
    "This quantity can in turn be used to determine which nuclei could be interpreted as  magic or not. \n",
    "For protons we would have"
   ]
  },
  {
   "cell_type": "markdown",
   "metadata": {},
   "source": [
    "$$\n",
    "\\Delta S_p= 2BE(N,Z)-BE(N,Z-1)-BE(N,Z+1).\n",
    "$$"
   ]
  },
  {
   "cell_type": "markdown",
   "metadata": {},
   "source": [
    "To calculate say the neutron separation we need to multiply our masses with the nucleon number $A$ (why?).\n",
    "Thereafter we pick the oxygen isotopes and simply compute the separation energies with  two lines of code (note that most of the code here is a repeat of what you have seen before)."
   ]
  },
  {
   "cell_type": "code",
<<<<<<< HEAD
   "execution_count": 38,
   "metadata": {},
   "outputs": [],
=======
   "execution_count": 87,
   "metadata": {},
   "outputs": [
    {
     "name": "stdout",
     "output_type": "stream",
     "text": [
      "      A  Z   N Element    Energies  NeutronSeparationEnergies\n",
      "48   12  8   4       O   58.682424                        NaN\n",
      "54   13  8   5       O   75.552919                  16.870495\n",
      "59   14  8   6       O   98.731892                  23.178973\n",
      "65   15  8   7       O  111.955380                  13.223488\n",
      "72   16  8   8       O  127.619296                  15.663916\n",
      "78   17  8   9       O  131.762376                   4.143080\n",
      "85   18  8  10       O  139.807746                   8.045370\n",
      "92   19  8  11       O  143.763405                   3.955659\n",
      "100  20  8  12       O  151.371400                   7.607995\n",
      "108  21  8  13       O  155.176854                   3.805454\n",
      "116  22  8  14       O  162.027162                   6.850308\n",
      "125  23  8  15       O  164.760155                   2.732993\n",
      "133  24  8  16       O  168.952440                   4.192285\n",
      "142  25  8  17       O  168.195125                  -0.757315\n",
      "150  26  8  18       O  168.934428                   0.739303\n"
     ]
    },
    {
     "data": {
      "image/png": "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\n",
      "text/plain": [
       "<Figure size 720x432 with 1 Axes>"
      ]
     },
     "metadata": {},
     "output_type": "display_data"
    }
   ],
>>>>>>> 1cec7587fa819aac109c52d92c370d3d5bcd5c05
   "source": [
    "# Common imports\n",
    "import numpy as np\n",
    "import pandas as pd\n",
    "import matplotlib.pyplot as plt\n",
    "import os\n",
    "from pylab import plt, mpl\n",
    "plt.style.use('seaborn')\n",
    "mpl.rcParams['font.family'] = 'serif'\n",
    "\n",
    "def MakePlot(x,y, styles, labels, axlabels):\n",
    "    plt.figure(figsize=(10,6))\n",
    "    for i in range(len(x)):\n",
    "        plt.plot(x[i], y[i], styles[i], label = labels[i])\n",
    "        plt.xlabel(axlabels[0])\n",
    "        plt.ylabel(axlabels[1])\n",
    "    plt.legend(loc=0)\n",
    "\n",
    "\n",
    "\n",
    "# Where to save the figures and data files\n",
    "PROJECT_ROOT_DIR = \"Results\"\n",
    "FIGURE_ID = \"Results/FigureFiles\"\n",
    "DATA_ID = \"DataFiles/\"\n",
    "\n",
    "if not os.path.exists(PROJECT_ROOT_DIR):\n",
    "    os.mkdir(PROJECT_ROOT_DIR)\n",
    "\n",
    "if not os.path.exists(FIGURE_ID):\n",
    "    os.makedirs(FIGURE_ID)\n",
    "\n",
    "if not os.path.exists(DATA_ID):\n",
    "    os.makedirs(DATA_ID)\n",
    "\n",
    "def image_path(fig_id):\n",
    "    return os.path.join(FIGURE_ID, fig_id)\n",
    "\n",
    "def data_path(dat_id):\n",
    "    return os.path.join(DATA_ID, dat_id)\n",
    "\n",
    "def save_fig(fig_id):\n",
    "    plt.savefig(image_path(fig_id) + \".png\", format='png')\n",
    "\n",
    "infile = open(data_path(\"MassEval2016.dat\"),'r')\n",
    "\n",
    "\n",
    "# Read the experimental data with Pandas\n",
    "Masses = pd.read_fwf(infile, usecols=(2,3,4,6,11),\n",
    "              names=('N', 'Z', 'A', 'Element', 'Ebinding'),\n",
    "              widths=(1,3,5,5,5,1,3,4,1,13,11,11,9,1,2,11,9,1,3,1,12,11,1),\n",
    "              header=39,\n",
    "              index_col=False)\n",
    "\n",
    "# Extrapolated values are indicated by '#' in place of the decimal place, so\n",
    "# the Ebinding column won't be numeric. Coerce to float and drop these entries.\n",
    "Masses['Ebinding'] = pd.to_numeric(Masses['Ebinding'], errors='coerce')\n",
    "Masses = Masses.dropna()\n",
    "# Convert from keV to MeV.\n",
    "Masses['Ebinding'] /= 1000\n",
    "A = Masses['A']\n",
    "Z = Masses['Z']\n",
    "N = Masses['N']\n",
    "Element = Masses['Element']\n",
    "Energies = Masses['Ebinding']*A\n",
    "\n",
    "df = pd.DataFrame({'A':A,'Z':Z, 'N':N,'Element':Element,'Energies':Energies})\n",
    "# Her we pick the oyxgen isotopes\n",
    "Nucleus = df.loc[lambda df: df.Z==8, :]\n",
    "# drop cases with no number\n",
    "Nucleus = Nucleus.dropna()\n",
    "# Here we do the magic and obtain the neutron separation energies, one line of code!!\n",
    "Nucleus['NeutronSeparationEnergies'] = Nucleus['Energies'].diff(+1)\n",
    "print(Nucleus)\n",
    "MakePlot([Nucleus.A], [Nucleus.NeutronSeparationEnergies], ['b'], ['Neutron Separation Energy'], ['$A$','$S_n$'])\n",
    "save_fig('Nucleus')\n",
    "plt.show()"
   ]
  },
  {
   "cell_type": "markdown",
   "metadata": {},
   "source": [
    "## A first summary\n",
    "\n",
    "The aim behind these introductory words was to present to you various\n",
    "Python libraries and their functionalities, in particular libraries like\n",
    "**numpy**, **pandas**, **xarray** and **matplotlib** and other that make our life much easier\n",
    "in handling various data sets and visualizing data. \n",
    "\n",
    "Furthermore,\n",
    "**Scikit-Learn** allows us with few lines of code to implement popular\n",
    "Machine Learning algorithms for supervised learning. Later we will meet **Tensorflow**, a powerful library for deep learning. \n",
    "Now it is time to dive more into the details of various methods. We will start with linear regression and try to take a deeper look at what it entails."
   ]
  }
 ],
 "metadata": {
  "kernelspec": {
   "display_name": "Python 3",
   "language": "python",
   "name": "python3"
  },
  "language_info": {
   "codemirror_mode": {
    "name": "ipython",
    "version": 3
   },
   "file_extension": ".py",
   "mimetype": "text/x-python",
   "name": "python",
   "nbconvert_exporter": "python",
   "pygments_lexer": "ipython3",
<<<<<<< HEAD
   "version": "3.6.8"
=======
   "version": "3.7.7"
>>>>>>> 1cec7587fa819aac109c52d92c370d3d5bcd5c05
  }
 },
 "nbformat": 4,
 "nbformat_minor": 2
}
